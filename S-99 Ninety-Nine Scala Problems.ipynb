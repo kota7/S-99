{
 "cells": [
  {
   "cell_type": "markdown",
   "metadata": {},
   "source": [
    "Problem site: [http://aperiodic.net/phil/scala/s-99/](http://aperiodic.net/phil/scala/s-99/)\n"
   ]
  },
  {
   "cell_type": "markdown",
   "metadata": {},
   "source": [
    "### P01 (*) Find the last element of a list.\n",
    "  \n",
    "Example:\n",
    "\n",
    "```scala\n",
    "scala> last(List(1, 1, 2, 3, 5, 8))\n",
    "res0: Int = 8\n",
    "```"
   ]
  },
  {
   "cell_type": "code",
   "execution_count": 154,
   "metadata": {},
   "outputs": [
    {
     "data": {
      "text/plain": [
       "defined \u001b[32mfunction\u001b[39m \u001b[36mlast\u001b[39m\n",
       "\u001b[36mres153_1\u001b[39m: \u001b[32mInt\u001b[39m = \u001b[32m8\u001b[39m"
      ]
     },
     "execution_count": 154,
     "metadata": {},
     "output_type": "execute_result"
    }
   ],
   "source": [
    "def last[T](x: List[T]): T = x match {\n",
    "  case Nil      => throw new NoSuchElementException(\"last(Nil)\")\n",
    "  case a :: Nil => a\n",
    "  case a :: as  => last(as)\n",
    "}\n",
    "\n",
    "last(List(1, 1, 2, 3, 5, 8))"
   ]
  },
  {
   "cell_type": "markdown",
   "metadata": {},
   "source": [
    "### P02 (*) Find the last but one element of a list.\n",
    "\n",
    "Example:\n",
    "\n",
    "```scala\n",
    "scala> penultimate(List(1, 1, 2, 3, 5, 8))\n",
    "res0: Int = 5\n",
    "```"
   ]
  },
  {
   "cell_type": "code",
   "execution_count": 155,
   "metadata": {},
   "outputs": [
    {
     "data": {
      "text/plain": [
       "defined \u001b[32mfunction\u001b[39m \u001b[36mpenultimate\u001b[39m\n",
       "\u001b[36mres154_1\u001b[39m: \u001b[32mInt\u001b[39m = \u001b[32m5\u001b[39m"
      ]
     },
     "execution_count": 155,
     "metadata": {},
     "output_type": "execute_result"
    }
   ],
   "source": [
    "def penultimate[T](x: List[T]): T = x match {\n",
    "  case Nil | _ :: Nil  => throw new NoSuchElementException(\"penultimate with list shorter than 2\")\n",
    "  case a1 :: a2 :: Nil => a1\n",
    "  case a :: as         => penultimate(as)\n",
    "}\n",
    "\n",
    "penultimate(List(1, 1, 2, 3, 5, 8))"
   ]
  },
  {
   "cell_type": "markdown",
   "metadata": {},
   "source": [
    "### P03 (*) Find the Kth element of a list.\n",
    "\n",
    "By convention, the first element in the list is element 0.\n",
    "\n",
    "Example:\n",
    "\n",
    "```scala\n",
    "scala> nth(2, List(1, 1, 2, 3, 5, 8))\n",
    "res0: Int = 2\n",
    "```"
   ]
  },
  {
   "cell_type": "code",
   "execution_count": 156,
   "metadata": {},
   "outputs": [
    {
     "data": {
      "text/plain": [
       "defined \u001b[32mfunction\u001b[39m \u001b[36mnth\u001b[39m\n",
       "\u001b[36mres155_1\u001b[39m: \u001b[32mInt\u001b[39m = \u001b[32m2\u001b[39m"
      ]
     },
     "execution_count": 156,
     "metadata": {},
     "output_type": "execute_result"
    }
   ],
   "source": [
    "def nth[T](i: Int, x: List[T]): T = {\n",
    "  if (x.length < i) throw new NoSuchElementException(\"x is shorter than i\")\n",
    "  if (i < 0) throw new NoSuchElementException(\"i is negative\")\n",
    "  else if (i == 0) x.head\n",
    "  else nth(i-1, x.tail)\n",
    "}\n",
    "\n",
    "nth(2, List(1, 1, 2, 3, 5, 8))"
   ]
  },
  {
   "cell_type": "markdown",
   "metadata": {},
   "source": [
    "### P04 (*) Find the number of elements of a list.\n",
    "\n",
    "Example:\n",
    "\n",
    "```scala\n",
    "scala> length(List(1, 1, 2, 3, 5, 8))\n",
    "res0: Int = 6\n",
    "```"
   ]
  },
  {
   "cell_type": "code",
   "execution_count": 157,
   "metadata": {},
   "outputs": [
    {
     "data": {
      "text/plain": [
       "defined \u001b[32mfunction\u001b[39m \u001b[36mlength\u001b[39m\n",
       "\u001b[36mres156_1\u001b[39m: \u001b[32mInt\u001b[39m = \u001b[32m6\u001b[39m\n",
       "\u001b[36mres156_2\u001b[39m: \u001b[32mInt\u001b[39m = \u001b[32m0\u001b[39m\n",
       "\u001b[36mres156_3\u001b[39m: \u001b[32mInt\u001b[39m = \u001b[32m1\u001b[39m"
      ]
     },
     "execution_count": 157,
     "metadata": {},
     "output_type": "execute_result"
    }
   ],
   "source": [
    "def length[T](x: List[T]): Int = {\n",
    "  def loop(acc: Int, y: List[T]): Int = y match {\n",
    "    case Nil      => acc\n",
    "    case a :: as  => loop(acc+1, as)    \n",
    "  }\n",
    "  loop(0, x)\n",
    "}\n",
    "\n",
    "length(List(1, 1, 2, 3, 5, 8))\n",
    "length(Nil)\n",
    "length(List(8))"
   ]
  },
  {
   "cell_type": "markdown",
   "metadata": {},
   "source": [
    "### P05 (*) Reverse a list.\n",
    "\n",
    "Example:\n",
    "\n",
    "```scala\n",
    "scala> reverse(List(1, 1, 2, 3, 5, 8))\n",
    "res0: List[Int] = List(8, 5, 3, 2, 1, 1)\n",
    "```"
   ]
  },
  {
   "cell_type": "code",
   "execution_count": 158,
   "metadata": {},
   "outputs": [
    {
     "data": {
      "text/plain": [
       "defined \u001b[32mfunction\u001b[39m \u001b[36mreverse\u001b[39m\n",
       "\u001b[36mres157_1\u001b[39m: \u001b[32mList\u001b[39m[\u001b[32mInt\u001b[39m] = \u001b[33mList\u001b[39m(\u001b[32m8\u001b[39m, \u001b[32m5\u001b[39m, \u001b[32m3\u001b[39m, \u001b[32m2\u001b[39m, \u001b[32m1\u001b[39m, \u001b[32m1\u001b[39m)"
      ]
     },
     "execution_count": 158,
     "metadata": {},
     "output_type": "execute_result"
    }
   ],
   "source": [
    "def reverse[T](x: List[T]): List[T] = {\n",
    "  def loop(acc: List[T], y: List[T]): List[T] = y match {\n",
    "    case Nil  => acc\n",
    "    case a :: as => loop(a :: acc, as)\n",
    "  }\n",
    "  loop(Nil, x)\n",
    "}\n",
    "\n",
    "reverse(List(1, 1, 2, 3, 5, 8))"
   ]
  },
  {
   "cell_type": "markdown",
   "metadata": {},
   "source": [
    "### P06 (*) Find out whether a list is a palindrome.\n",
    "\n",
    "Example:\n",
    "\n",
    "```scala\n",
    "scala> isPalindrome(List(1, 2, 3, 2, 1))\n",
    "res0: Boolean = true\n",
    "```"
   ]
  },
  {
   "cell_type": "code",
   "execution_count": 159,
   "metadata": {},
   "outputs": [
    {
     "data": {
      "text/plain": [
       "defined \u001b[32mfunction\u001b[39m \u001b[36misPalindrome\u001b[39m\n",
       "\u001b[36mres158_1\u001b[39m: \u001b[32mBoolean\u001b[39m = \u001b[32mtrue\u001b[39m\n",
       "\u001b[36mres158_2\u001b[39m: \u001b[32mBoolean\u001b[39m = \u001b[32mtrue\u001b[39m\n",
       "\u001b[36mres158_3\u001b[39m: \u001b[32mBoolean\u001b[39m = \u001b[32mfalse\u001b[39m\n",
       "\u001b[36mres158_4\u001b[39m: \u001b[32mBoolean\u001b[39m = \u001b[32mtrue\u001b[39m\n",
       "\u001b[36mres158_5\u001b[39m: \u001b[32mBoolean\u001b[39m = \u001b[32mtrue\u001b[39m\n",
       "\u001b[36mres158_6\u001b[39m: \u001b[32mBoolean\u001b[39m = \u001b[32mfalse\u001b[39m"
      ]
     },
     "execution_count": 159,
     "metadata": {},
     "output_type": "execute_result"
    }
   ],
   "source": [
    "def isPalindrome[T](x: List[T]): Boolean = {\n",
    "  def helper(l1: List[T], l2: List[T]): Boolean = {\n",
    "    if (l1.length==0) true\n",
    "    else if (l1.length == l2.length) {\n",
    "      if (l1.head == l2.head) helper(l1.tail, l2.tail) else false\n",
    "    }\n",
    "    else if (l1.length == l2.length+1) helper(l1.tail, l2)\n",
    "    else helper(l1.tail, l1.head :: l2)\n",
    "  }\n",
    "  helper(x, Nil)\n",
    "}\n",
    "\n",
    "isPalindrome(List(1, 2, 3, 2, 1))\n",
    "isPalindrome(List(1, 2, 2, 1))\n",
    "isPalindrome(List(1, 3, 2, 1))\n",
    "isPalindrome(List(10, 10))\n",
    "isPalindrome(List(99))\n",
    "isPalindrome(List(5, 4))"
   ]
  },
  {
   "cell_type": "markdown",
   "metadata": {
    "collapsed": true
   },
   "source": [
    "### P07 (**) Flatten a nested list structure.\n",
    "    \n",
    "Example:\n",
    "\n",
    "```scala\n",
    "scala> flatten(List(List(1, 1), 2, List(3, List(5, 8))))\n",
    "res0: List[Any] = List(1, 1, 2, 3, 5, 8)\n",
    "```"
   ]
  },
  {
   "cell_type": "code",
   "execution_count": 160,
   "metadata": {},
   "outputs": [
    {
     "data": {
      "text/plain": [
       "defined \u001b[32mfunction\u001b[39m \u001b[36mflatten\u001b[39m\n",
       "\u001b[36mres159_1\u001b[39m: \u001b[32mList\u001b[39m[\u001b[32mAny\u001b[39m] = \u001b[33mList\u001b[39m(1, 1, 2, 3, 5, 8)"
      ]
     },
     "execution_count": 160,
     "metadata": {},
     "output_type": "execute_result"
    }
   ],
   "source": [
    "def flatten(x: List[Any]): List[Any] = { \n",
    "  x match {\n",
    "    case Nil                => Nil       \n",
    "    case (a: List[_]) :: as => flatten(a) ::: flatten(as)  \n",
    "    case a :: as            => a :: flatten(as)  \n",
    "  } \n",
    "}\n",
    "flatten(List(List(1, 1), 2, List(3, List(5, 8))))"
   ]
  },
  {
   "cell_type": "markdown",
   "metadata": {
    "collapsed": true
   },
   "source": [
    "### P08 (**) Eliminate consecutive duplicates of list elements.\n",
    "\n",
    "If a list contains repeated elements they should be replaced with a single copy of the element. \n",
    "The order of the elements should not be changed.\n",
    "\n",
    "Example:\n",
    "\n",
    "```scala\n",
    "scala> compress(List('a, 'a, 'a, 'a, 'b, 'c, 'c, 'a, 'a, 'd, 'e, 'e, 'e, 'e))\n",
    "res0: List[Symbol] = List('a, 'b, 'c, 'a, 'd, 'e)\n",
    "```"
   ]
  },
  {
   "cell_type": "code",
   "execution_count": 161,
   "metadata": {},
   "outputs": [
    {
     "data": {
      "text/plain": [
       "defined \u001b[32mfunction\u001b[39m \u001b[36mcompress\u001b[39m\n",
       "\u001b[36mres160_1\u001b[39m: \u001b[32mList\u001b[39m[\u001b[32mSymbol\u001b[39m] = \u001b[33mList\u001b[39m(\u001b[32m'a\u001b[39m, \u001b[32m'b\u001b[39m, \u001b[32m'c\u001b[39m, \u001b[32m'a\u001b[39m, \u001b[32m'd\u001b[39m, \u001b[32m'e\u001b[39m)"
      ]
     },
     "execution_count": 161,
     "metadata": {},
     "output_type": "execute_result"
    }
   ],
   "source": [
    "def compress[T](x: List[T]): List[T] = {\n",
    "  def inner(acc: List[T], y: List[T]): List[T] = {\n",
    "    y match {\n",
    "      case Nil      => acc\n",
    "      case a :: Nil => a :: acc \n",
    "      case a :: as  => if (a==as.head) inner(acc, as) else inner(a::acc, as)\n",
    "    }  \n",
    "  }\n",
    "  inner(Nil, x).reverse\n",
    "/*  x match {\n",
    "    case Nil => Nil\n",
    "    case a :: Nil => a :: Nil\n",
    "    case a :: as => if (a==as.head) compress(as) else a :: compress(as)\n",
    "  }\n",
    "  */\n",
    "}\n",
    "compress(List('a, 'a, 'a, 'a, 'b, 'c, 'c, 'a, 'a, 'd, 'e, 'e, 'e, 'e))"
   ]
  },
  {
   "cell_type": "markdown",
   "metadata": {},
   "source": [
    "### P09 (**) Pack consecutive duplicates of list elements into sublists.\n",
    "\n",
    "If a list contains repeated elements they should be placed in separate sublists.\n",
    "\n",
    "Example:\n",
    "\n",
    "```scala\n",
    "scala> pack(List('a, 'a, 'a, 'a, 'b, 'c, 'c, 'a, 'a, 'd, 'e, 'e, 'e, 'e))\n",
    "res0: List[List[Symbol]] = List(List('a, 'a, 'a, 'a), List('b), List('c, 'c), List('a, 'a), List('d), List('e, 'e, 'e, 'e))\n",
    "```"
   ]
  },
  {
   "cell_type": "code",
   "execution_count": 162,
   "metadata": {},
   "outputs": [
    {
     "data": {
      "text/plain": [
       "defined \u001b[32mfunction\u001b[39m \u001b[36mpack\u001b[39m\n",
       "\u001b[36mres161_1\u001b[39m: \u001b[32mList\u001b[39m[\u001b[32mList\u001b[39m[\u001b[32mSymbol\u001b[39m]] = \u001b[33mList\u001b[39m(\n",
       "  \u001b[33mList\u001b[39m(\u001b[32m'a\u001b[39m, \u001b[32m'a\u001b[39m, \u001b[32m'a\u001b[39m, \u001b[32m'a\u001b[39m),\n",
       "  \u001b[33mList\u001b[39m(\u001b[32m'b\u001b[39m),\n",
       "  \u001b[33mList\u001b[39m(\u001b[32m'c\u001b[39m, \u001b[32m'c\u001b[39m),\n",
       "  \u001b[33mList\u001b[39m(\u001b[32m'a\u001b[39m, \u001b[32m'a\u001b[39m),\n",
       "  \u001b[33mList\u001b[39m(\u001b[32m'd\u001b[39m),\n",
       "  \u001b[33mList\u001b[39m(\u001b[32m'e\u001b[39m, \u001b[32m'e\u001b[39m, \u001b[32m'e\u001b[39m, \u001b[32m'e\u001b[39m)\n",
       ")"
      ]
     },
     "execution_count": 162,
     "metadata": {},
     "output_type": "execute_result"
    }
   ],
   "source": [
    "def pack[T](x: List[T]): List[List[T]] = {\n",
    "  def inner(acc: List[List[T]], cur: T, curAcc: List[T], y: List[T]): List[List[T]] = {\n",
    "    y match {\n",
    "      case Nil => curAcc::acc\n",
    "      case a :: as => {\n",
    "        if (a == cur) inner(acc, cur, a::curAcc, as) \n",
    "        else          inner(curAcc::acc, a, List(a), as)\n",
    "      }\n",
    "    }  \n",
    "  }\n",
    "  x match {\n",
    "    case Nil => Nil\n",
    "    case a::as => inner(Nil, a, List(a), as).reverse\n",
    "  }\n",
    "}\n",
    "pack(List('a, 'a, 'a, 'a, 'b, 'c, 'c, 'a, 'a, 'd, 'e, 'e, 'e, 'e))"
   ]
  },
  {
   "cell_type": "markdown",
   "metadata": {},
   "source": [
    "### P10 (*) Run-length encoding of a list.\n",
    "\n",
    "Use the result of problem P09 to implement the so-called run-length encoding data compression method. Consecutive duplicates of elements are encoded as tuples (N, E) where N is the number of duplicates of the element E.\n",
    "\n",
    "Example:\n",
    "\n",
    "```scala\n",
    "scala> encode(List('a, 'a, 'a, 'a, 'b, 'c, 'c, 'a, 'a, 'd, 'e, 'e, 'e, 'e))\n",
    "res0: List[(Int, Symbol)] = List((4,'a), (1,'b), (2,'c), (2,'a), (1,'d), (4,'e))\n",
    "```"
   ]
  },
  {
   "cell_type": "code",
   "execution_count": 163,
   "metadata": {},
   "outputs": [
    {
     "data": {
      "text/plain": [
       "defined \u001b[32mfunction\u001b[39m \u001b[36mencode\u001b[39m\n",
       "\u001b[36mres162_1\u001b[39m: \u001b[32mList\u001b[39m[(\u001b[32mInt\u001b[39m, \u001b[32mSymbol\u001b[39m)] = \u001b[33mList\u001b[39m((\u001b[32m4\u001b[39m, \u001b[32m'a\u001b[39m), (\u001b[32m1\u001b[39m, \u001b[32m'b\u001b[39m), (\u001b[32m2\u001b[39m, \u001b[32m'c\u001b[39m), (\u001b[32m2\u001b[39m, \u001b[32m'a\u001b[39m), (\u001b[32m1\u001b[39m, \u001b[32m'd\u001b[39m), (\u001b[32m4\u001b[39m, \u001b[32m'e\u001b[39m))"
      ]
     },
     "execution_count": 163,
     "metadata": {},
     "output_type": "execute_result"
    }
   ],
   "source": [
    "def encode[T](x: List[T]): List[(Int, T)] = {\n",
    "  pack(x) map { y: List[T] => (y.length, y.head) }\n",
    "}\n",
    "encode(List('a, 'a, 'a, 'a, 'b, 'c, 'c, 'a, 'a, 'd, 'e, 'e, 'e, 'e))"
   ]
  },
  {
   "cell_type": "markdown",
   "metadata": {},
   "source": [
    "### P11 (*) Modified run-length encoding.\n",
    "    \n",
    "Modify the result of problem P10 in such a way that if an element has no duplicates it is simply copied into the result list. Only elements with duplicates are transferred as (N, E) terms. \n",
    "\n",
    "Example:\n",
    "\n",
    "```scala\n",
    "scala> encodeModified(List('a, 'a, 'a, 'a, 'b, 'c, 'c, 'a, 'a, 'd, 'e, 'e, 'e, 'e))\n",
    "res0: List[Any] = List((4,'a), 'b, (2,'c), (2,'a), 'd, (4,'e))\n",
    "```"
   ]
  },
  {
   "cell_type": "code",
   "execution_count": 164,
   "metadata": {},
   "outputs": [
    {
     "data": {
      "text/plain": [
       "defined \u001b[32mfunction\u001b[39m \u001b[36mencodeModified\u001b[39m\n",
       "\u001b[36mres163_1\u001b[39m: \u001b[32mList\u001b[39m[\u001b[32mAny\u001b[39m] = \u001b[33mList\u001b[39m((4,'a), 'b, (2,'c), (2,'a), 'd, (4,'e))"
      ]
     },
     "execution_count": 164,
     "metadata": {},
     "output_type": "execute_result"
    }
   ],
   "source": [
    "def encodeModified[T](x: List[T]): List[Any] = {\n",
    "  pack(x) map { y: List[T] => if (y.length==1) y.head else (y.length, y.head) }\n",
    "}\n",
    "encodeModified(List('a, 'a, 'a, 'a, 'b, 'c, 'c, 'a, 'a, 'd, 'e, 'e, 'e, 'e))"
   ]
  },
  {
   "cell_type": "markdown",
   "metadata": {},
   "source": [
    "### P12 (**) Decode a run-length encoded list.\n",
    "\n",
    "Given a run-length code list generated as specified in problem P10, construct its uncompressed version.\n",
    "\n",
    "Example:\n",
    "\n",
    "```scala\n",
    "scala> decode(List((4, 'a), (1, 'b), (2, 'c), (2, 'a), (1, 'd), (4, 'e)))\n",
    "res0: List[Symbol] = List('a, 'a, 'a, 'a, 'b, 'c, 'c, 'a, 'a, 'd, 'e, 'e, 'e, 'e)\n",
    "```"
   ]
  },
  {
   "cell_type": "code",
   "execution_count": 165,
   "metadata": {},
   "outputs": [
    {
     "data": {
      "text/plain": [
       "defined \u001b[32mfunction\u001b[39m \u001b[36mdecode\u001b[39m\n",
       "\u001b[36mres164_1\u001b[39m: \u001b[32mList\u001b[39m[\u001b[32mSymbol\u001b[39m] = \u001b[33mList\u001b[39m(\u001b[32m'a\u001b[39m, \u001b[32m'a\u001b[39m, \u001b[32m'a\u001b[39m, \u001b[32m'a\u001b[39m, \u001b[32m'b\u001b[39m, \u001b[32m'c\u001b[39m, \u001b[32m'c\u001b[39m, \u001b[32m'a\u001b[39m, \u001b[32m'a\u001b[39m, \u001b[32m'd\u001b[39m, \u001b[32m'e\u001b[39m, \u001b[32m'e\u001b[39m, \u001b[32m'e\u001b[39m, \u001b[32m'e\u001b[39m)"
      ]
     },
     "execution_count": 165,
     "metadata": {},
     "output_type": "execute_result"
    }
   ],
   "source": [
    "def decode[T](x: List[(Int, T)]) = {\n",
    "// x flatMap { y: (Int, T) => (1 to y._1) map { Int => y._2 } }  \n",
    "  x flatMap { y: (Int, T) => List.fill(y._1)(y._2) }  \n",
    "}\n",
    "decode(List((4, 'a), (1, 'b), (2, 'c), (2, 'a), (1, 'd), (4, 'e)))"
   ]
  },
  {
   "cell_type": "markdown",
   "metadata": {
    "collapsed": true
   },
   "source": [
    "### P13 (**) Run-length encoding of a list (direct solution).\n",
    "\n",
    "Implement the so-called run-length encoding data compression method directly. I.e. don't use other methods you've written (like P09's pack); do all the work directly.\n",
    "\n",
    "Example:\n",
    "\n",
    "```scala\n",
    "scala> encodeDirect(List('a, 'a, 'a, 'a, 'b, 'c, 'c, 'a, 'a, 'd, 'e, 'e, 'e, 'e))\n",
    "res0: List[(Int, Symbol)] = List((4,'a), (1,'b), (2,'c), (2,'a), (1,'d), (4,'e))\n",
    "```"
   ]
  },
  {
   "cell_type": "code",
   "execution_count": 166,
   "metadata": {},
   "outputs": [
    {
     "data": {
      "text/plain": [
       "defined \u001b[32mfunction\u001b[39m \u001b[36mencodeDirect\u001b[39m\n",
       "\u001b[36mres165_1\u001b[39m: \u001b[32mList\u001b[39m[(\u001b[32mInt\u001b[39m, \u001b[32mSymbol\u001b[39m)] = \u001b[33mList\u001b[39m((\u001b[32m4\u001b[39m, \u001b[32m'a\u001b[39m), (\u001b[32m1\u001b[39m, \u001b[32m'b\u001b[39m), (\u001b[32m2\u001b[39m, \u001b[32m'c\u001b[39m), (\u001b[32m2\u001b[39m, \u001b[32m'a\u001b[39m), (\u001b[32m1\u001b[39m, \u001b[32m'd\u001b[39m), (\u001b[32m4\u001b[39m, \u001b[32m'e\u001b[39m))"
      ]
     },
     "execution_count": 166,
     "metadata": {},
     "output_type": "execute_result"
    }
   ],
   "source": [
    "def encodeDirect[T](x: List[T]): List[(Int, T)] = {\n",
    "  def inner(acc: List[(Int, T)], cur: T, curCount: Int, y: List[T]): List[(Int, T)] = {\n",
    "    y match {\n",
    "      case Nil     => (curCount, cur) :: acc\n",
    "      case a :: as => {\n",
    "        if (a == cur) inner(acc, cur, curCount+1, as) \n",
    "        else          inner((curCount, cur) :: acc, a, 1, as)\n",
    "      }\n",
    "    }  \n",
    "  }\n",
    "  x match {\n",
    "    case Nil     => Nil\n",
    "    case a :: as => inner(Nil, a, 1, as).reverse\n",
    "  }\n",
    "}\n",
    "encodeDirect(List('a, 'a, 'a, 'a, 'b, 'c, 'c, 'a, 'a, 'd, 'e, 'e, 'e, 'e))"
   ]
  },
  {
   "cell_type": "markdown",
   "metadata": {},
   "source": [
    "### P14 (*) Duplicate the elements of a list.\n",
    "\n",
    "Example:\n",
    "\n",
    "```scala\n",
    "scala> duplicate(List('a, 'b, 'c, 'c, 'd))\n",
    "res0: List[Symbol] = List('a, 'a, 'b, 'b, 'c, 'c, 'c, 'c, 'd, 'd)\n",
    "```"
   ]
  },
  {
   "cell_type": "code",
   "execution_count": 167,
   "metadata": {},
   "outputs": [
    {
     "data": {
      "text/plain": [
       "defined \u001b[32mfunction\u001b[39m \u001b[36mduplicate\u001b[39m\n",
       "\u001b[36mres166_1\u001b[39m: \u001b[32mList\u001b[39m[\u001b[32mSymbol\u001b[39m] = \u001b[33mList\u001b[39m(\u001b[32m'a\u001b[39m, \u001b[32m'a\u001b[39m, \u001b[32m'b\u001b[39m, \u001b[32m'b\u001b[39m, \u001b[32m'c\u001b[39m, \u001b[32m'c\u001b[39m, \u001b[32m'c\u001b[39m, \u001b[32m'c\u001b[39m, \u001b[32m'd\u001b[39m, \u001b[32m'd\u001b[39m)"
      ]
     },
     "execution_count": 167,
     "metadata": {},
     "output_type": "execute_result"
    }
   ],
   "source": [
    "def duplicate[T](x: List[T]): List[T] = {\n",
    "  x flatMap { y: T => List.fill(2)(y) }  \n",
    "}\n",
    "duplicate(List('a, 'b, 'c, 'c, 'd))"
   ]
  },
  {
   "cell_type": "markdown",
   "metadata": {},
   "source": [
    "### P15 (**) Duplicate the elements of a list a given number of times.\n",
    "\n",
    "Example:\n",
    "\n",
    "```scala\n",
    "scala> duplicateN(3, List('a, 'b, 'c, 'c, 'd))\n",
    "res0: List[Symbol] = List('a, 'a, 'a, 'b, 'b, 'b, 'c, 'c, 'c, 'c, 'c, 'c, 'd, 'd, 'd)\n",
    "```"
   ]
  },
  {
   "cell_type": "code",
   "execution_count": 168,
   "metadata": {},
   "outputs": [
    {
     "data": {
      "text/plain": [
       "defined \u001b[32mfunction\u001b[39m \u001b[36mduplicateN\u001b[39m\n",
       "\u001b[36mres167_1\u001b[39m: \u001b[32mList\u001b[39m[\u001b[32mSymbol\u001b[39m] = \u001b[33mList\u001b[39m(\u001b[32m'a\u001b[39m, \u001b[32m'a\u001b[39m, \u001b[32m'a\u001b[39m, \u001b[32m'b\u001b[39m, \u001b[32m'b\u001b[39m, \u001b[32m'b\u001b[39m, \u001b[32m'c\u001b[39m, \u001b[32m'c\u001b[39m, \u001b[32m'c\u001b[39m, \u001b[32m'c\u001b[39m, \u001b[32m'c\u001b[39m, \u001b[32m'c\u001b[39m, \u001b[32m'd\u001b[39m, \u001b[32m'd\u001b[39m, \u001b[32m'd\u001b[39m)"
      ]
     },
     "execution_count": 168,
     "metadata": {},
     "output_type": "execute_result"
    }
   ],
   "source": [
    "def duplicateN[T](n: Int, x: List[T]): List[T] = {\n",
    "  x flatMap { y: T => List.fill(n)(y) }  \n",
    "}\n",
    "duplicateN(3, List('a, 'b, 'c, 'c, 'd))"
   ]
  },
  {
   "cell_type": "markdown",
   "metadata": {},
   "source": [
    "### P16 (**) Drop every Nth element from a list.\n",
    "\n",
    "Example:\n",
    "\n",
    "```scala\n",
    "scala> drop(3, List('a, 'b, 'c, 'd, 'e, 'f, 'g, 'h, 'i, 'j, 'k))\n",
    "res0: List[Symbol] = List('a, 'b, 'd, 'e, 'g, 'h, 'j, 'k)\n",
    "```"
   ]
  },
  {
   "cell_type": "code",
   "execution_count": 169,
   "metadata": {},
   "outputs": [
    {
     "data": {
      "text/plain": [
       "defined \u001b[32mfunction\u001b[39m \u001b[36mdrop\u001b[39m\n",
       "\u001b[36mres168_1\u001b[39m: \u001b[32mList\u001b[39m[\u001b[32mSymbol\u001b[39m] = \u001b[33mList\u001b[39m(\u001b[32m'a\u001b[39m, \u001b[32m'b\u001b[39m, \u001b[32m'd\u001b[39m, \u001b[32m'e\u001b[39m, \u001b[32m'g\u001b[39m, \u001b[32m'h\u001b[39m, \u001b[32m'j\u001b[39m, \u001b[32m'k\u001b[39m)"
      ]
     },
     "execution_count": 169,
     "metadata": {},
     "output_type": "execute_result"
    }
   ],
   "source": [
    "def drop[T](i: Int, x: List[T]): List[T] = {\n",
    "  def inner(acc: List[T], y: List[T], cur: Int): List[T] = {\n",
    "    y match {\n",
    "      case Nil     => acc\n",
    "      case a :: as => {\n",
    "        if (cur % i == 0) inner(acc, as, 1) \n",
    "        else              inner(a :: acc, as, cur+1)\n",
    "      }\n",
    "    }\n",
    "  }\n",
    "  inner(Nil, x, 1).reverse\n",
    "}\n",
    "drop(3, List('a, 'b, 'c, 'd, 'e, 'f, 'g, 'h, 'i, 'j, 'k))"
   ]
  },
  {
   "cell_type": "markdown",
   "metadata": {},
   "source": [
    "### P17 (*) Split a list into two parts.\n",
    "\n",
    "The length of the first part is given. Use a Tuple for your result.\n",
    "\n",
    "Example:\n",
    "\n",
    "```scala\n",
    "scala> split(3, List('a, 'b, 'c, 'd, 'e, 'f, 'g, 'h, 'i, 'j, 'k))\n",
    "res0: (List[Symbol], List[Symbol]) = (List('a, 'b, 'c),List('d, 'e, 'f, 'g, 'h, 'i, 'j, 'k))\n",
    "```"
   ]
  },
  {
   "cell_type": "code",
   "execution_count": 170,
   "metadata": {},
   "outputs": [
    {
     "data": {
      "text/plain": [
       "defined \u001b[32mfunction\u001b[39m \u001b[36msplit\u001b[39m\n",
       "\u001b[36mres169_1\u001b[39m: (\u001b[32mList\u001b[39m[\u001b[32mSymbol\u001b[39m], \u001b[32mList\u001b[39m[\u001b[32mSymbol\u001b[39m]) = (\u001b[33mList\u001b[39m(\u001b[32m'a\u001b[39m, \u001b[32m'b\u001b[39m, \u001b[32m'c\u001b[39m), \u001b[33mList\u001b[39m(\u001b[32m'd\u001b[39m, \u001b[32m'e\u001b[39m, \u001b[32m'f\u001b[39m, \u001b[32m'g\u001b[39m, \u001b[32m'h\u001b[39m, \u001b[32m'i\u001b[39m, \u001b[32m'j\u001b[39m, \u001b[32m'k\u001b[39m))\n",
       "\u001b[36mres169_2\u001b[39m: (\u001b[32mList\u001b[39m[\u001b[32mSymbol\u001b[39m], \u001b[32mList\u001b[39m[\u001b[32mSymbol\u001b[39m]) = (\u001b[33mList\u001b[39m(), \u001b[33mList\u001b[39m(\u001b[32m'a\u001b[39m, \u001b[32m'b\u001b[39m, \u001b[32m'c\u001b[39m, \u001b[32m'd\u001b[39m, \u001b[32m'e\u001b[39m, \u001b[32m'f\u001b[39m, \u001b[32m'g\u001b[39m, \u001b[32m'h\u001b[39m, \u001b[32m'i\u001b[39m, \u001b[32m'j\u001b[39m, \u001b[32m'k\u001b[39m))\n",
       "\u001b[36mres169_3\u001b[39m: (\u001b[32mList\u001b[39m[\u001b[32mSymbol\u001b[39m], \u001b[32mList\u001b[39m[\u001b[32mSymbol\u001b[39m]) = (\u001b[33mList\u001b[39m(\u001b[32m'a\u001b[39m, \u001b[32m'b\u001b[39m, \u001b[32m'c\u001b[39m, \u001b[32m'd\u001b[39m, \u001b[32m'e\u001b[39m, \u001b[32m'f\u001b[39m, \u001b[32m'g\u001b[39m, \u001b[32m'h\u001b[39m, \u001b[32m'i\u001b[39m, \u001b[32m'j\u001b[39m, \u001b[32m'k\u001b[39m), \u001b[33mList\u001b[39m())"
      ]
     },
     "execution_count": 170,
     "metadata": {},
     "output_type": "execute_result"
    }
   ],
   "source": [
    "def split[T](i: Int, x: List[T]): (List[T], List[T]) = {\n",
    "  def inner(j: Int, o1: List[T], o2: List[T]): (List[T], List[T]) = {\n",
    "    if (j <= 0) (o1.reverse, o2)\n",
    "    else {\n",
    "      o2 match {\n",
    "        case Nil => throw new IndexOutOfBoundsException()\n",
    "        case a :: as => inner(j-1, a :: o1, as)\n",
    "      }\n",
    "    }\n",
    "  }\n",
    "  inner(i, Nil, x)\n",
    "}\n",
    "split(3, List('a, 'b, 'c, 'd, 'e, 'f, 'g, 'h, 'i, 'j, 'k))\n",
    "split(0, List('a, 'b, 'c, 'd, 'e, 'f, 'g, 'h, 'i, 'j, 'k))\n",
    "split(11, List('a, 'b, 'c, 'd, 'e, 'f, 'g, 'h, 'i, 'j, 'k))\n",
    "//split(12, List('a, 'b, 'c, 'd, 'e, 'f, 'g, 'h, 'i, 'j, 'k))  // error case"
   ]
  },
  {
   "cell_type": "markdown",
   "metadata": {},
   "source": [
    "### P18 (**) Extract a slice from a list.\n",
    "\n",
    "Given two indices, I and K, the slice is the list containing the elements from and including the Ith element up to but not including the Kth element of the original list. Start counting the elements with 0.\n",
    "\n",
    "Example:\n",
    "\n",
    "```scala\n",
    "scala> slice(3, 7, List('a, 'b, 'c, 'd, 'e, 'f, 'g, 'h, 'i, 'j, 'k))\n",
    "res0: List[Symbol] = List('d, 'e, 'f, 'g)\n",
    "```"
   ]
  },
  {
   "cell_type": "code",
   "execution_count": 171,
   "metadata": {},
   "outputs": [
    {
     "data": {
      "text/plain": [
       "defined \u001b[32mfunction\u001b[39m \u001b[36mslice\u001b[39m\n",
       "\u001b[36mres170_1\u001b[39m: \u001b[32mList\u001b[39m[\u001b[32mSymbol\u001b[39m] = \u001b[33mList\u001b[39m(\u001b[32m'd\u001b[39m, \u001b[32m'e\u001b[39m, \u001b[32m'f\u001b[39m, \u001b[32m'g\u001b[39m)"
      ]
     },
     "execution_count": 171,
     "metadata": {},
     "output_type": "execute_result"
    }
   ],
   "source": [
    "def slice[T](i: Int, j: Int, x: List[T]): List[T] = {\n",
    "  def helper(k: Int, y: List[T]): List[T] = if (k <= 0) y else helper(k-1, y.tail)\n",
    "  // `helper` returns y[k:]  \n",
    "  helper(i, x).take(j-i)  \n",
    "}\n",
    "slice(3, 7, List('a, 'b, 'c, 'd, 'e, 'f, 'g, 'h, 'i, 'j, 'k))"
   ]
  },
  {
   "cell_type": "markdown",
   "metadata": {},
   "source": [
    "### P19 (**) Rotate a list N places to the left.\n",
    "\n",
    "Examples:\n",
    "\n",
    "```scala\n",
    "scala> rotate(3, List('a, 'b, 'c, 'd, 'e, 'f, 'g, 'h, 'i, 'j, 'k))\n",
    "res0: List[Symbol] = List('d, 'e, 'f, 'g, 'h, 'i, 'j, 'k, 'a, 'b, 'c)\n",
    "```\n",
    "```scala\n",
    "scala> rotate(-2, List('a, 'b, 'c, 'd, 'e, 'f, 'g, 'h, 'i, 'j, 'k))\n",
    "res1: List[Symbol] = List('j, 'k, 'a, 'b, 'c, 'd, 'e, 'f, 'g, 'h, 'i)\n",
    "```"
   ]
  },
  {
   "cell_type": "code",
   "execution_count": 172,
   "metadata": {},
   "outputs": [
    {
     "data": {
      "text/plain": [
       "defined \u001b[32mfunction\u001b[39m \u001b[36mrotate\u001b[39m\n",
       "\u001b[36mres171_1\u001b[39m: \u001b[32mList\u001b[39m[\u001b[32mSymbol\u001b[39m] = \u001b[33mList\u001b[39m(\u001b[32m'd\u001b[39m, \u001b[32m'e\u001b[39m, \u001b[32m'f\u001b[39m, \u001b[32m'g\u001b[39m, \u001b[32m'h\u001b[39m, \u001b[32m'i\u001b[39m, \u001b[32m'j\u001b[39m, \u001b[32m'k\u001b[39m, \u001b[32m'a\u001b[39m, \u001b[32m'b\u001b[39m, \u001b[32m'c\u001b[39m)\n",
       "\u001b[36mres171_2\u001b[39m: \u001b[32mList\u001b[39m[\u001b[32mSymbol\u001b[39m] = \u001b[33mList\u001b[39m(\u001b[32m'j\u001b[39m, \u001b[32m'k\u001b[39m, \u001b[32m'a\u001b[39m, \u001b[32m'b\u001b[39m, \u001b[32m'c\u001b[39m, \u001b[32m'd\u001b[39m, \u001b[32m'e\u001b[39m, \u001b[32m'f\u001b[39m, \u001b[32m'g\u001b[39m, \u001b[32m'h\u001b[39m, \u001b[32m'i\u001b[39m)\n",
       "\u001b[36mres171_3\u001b[39m: \u001b[32mList\u001b[39m[\u001b[32mSymbol\u001b[39m] = \u001b[33mList\u001b[39m(\u001b[32m'a\u001b[39m, \u001b[32m'b\u001b[39m, \u001b[32m'c\u001b[39m, \u001b[32m'd\u001b[39m, \u001b[32m'e\u001b[39m, \u001b[32m'f\u001b[39m, \u001b[32m'g\u001b[39m, \u001b[32m'h\u001b[39m, \u001b[32m'i\u001b[39m, \u001b[32m'j\u001b[39m, \u001b[32m'k\u001b[39m)\n",
       "\u001b[36mres171_4\u001b[39m: \u001b[32mList\u001b[39m[\u001b[32mSymbol\u001b[39m] = \u001b[33mList\u001b[39m(\u001b[32m'a\u001b[39m, \u001b[32m'b\u001b[39m, \u001b[32m'c\u001b[39m, \u001b[32m'd\u001b[39m, \u001b[32m'e\u001b[39m, \u001b[32m'f\u001b[39m, \u001b[32m'g\u001b[39m, \u001b[32m'h\u001b[39m, \u001b[32m'i\u001b[39m, \u001b[32m'j\u001b[39m, \u001b[32m'k\u001b[39m)\n",
       "\u001b[36mres171_5\u001b[39m: \u001b[32mList\u001b[39m[\u001b[32mSymbol\u001b[39m] = \u001b[33mList\u001b[39m(\u001b[32m'a\u001b[39m, \u001b[32m'b\u001b[39m, \u001b[32m'c\u001b[39m, \u001b[32m'd\u001b[39m, \u001b[32m'e\u001b[39m, \u001b[32m'f\u001b[39m, \u001b[32m'g\u001b[39m, \u001b[32m'h\u001b[39m, \u001b[32m'i\u001b[39m, \u001b[32m'j\u001b[39m, \u001b[32m'k\u001b[39m)"
      ]
     },
     "execution_count": 172,
     "metadata": {},
     "output_type": "execute_result"
    }
   ],
   "source": [
    "def rotate[T](i: Int, x: List[T]): List[T] = {\n",
    "  lazy val n = x.length\n",
    "  val j = if (i >= 0) i else n + i\n",
    "  assert(j >= 0 && j <= n)\n",
    "  def inner(k: Int, o1: List[T], o2: List[T]): List[T] = {\n",
    "    if (k <= 0) o1 ++ o2.reverse \n",
    "    else        inner(k-1, o1.tail, o1.head :: o2)\n",
    "  }\n",
    "  inner(j, x, Nil)\n",
    "}\n",
    "rotate(3, List('a, 'b, 'c, 'd, 'e, 'f, 'g, 'h, 'i, 'j, 'k))\n",
    "rotate(-2, List('a, 'b, 'c, 'd, 'e, 'f, 'g, 'h, 'i, 'j, 'k))\n",
    "//rotate(12, List('a, 'b, 'c, 'd, 'e, 'f, 'g, 'h, 'i, 'j, 'k))   // error\n",
    "rotate(11, List('a, 'b, 'c, 'd, 'e, 'f, 'g, 'h, 'i, 'j, 'k))\n",
    "rotate(0, List('a, 'b, 'c, 'd, 'e, 'f, 'g, 'h, 'i, 'j, 'k))\n",
    "rotate(-11, List('a, 'b, 'c, 'd, 'e, 'f, 'g, 'h, 'i, 'j, 'k))\n",
    "//rotate(-12, List('a, 'b, 'c, 'd, 'e, 'f, 'g, 'h, 'i, 'j, 'k))  // error\n"
   ]
  },
  {
   "cell_type": "markdown",
   "metadata": {},
   "source": [
    "### P20 (*) Remove the Kth element from a list.\n",
    "\n",
    "Return the list and the removed element in a Tuple. Elements are numbered from 0.\n",
    "\n",
    "Example:\n",
    "\n",
    "```scala\n",
    "scala> removeAt(1, List('a, 'b, 'c, 'd))\n",
    "res0: (List[Symbol], Symbol) = (List('a, 'c, 'd),'b)\n",
    "```"
   ]
  },
  {
   "cell_type": "code",
   "execution_count": 173,
   "metadata": {},
   "outputs": [
    {
     "data": {
      "text/plain": [
       "defined \u001b[32mfunction\u001b[39m \u001b[36mremoveAt\u001b[39m\n",
       "\u001b[36mres172_1\u001b[39m: (\u001b[32mList\u001b[39m[\u001b[32mSymbol\u001b[39m], \u001b[32mSymbol\u001b[39m) = (\u001b[33mList\u001b[39m(\u001b[32m'a\u001b[39m, \u001b[32m'c\u001b[39m, \u001b[32m'd\u001b[39m), \u001b[32m'b\u001b[39m)\n",
       "\u001b[36mres172_2\u001b[39m: (\u001b[32mList\u001b[39m[\u001b[32mSymbol\u001b[39m], \u001b[32mSymbol\u001b[39m) = (\u001b[33mList\u001b[39m(\u001b[32m'b\u001b[39m, \u001b[32m'c\u001b[39m, \u001b[32m'd\u001b[39m), \u001b[32m'a\u001b[39m)\n",
       "\u001b[36mres172_3\u001b[39m: (\u001b[32mList\u001b[39m[\u001b[32mSymbol\u001b[39m], \u001b[32mSymbol\u001b[39m) = (\u001b[33mList\u001b[39m(\u001b[32m'a\u001b[39m, \u001b[32m'b\u001b[39m, \u001b[32m'c\u001b[39m), \u001b[32m'd\u001b[39m)"
      ]
     },
     "execution_count": 173,
     "metadata": {},
     "output_type": "execute_result"
    }
   ],
   "source": [
    "def removeAt[T](i: Int, x: List[T]): (List[T], T) = {\n",
    "  def inner(j: Int, o1: List[T], o2: List[T]): (List[T], T) = {\n",
    "    if (j==0) (o1.reverse ++ o2.tail, o2.head) \n",
    "    else      inner(j-1, o2.head :: o1, o2.tail)\n",
    "  }\n",
    "  inner(i, Nil, x)  \n",
    "}\n",
    "removeAt(1, List('a, 'b, 'c, 'd))\n",
    "removeAt(0, List('a, 'b, 'c, 'd))\n",
    "removeAt(3, List('a, 'b, 'c, 'd))\n",
    "//removeAt(4, List('a, 'b, 'c, 'd))   // error"
   ]
  },
  {
   "cell_type": "markdown",
   "metadata": {},
   "source": [
    "### P21 (*) Insert an element at a given position into a list.\n",
    "\n",
    "Example:\n",
    "\n",
    "```scala\n",
    "scala> insertAt('new, 1, List('a, 'b, 'c, 'd))\n",
    "res0: List[Symbol] = List('a, 'new, 'b, 'c, 'd)\n",
    "```"
   ]
  },
  {
   "cell_type": "code",
   "execution_count": 174,
   "metadata": {},
   "outputs": [
    {
     "data": {
      "text/plain": [
       "defined \u001b[32mfunction\u001b[39m \u001b[36minsertAt\u001b[39m\n",
       "\u001b[36mres173_1\u001b[39m: \u001b[32mList\u001b[39m[\u001b[32mSymbol\u001b[39m] = \u001b[33mList\u001b[39m(\u001b[32m'a\u001b[39m, \u001b[32m'new\u001b[39m, \u001b[32m'b\u001b[39m, \u001b[32m'c\u001b[39m, \u001b[32m'd\u001b[39m)"
      ]
     },
     "execution_count": 174,
     "metadata": {},
     "output_type": "execute_result"
    }
   ],
   "source": [
    "def insertAt[T](elem: T, i: Int, x: List[T]): List[T] = {\n",
    "  def inner(j: Int, o1: List[T], o2: List[T]): List[T] = {\n",
    "    if (j==0) o1.reverse ++ (elem :: o2)\n",
    "    else      inner(j-1, o2.head :: o1, o2.tail)\n",
    "  }\n",
    "  inner(i, Nil, x)\n",
    "}\n",
    "insertAt('new, 1, List('a, 'b, 'c, 'd))"
   ]
  },
  {
   "cell_type": "markdown",
   "metadata": {},
   "source": [
    "### P22 (*) Create a list containing all integers within a given range.\n",
    "\n",
    "Example:\n",
    "\n",
    "```scala\n",
    "scala> range(4, 9)\n",
    "res0: List[Int] = List(4, 5, 6, 7, 8, 9)\n",
    "```"
   ]
  },
  {
   "cell_type": "code",
   "execution_count": 175,
   "metadata": {},
   "outputs": [
    {
     "data": {
      "text/plain": [
       "defined \u001b[32mfunction\u001b[39m \u001b[36mrange\u001b[39m\n",
       "\u001b[36mres174_1\u001b[39m: \u001b[32mList\u001b[39m[\u001b[32mInt\u001b[39m] = \u001b[33mList\u001b[39m(\u001b[32m4\u001b[39m, \u001b[32m5\u001b[39m, \u001b[32m6\u001b[39m, \u001b[32m7\u001b[39m, \u001b[32m8\u001b[39m, \u001b[32m9\u001b[39m)"
      ]
     },
     "execution_count": 175,
     "metadata": {},
     "output_type": "execute_result"
    }
   ],
   "source": [
    "def range(i: Int, j: Int): List[Int] = (i to j).toList\n",
    "range(4, 9)"
   ]
  },
  {
   "cell_type": "markdown",
   "metadata": {},
   "source": [
    "### P23 (**) Extract a given number of randomly selected elements from a list.\n",
    "\n",
    "Example:\n",
    "\n",
    "```scala\n",
    "scala> randomSelect(3, List('a, 'b, 'c, 'd, 'f, 'g, 'h))\n",
    "res0: List[Symbol] = List('e, 'd, 'a)\n",
    "```\n",
    "\n",
    "Hint: Use the solution to problem P20"
   ]
  },
  {
   "cell_type": "code",
   "execution_count": 176,
   "metadata": {},
   "outputs": [
    {
     "data": {
      "text/plain": [
       "defined \u001b[32mfunction\u001b[39m \u001b[36mrandomSelect\u001b[39m\n",
       "\u001b[36mres175_1\u001b[39m: \u001b[32mList\u001b[39m[\u001b[32mSymbol\u001b[39m] = \u001b[33mList\u001b[39m(\u001b[32m'b\u001b[39m, \u001b[32m'a\u001b[39m, \u001b[32m'f\u001b[39m)"
      ]
     },
     "execution_count": 176,
     "metadata": {},
     "output_type": "execute_result"
    }
   ],
   "source": [
    "def randomSelect[T](n: Int, x: List[T]): List[T] = {\n",
    "  val rnd = scala.util.Random\n",
    "  def inner(acc: List[T], y: List[T], ysize:Int, m: Int): List[T] = {    \n",
    "    if (m==0) acc\n",
    "    else {\n",
    "      val tmp = removeAt(rnd.nextInt(ysize), y)\n",
    "      inner(tmp._2 :: acc, tmp._1, ysize-1, m-1)\n",
    "    }\n",
    "  }\n",
    "  inner(Nil, x, x.length, n)\n",
    "}\n",
    "randomSelect(3, List('a, 'b, 'c, 'd, 'f, 'g, 'h))"
   ]
  },
  {
   "cell_type": "markdown",
   "metadata": {},
   "source": [
    "### P24 (*) Lotto: Draw N different random numbers from the set 1..M.\n",
    "\n",
    "Example:\n",
    "\n",
    "```scala\n",
    "scala> lotto(6, 49)\n",
    "res0: List[Int] = List(23, 1, 17, 33, 21, 37)\n",
    "```"
   ]
  },
  {
   "cell_type": "code",
   "execution_count": 177,
   "metadata": {},
   "outputs": [
    {
     "data": {
      "text/plain": [
       "defined \u001b[32mfunction\u001b[39m \u001b[36mlotto\u001b[39m\n",
       "\u001b[36mres176_1\u001b[39m: \u001b[32mList\u001b[39m[\u001b[32mInt\u001b[39m] = \u001b[33mList\u001b[39m(\u001b[32m38\u001b[39m, \u001b[32m34\u001b[39m, \u001b[32m20\u001b[39m, \u001b[32m22\u001b[39m, \u001b[32m26\u001b[39m, \u001b[32m8\u001b[39m)"
      ]
     },
     "execution_count": 177,
     "metadata": {},
     "output_type": "execute_result"
    }
   ],
   "source": [
    "def lotto(n: Int, m: Int): List[Int] = randomSelect(n, (1 to m).toList)\n",
    "lotto(6, 49)"
   ]
  },
  {
   "cell_type": "markdown",
   "metadata": {},
   "source": [
    "### P25 (*) Generate a random permutation of the elements of a list.\n",
    "\n",
    "Hint: Use the solution of problem P23.\n",
    "\n",
    "Example:\n",
    "\n",
    "```scala\n",
    "scala> randomPermute(List('a, 'b, 'c, 'd, 'e, 'f))\n",
    "res0: List[Symbol] = List('b, 'a, 'd, 'c, 'e, 'f)\n",
    "```"
   ]
  },
  {
   "cell_type": "code",
   "execution_count": 178,
   "metadata": {},
   "outputs": [
    {
     "data": {
      "text/plain": [
       "defined \u001b[32mfunction\u001b[39m \u001b[36mrandomPermute\u001b[39m\n",
       "\u001b[36mres177_1\u001b[39m: \u001b[32mList\u001b[39m[\u001b[32mSymbol\u001b[39m] = \u001b[33mList\u001b[39m(\u001b[32m'f\u001b[39m, \u001b[32m'd\u001b[39m, \u001b[32m'e\u001b[39m, \u001b[32m'a\u001b[39m, \u001b[32m'b\u001b[39m, \u001b[32m'c\u001b[39m)"
      ]
     },
     "execution_count": 178,
     "metadata": {},
     "output_type": "execute_result"
    }
   ],
   "source": [
    "def randomPermute[T](x: List[T]): List[T] = randomSelect(x.length, x)\n",
    "randomPermute(List('a, 'b, 'c, 'd, 'e, 'f))"
   ]
  },
  {
   "cell_type": "markdown",
   "metadata": {},
   "source": [
    "### P26 (**) Generate the combinations of K distinct objects chosen from the N elements of a list.\n",
    "\n",
    "In how many ways can a committee of 3 be chosen from a group of 12 people? We all know that there are C(12,3) = 220 possibilities (C(N,K) denotes the well-known binomial coefficient). For pure mathematicians, this result may be great. But we want to really generate all the possibilities.\n",
    "\n",
    "Example:\n",
    "\n",
    "```scala\n",
    "scala> combinations(3, List('a, 'b, 'c, 'd, 'e, 'f))\n",
    "res0: List[List[Symbol]] = List(List('a, 'b, 'c), List('a, 'b, 'd), List('a, 'b, 'e), ...\n",
    "```"
   ]
  },
  {
   "cell_type": "code",
   "execution_count": 179,
   "metadata": {},
   "outputs": [
    {
     "data": {
      "text/plain": [
       "defined \u001b[32mfunction\u001b[39m \u001b[36mcombinations\u001b[39m\n",
       "\u001b[36ma1\u001b[39m: \u001b[32mList\u001b[39m[\u001b[32mList\u001b[39m[\u001b[32mSymbol\u001b[39m]] = \u001b[33mList\u001b[39m(\u001b[33mList\u001b[39m(\u001b[32m'a\u001b[39m), \u001b[33mList\u001b[39m(\u001b[32m'b\u001b[39m), \u001b[33mList\u001b[39m(\u001b[32m'c\u001b[39m), \u001b[33mList\u001b[39m(\u001b[32m'd\u001b[39m), \u001b[33mList\u001b[39m(\u001b[32m'e\u001b[39m), \u001b[33mList\u001b[39m(\u001b[32m'f\u001b[39m))\n",
       "\u001b[36mres178_2\u001b[39m: \u001b[32mInt\u001b[39m = \u001b[32m6\u001b[39m\n",
       "\u001b[36ma2\u001b[39m: \u001b[32mList\u001b[39m[\u001b[32mList\u001b[39m[\u001b[32mSymbol\u001b[39m]] = \u001b[33mList\u001b[39m(\n",
       "  \u001b[33mList\u001b[39m(\u001b[32m'a\u001b[39m, \u001b[32m'b\u001b[39m),\n",
       "  \u001b[33mList\u001b[39m(\u001b[32m'a\u001b[39m, \u001b[32m'c\u001b[39m),\n",
       "  \u001b[33mList\u001b[39m(\u001b[32m'b\u001b[39m, \u001b[32m'c\u001b[39m),\n",
       "  \u001b[33mList\u001b[39m(\u001b[32m'a\u001b[39m, \u001b[32m'd\u001b[39m),\n",
       "  \u001b[33mList\u001b[39m(\u001b[32m'b\u001b[39m, \u001b[32m'd\u001b[39m),\n",
       "  \u001b[33mList\u001b[39m(\u001b[32m'c\u001b[39m, \u001b[32m'd\u001b[39m),\n",
       "  \u001b[33mList\u001b[39m(\u001b[32m'a\u001b[39m, \u001b[32m'e\u001b[39m),\n",
       "  \u001b[33mList\u001b[39m(\u001b[32m'b\u001b[39m, \u001b[32m'e\u001b[39m),\n",
       "  \u001b[33mList\u001b[39m(\u001b[32m'c\u001b[39m, \u001b[32m'e\u001b[39m),\n",
       "  \u001b[33mList\u001b[39m(\u001b[32m'd\u001b[39m, \u001b[32m'e\u001b[39m),\n",
       "  \u001b[33mList\u001b[39m(\u001b[32m'a\u001b[39m, \u001b[32m'f\u001b[39m),\n",
       "\u001b[33m...\u001b[39m\n",
       "\u001b[36mres178_4\u001b[39m: \u001b[32mInt\u001b[39m = \u001b[32m15\u001b[39m\n",
       "\u001b[36ma3\u001b[39m: \u001b[32mList\u001b[39m[\u001b[32mList\u001b[39m[\u001b[32mSymbol\u001b[39m]] = \u001b[33mList\u001b[39m(\n",
       "  \u001b[33mList\u001b[39m(\u001b[32m'a\u001b[39m, \u001b[32m'b\u001b[39m, \u001b[32m'c\u001b[39m),\n",
       "  \u001b[33mList\u001b[39m(\u001b[32m'a\u001b[39m, \u001b[32m'b\u001b[39m, \u001b[32m'd\u001b[39m),\n",
       "  \u001b[33mList\u001b[39m(\u001b[32m'a\u001b[39m, \u001b[32m'c\u001b[39m, \u001b[32m'd\u001b[39m),\n",
       "  \u001b[33mList\u001b[39m(\u001b[32m'b\u001b[39m, \u001b[32m'c\u001b[39m, \u001b[32m'd\u001b[39m),\n",
       "  \u001b[33mList\u001b[39m(\u001b[32m'a\u001b[39m, \u001b[32m'b\u001b[39m, \u001b[32m'e\u001b[39m),\n",
       "  \u001b[33mList\u001b[39m(\u001b[32m'a\u001b[39m, \u001b[32m'c\u001b[39m, \u001b[32m'e\u001b[39m),\n",
       "  \u001b[33mList\u001b[39m(\u001b[32m'b\u001b[39m, \u001b[32m'c\u001b[39m, \u001b[32m'e\u001b[39m),\n",
       "  \u001b[33mList\u001b[39m(\u001b[32m'a\u001b[39m, \u001b[32m'd\u001b[39m, \u001b[32m'e\u001b[39m),\n",
       "  \u001b[33mList\u001b[39m(\u001b[32m'b\u001b[39m, \u001b[32m'd\u001b[39m, \u001b[32m'e\u001b[39m),\n",
       "  \u001b[33mList\u001b[39m(\u001b[32m'c\u001b[39m, \u001b[32m'd\u001b[39m, \u001b[32m'e\u001b[39m),\n",
       "  \u001b[33mList\u001b[39m(\u001b[32m'a\u001b[39m, \u001b[32m'b\u001b[39m, \u001b[32m'f\u001b[39m),\n",
       "\u001b[33m...\u001b[39m\n",
       "\u001b[36mres178_6\u001b[39m: \u001b[32mInt\u001b[39m = \u001b[32m20\u001b[39m\n",
       "\u001b[36ma5\u001b[39m: \u001b[32mList\u001b[39m[\u001b[32mList\u001b[39m[\u001b[32mSymbol\u001b[39m]] = \u001b[33mList\u001b[39m(\n",
       "  \u001b[33mList\u001b[39m(\u001b[32m'a\u001b[39m, \u001b[32m'b\u001b[39m, \u001b[32m'c\u001b[39m, \u001b[32m'd\u001b[39m, \u001b[32m'e\u001b[39m),\n",
       "  \u001b[33mList\u001b[39m(\u001b[32m'a\u001b[39m, \u001b[32m'b\u001b[39m, \u001b[32m'c\u001b[39m, \u001b[32m'd\u001b[39m, \u001b[32m'f\u001b[39m),\n",
       "  \u001b[33mList\u001b[39m(\u001b[32m'a\u001b[39m, \u001b[32m'b\u001b[39m, \u001b[32m'c\u001b[39m, \u001b[32m'e\u001b[39m, \u001b[32m'f\u001b[39m),\n",
       "  \u001b[33mList\u001b[39m(\u001b[32m'a\u001b[39m, \u001b[32m'b\u001b[39m, \u001b[32m'd\u001b[39m, \u001b[32m'e\u001b[39m, \u001b[32m'f\u001b[39m),\n",
       "  \u001b[33mList\u001b[39m(\u001b[32m'a\u001b[39m, \u001b[32m'c\u001b[39m, \u001b[32m'd\u001b[39m, \u001b[32m'e\u001b[39m, \u001b[32m'f\u001b[39m),\n",
       "  \u001b[33mList\u001b[39m(\u001b[32m'b\u001b[39m, \u001b[32m'c\u001b[39m, \u001b[32m'd\u001b[39m, \u001b[32m'e\u001b[39m, \u001b[32m'f\u001b[39m)\n",
       ")\n",
       "\u001b[36mres178_8\u001b[39m: \u001b[32mInt\u001b[39m = \u001b[32m6\u001b[39m\n",
       "\u001b[36ma6\u001b[39m: \u001b[32mList\u001b[39m[\u001b[32mList\u001b[39m[\u001b[32mSymbol\u001b[39m]] = \u001b[33mList\u001b[39m(\u001b[33mList\u001b[39m(\u001b[32m'a\u001b[39m, \u001b[32m'b\u001b[39m, \u001b[32m'c\u001b[39m, \u001b[32m'd\u001b[39m, \u001b[32m'e\u001b[39m, \u001b[32m'f\u001b[39m))\n",
       "\u001b[36mres178_10\u001b[39m: \u001b[32mInt\u001b[39m = \u001b[32m1\u001b[39m"
      ]
     },
     "execution_count": 179,
     "metadata": {},
     "output_type": "execute_result"
    }
   ],
   "source": [
    "def combinations[T](n: Int, x: List[T]): List[List[T]] = {\n",
    "  \n",
    "  // obtain the list of all indices\n",
    "  val index = (0 until x.length).toList    \n",
    "  def helper(acc: List[List[Int]], m: Int): List[List[Int]] = {\n",
    "    // accumulates the size of index list\n",
    "    if (m == 0) acc \n",
    "    else helper(for { \n",
    "                  lst <- acc; elm <- index; if elm < lst.head \n",
    "                } yield elm :: lst, m-1)    \n",
    "  }\n",
    "  val init = index map { elm => List(elm) }\n",
    "  val indexList = helper(init, n-1)\n",
    "    \n",
    "  indexList map { ind: List[Int] => ind map { i => x(i) } }\n",
    "}\n",
    "val a1 = combinations(1, List('a, 'b, 'c, 'd, 'e, 'f))\n",
    "a1.length\n",
    "val a2 = combinations(2, List('a, 'b, 'c, 'd, 'e, 'f))\n",
    "a2.length\n",
    "val a3 = combinations(3, List('a, 'b, 'c, 'd, 'e, 'f))\n",
    "a3.length\n",
    "val a5 = combinations(5, List('a, 'b, 'c, 'd, 'e, 'f))\n",
    "a5.length\n",
    "val a6 = combinations(6, List('a, 'b, 'c, 'd, 'e, 'f))\n",
    "a6.length"
   ]
  },
  {
   "cell_type": "markdown",
   "metadata": {
    "collapsed": true
   },
   "source": [
    "### P27 (**) Group the elements of a set into disjoint subsets.\n",
    "\n",
    "a) In how many ways can a group of 9 people work in 3 disjoint subgroups of 2, 3 and 4 persons? Write a function that generates all the possibilities.\n",
    "\n",
    "Example:\n",
    "\n",
    "```\n",
    "scala> group3(List(\"Aldo\", \"Beat\", \"Carla\", \"David\", \"Evi\", \"Flip\", \"Gary\", \"Hugo\", \"Ida\"))\n",
    "res0: List[List[List[String]]] = List(List(List(Aldo, Beat), List(Carla, David, Evi), List(Flip, Gary, Hugo, Ida)), ...\n",
    "```\n",
    "\n",
    "b) Generalize the above predicate in a way that we can specify a list of group sizes and the predicate will return a list of groups.\n",
    "\n",
    "Example:\n",
    "\n",
    "```\n",
    "scala> group(List(2, 2, 5), List(\"Aldo\", \"Beat\", \"Carla\", \"David\", \"Evi\", \"Flip\", \"Gary\", \"Hugo\", \"Ida\"))\n",
    "res0: List[List[List[String]]] = List(List(List(Aldo, Beat), List(Carla, David), List(Evi, Flip, Gary, Hugo, Ida)), ...\n",
    "```\n",
    "\n",
    "Note that we do not want permutations of the group members; i.e. ((Aldo, Beat), ...) is the same solution as ((Beat, Aldo), ...). However, we make a difference between ((Aldo, Beat), (Carla, David), ...) and ((Carla, David), (Aldo, Beat), ...).\n",
    "\n",
    "You may find more about this combinatorial problem in a good book on discrete mathematics under the term \"multinomial coefficients\"."
   ]
  },
  {
   "cell_type": "code",
   "execution_count": 180,
   "metadata": {},
   "outputs": [
    {
     "data": {
      "text/plain": [
       "defined \u001b[32mfunction\u001b[39m \u001b[36mgroup\u001b[39m\n",
       "defined \u001b[32mfunction\u001b[39m \u001b[36mgroup3\u001b[39m\n",
       "\u001b[36mans1\u001b[39m: \u001b[32mList\u001b[39m[\u001b[32mList\u001b[39m[\u001b[32mList\u001b[39m[\u001b[32mString\u001b[39m]]] = \u001b[33mList\u001b[39m(\n",
       "  \u001b[33mList\u001b[39m(\n",
       "    \u001b[33mList\u001b[39m(\u001b[32m\"Aldo\"\u001b[39m, \u001b[32m\"Beat\"\u001b[39m),\n",
       "    \u001b[33mList\u001b[39m(\u001b[32m\"Evi\"\u001b[39m, \u001b[32m\"Carla\"\u001b[39m, \u001b[32m\"David\"\u001b[39m),\n",
       "    \u001b[33mList\u001b[39m(\u001b[32m\"Ida\"\u001b[39m, \u001b[32m\"Hugo\"\u001b[39m, \u001b[32m\"Gary\"\u001b[39m, \u001b[32m\"Flip\"\u001b[39m)\n",
       "  ),\n",
       "  \u001b[33mList\u001b[39m(\n",
       "    \u001b[33mList\u001b[39m(\u001b[32m\"David\"\u001b[39m, \u001b[32m\"Beat\"\u001b[39m),\n",
       "    \u001b[33mList\u001b[39m(\u001b[32m\"Evi\"\u001b[39m, \u001b[32m\"Carla\"\u001b[39m, \u001b[32m\"Aldo\"\u001b[39m),\n",
       "    \u001b[33mList\u001b[39m(\u001b[32m\"Ida\"\u001b[39m, \u001b[32m\"Hugo\"\u001b[39m, \u001b[32m\"Gary\"\u001b[39m, \u001b[32m\"Flip\"\u001b[39m)\n",
       "  ),\n",
       "  \u001b[33mList\u001b[39m(\n",
       "\u001b[33m...\u001b[39m\n",
       "\u001b[36mres179_3\u001b[39m: \u001b[32mInt\u001b[39m = \u001b[32m1260\u001b[39m\n",
       "\u001b[36mans2\u001b[39m: \u001b[32mList\u001b[39m[\u001b[32mList\u001b[39m[\u001b[32mList\u001b[39m[\u001b[32mString\u001b[39m]]] = \u001b[33mList\u001b[39m(\n",
       "  \u001b[33mList\u001b[39m(\n",
       "    \u001b[33mList\u001b[39m(\u001b[32m\"Aldo\"\u001b[39m, \u001b[32m\"Beat\"\u001b[39m),\n",
       "    \u001b[33mList\u001b[39m(\u001b[32m\"Carla\"\u001b[39m, \u001b[32m\"David\"\u001b[39m),\n",
       "    \u001b[33mList\u001b[39m(\u001b[32m\"Ida\"\u001b[39m, \u001b[32m\"Hugo\"\u001b[39m, \u001b[32m\"Gary\"\u001b[39m, \u001b[32m\"Flip\"\u001b[39m, \u001b[32m\"Evi\"\u001b[39m)\n",
       "  ),\n",
       "  \u001b[33mList\u001b[39m(\n",
       "    \u001b[33mList\u001b[39m(\u001b[32m\"David\"\u001b[39m, \u001b[32m\"Beat\"\u001b[39m),\n",
       "    \u001b[33mList\u001b[39m(\u001b[32m\"Carla\"\u001b[39m, \u001b[32m\"Aldo\"\u001b[39m),\n",
       "    \u001b[33mList\u001b[39m(\u001b[32m\"Ida\"\u001b[39m, \u001b[32m\"Hugo\"\u001b[39m, \u001b[32m\"Gary\"\u001b[39m, \u001b[32m\"Flip\"\u001b[39m, \u001b[32m\"Evi\"\u001b[39m)\n",
       "  ),\n",
       "  \u001b[33mList\u001b[39m(\n",
       "\u001b[33m...\u001b[39m\n",
       "\u001b[36mres179_5\u001b[39m: \u001b[32mInt\u001b[39m = \u001b[32m756\u001b[39m\n",
       "defined \u001b[32mfunction\u001b[39m \u001b[36mfactorial\u001b[39m\n",
       "\u001b[36mres179_7\u001b[39m: \u001b[32mInt\u001b[39m = \u001b[32m1260\u001b[39m\n",
       "\u001b[36mres179_8\u001b[39m: \u001b[32mInt\u001b[39m = \u001b[32m756\u001b[39m"
      ]
     },
     "execution_count": 180,
     "metadata": {},
     "output_type": "execute_result"
    }
   ],
   "source": [
    "def group[T](numbers: List[Int], x: List[T]): List[List[List[T]]] = {\n",
    "  // return all possible assignments of elements of `x` into groups,\n",
    "  // where the number of group members are given by `numbers`     \n",
    "  def allPossibleSplit(x: List[T], m: Int): List[(List[T], List[T])] = {\n",
    "    // returns all possible ways of spliting `x` \n",
    "    // into two groups of sizes m and x.length - m\n",
    "    val x1: List[List[T]] = combinations(m, x)\n",
    "    val x2: List[List[T]] = x1 map { lst => (x.toSet diff lst.toSet).toList }\n",
    "    x1.zip(x2) \n",
    "  }\n",
    "    \n",
    "  def helper(acc: List[(List[List[T]], List[T])], nums: List[Int]): List[List[List[T]]] = {\n",
    "    nums match {\n",
    "      case Nil => acc.map(_._1)  \n",
    "      case n :: xs => {\n",
    "        val accNew: List[(List[List[T]], List[T])] = acc\n",
    "          .map { pair => allPossibleSplit(pair._2, n).map(y => (y._1 :: pair._1, y._2)) }\n",
    "          .foldLeft(Nil: List[(List[List[T]], List[T])]) { (a, b) => a ::: b }\n",
    "        helper(accNew, xs)  \n",
    "      } \n",
    "    } \n",
    "  }\n",
    "  \n",
    "  helper(List((Nil, x.reverse)), numbers.reverse)  \n",
    "}\n",
    "\n",
    "\n",
    "def group3[T](x: List[T]): List[List[List[T]]] = {\n",
    "  group(List(2, 3, 4), x)  \n",
    "}\n",
    "\n",
    "\n",
    "val ans1 = group3(List(\"Aldo\", \"Beat\", \"Carla\", \"David\", \"Evi\", \"Flip\", \"Gary\", \"Hugo\", \"Ida\"))\n",
    "ans1.length\n",
    "\n",
    "val ans2 = group(List(2, 2, 5), List(\"Aldo\", \"Beat\", \"Carla\", \"David\", \"Evi\", \"Flip\", \"Gary\", \"Hugo\", \"Ida\"))\n",
    "ans2.length\n",
    "\n",
    "// number of ways splitting n objects into (n_1, n_2, ..., n_k) = n! / (n_1! n_2! ... n_k!)\n",
    "// for n = 9, and (2, 3, 4):\n",
    "def factorial(n: Int): Int = { if (n <= 1) 1 else n*factorial(n-1) }\n",
    "factorial(9) / (factorial(2) * factorial(3) * factorial(4))\n",
    "// for n = 9 and (2, 2, 5):\n",
    "factorial(9) / (factorial(2) * factorial(2) * factorial(5))"
   ]
  },
  {
   "cell_type": "markdown",
   "metadata": {},
   "source": [
    "### P28 (**) Sorting a list of lists according to length of sublists.\n",
    "    \n",
    "a) We suppose that a list contains elements that are lists themselves. The objective is to sort the elements of the list according to their length. E.g. short lists first, longer lists later, or vice versa.\n",
    "\n",
    "Example:\n",
    "\n",
    "```scala    \n",
    "scala> lsort(List(List('a, 'b, 'c), List('d, 'e), List('f, 'g, 'h), List('d, 'e), List('i, 'j, 'k, 'l), List('m, 'n), List('o)))\n",
    "res0: List[List[Symbol]] = List(List('o), List('d, 'e), List('d, 'e), List('m, 'n), List('a, 'b, 'c), List('f, 'g, 'h), List('i, 'j, 'k, 'l))\n",
    "```\n",
    "\n",
    "b) Again, we suppose that a list contains elements that are lists themselves. But this time the objective is to sort the elements according to their length frequency; i.e. in the default, sorting is done ascendingly, lists with rare lengths are placed, others with a more frequent length come later.\n",
    "\n",
    "Example:\n",
    "\n",
    "```scala\n",
    "scala> lsortFreq(List(List('a, 'b, 'c), List('d, 'e), List('f, 'g, 'h), List('d, 'e), List('i, 'j, 'k, 'l), List('m, 'n), List('o)))\n",
    "res1: List[List[Symbol]] = List(List('i, 'j, 'k, 'l), List('o), List('a, 'b, 'c), List('f, 'g, 'h), List('d, 'e), List('d, 'e), List('m, 'n))\n",
    "```\n",
    "\n",
    "Note that in the above example, the first two lists in the result have length 4 and 1 and both lengths appear just once. The third and fourth lists have length 3 and there are two list of this length. Finally, the last three lists have length 2. This is the most frequent length."
   ]
  },
  {
   "cell_type": "code",
   "execution_count": 181,
   "metadata": {},
   "outputs": [
    {
     "data": {
      "text/plain": [
       "defined \u001b[32mfunction\u001b[39m \u001b[36mlsort\u001b[39m\n",
       "\u001b[36mres180_1\u001b[39m: \u001b[32mList\u001b[39m[\u001b[32mList\u001b[39m[\u001b[32mSymbol\u001b[39m]] = \u001b[33mList\u001b[39m(\n",
       "  \u001b[33mList\u001b[39m(\u001b[32m'o\u001b[39m),\n",
       "  \u001b[33mList\u001b[39m(\u001b[32m'd\u001b[39m, \u001b[32m'e\u001b[39m),\n",
       "  \u001b[33mList\u001b[39m(\u001b[32m'd\u001b[39m, \u001b[32m'e\u001b[39m),\n",
       "  \u001b[33mList\u001b[39m(\u001b[32m'm\u001b[39m, \u001b[32m'n\u001b[39m),\n",
       "  \u001b[33mList\u001b[39m(\u001b[32m'a\u001b[39m, \u001b[32m'b\u001b[39m, \u001b[32m'c\u001b[39m),\n",
       "  \u001b[33mList\u001b[39m(\u001b[32m'f\u001b[39m, \u001b[32m'g\u001b[39m, \u001b[32m'h\u001b[39m),\n",
       "  \u001b[33mList\u001b[39m(\u001b[32m'i\u001b[39m, \u001b[32m'j\u001b[39m, \u001b[32m'k\u001b[39m, \u001b[32m'l\u001b[39m)\n",
       ")\n",
       "defined \u001b[32mfunction\u001b[39m \u001b[36mlsortFreq\u001b[39m\n",
       "\u001b[36mres180_3\u001b[39m: \u001b[32mList\u001b[39m[\u001b[32mList\u001b[39m[\u001b[32mSymbol\u001b[39m]] = \u001b[33mList\u001b[39m(\n",
       "  \u001b[33mList\u001b[39m(\u001b[32m'i\u001b[39m, \u001b[32m'j\u001b[39m, \u001b[32m'k\u001b[39m, \u001b[32m'l\u001b[39m),\n",
       "  \u001b[33mList\u001b[39m(\u001b[32m'o\u001b[39m),\n",
       "  \u001b[33mList\u001b[39m(\u001b[32m'a\u001b[39m, \u001b[32m'b\u001b[39m, \u001b[32m'c\u001b[39m),\n",
       "  \u001b[33mList\u001b[39m(\u001b[32m'f\u001b[39m, \u001b[32m'g\u001b[39m, \u001b[32m'h\u001b[39m),\n",
       "  \u001b[33mList\u001b[39m(\u001b[32m'd\u001b[39m, \u001b[32m'e\u001b[39m),\n",
       "  \u001b[33mList\u001b[39m(\u001b[32m'd\u001b[39m, \u001b[32m'e\u001b[39m),\n",
       "  \u001b[33mList\u001b[39m(\u001b[32m'm\u001b[39m, \u001b[32m'n\u001b[39m)\n",
       ")"
      ]
     },
     "execution_count": 181,
     "metadata": {},
     "output_type": "execute_result"
    }
   ],
   "source": [
    "def lsort[T](x: List[List[T]]): List[List[T]] = {\n",
    "  x.sortWith((u: List[T], v: List[T]) => u.length < v.length)  \n",
    "} \n",
    "lsort(List(List('a, 'b, 'c), List('d, 'e), List('f, 'g, 'h), \n",
    "           List('d, 'e), List('i, 'j, 'k, 'l), List('m, 'n), List('o)))\n",
    "\n",
    "def lsortFreq[T](x: List[List[T]]): List[List[T]] = {\n",
    "  val freqMap: Map[Int, Int] = x.groupBy(_.length).mapValues(_.length)\n",
    "  x.sortWith((u: List[T], v: List[T]) => freqMap(u.length) < freqMap(v.length))\n",
    "}\n",
    "lsortFreq(List(List('a, 'b, 'c), List('d, 'e), List('f, 'g, 'h), \n",
    "               List('d, 'e), List('i, 'j, 'k, 'l), List('m, 'n), List('o)))"
   ]
  },
  {
   "cell_type": "markdown",
   "metadata": {},
   "source": [
    "### P31 (**) Determine whether a given integer number is prime.\n",
    "\n",
    "```scala\n",
    "scala> 7.isPrime\n",
    "res0: Boolean = true\n",
    "```"
   ]
  },
  {
   "cell_type": "code",
   "execution_count": 182,
   "metadata": {},
   "outputs": [
    {
     "data": {
      "text/plain": [
       "defined \u001b[32mclass\u001b[39m \u001b[36mP31\u001b[39m\n",
       "\u001b[36mprimeStream\u001b[39m: \u001b[32mStream\u001b[39m[\u001b[32mInt\u001b[39m] = \u001b[33mStream\u001b[39m(\n",
       "  \u001b[32m2\u001b[39m,\n",
       "  \u001b[32m3\u001b[39m,\n",
       "  \u001b[32m5\u001b[39m,\n",
       "  \u001b[32m7\u001b[39m,\n",
       "  \u001b[32m11\u001b[39m,\n",
       "  \u001b[32m13\u001b[39m,\n",
       "  \u001b[32m17\u001b[39m,\n",
       "  \u001b[32m19\u001b[39m,\n",
       "  \u001b[32m23\u001b[39m,\n",
       "  \u001b[32m29\u001b[39m,\n",
       "  \u001b[32m31\u001b[39m,\n",
       "\u001b[33m...\u001b[39m\n",
       "\u001b[36mres181_2\u001b[39m: \u001b[32mBoolean\u001b[39m = \u001b[32mtrue\u001b[39m\n",
       "\u001b[36mres181_3\u001b[39m: \u001b[32mBoolean\u001b[39m = \u001b[32mtrue\u001b[39m\n",
       "\u001b[36mres181_4\u001b[39m: \u001b[32mBoolean\u001b[39m = \u001b[32mfalse\u001b[39m\n",
       "\u001b[36mres181_5\u001b[39m: \u001b[32mcollection\u001b[39m.\u001b[32mimmutable\u001b[39m.\u001b[32mIndexedSeq\u001b[39m[(\u001b[32mInt\u001b[39m, \u001b[32mBoolean\u001b[39m)] = \u001b[33mVector\u001b[39m(\n",
       "  (\u001b[32m1\u001b[39m, \u001b[32mfalse\u001b[39m),\n",
       "  (\u001b[32m2\u001b[39m, \u001b[32mtrue\u001b[39m),\n",
       "  (\u001b[32m3\u001b[39m, \u001b[32mtrue\u001b[39m),\n",
       "  (\u001b[32m4\u001b[39m, \u001b[32mfalse\u001b[39m),\n",
       "  (\u001b[32m5\u001b[39m, \u001b[32mtrue\u001b[39m),\n",
       "  (\u001b[32m6\u001b[39m, \u001b[32mfalse\u001b[39m),\n",
       "  (\u001b[32m7\u001b[39m, \u001b[32mtrue\u001b[39m),\n",
       "  (\u001b[32m8\u001b[39m, \u001b[32mfalse\u001b[39m),\n",
       "  (\u001b[32m9\u001b[39m, \u001b[32mfalse\u001b[39m),\n",
       "  (\u001b[32m10\u001b[39m, \u001b[32mfalse\u001b[39m)\n",
       ")\n",
       "\u001b[36mres181_6\u001b[39m: \u001b[32mList\u001b[39m[\u001b[32mBoolean\u001b[39m] = \u001b[33mList\u001b[39m(\u001b[32mtrue\u001b[39m, \u001b[32mtrue\u001b[39m, \u001b[32mtrue\u001b[39m, \u001b[32mtrue\u001b[39m)"
      ]
     },
     "execution_count": 182,
     "metadata": {},
     "output_type": "execute_result"
    }
   ],
   "source": [
    "implicit class P31(n: Int) {\n",
    "  /*  \n",
    "  def isPrime: Boolean = {\n",
    "    def inner(m: Int): Boolean = {\n",
    "      if (m*m > n) true \n",
    "      else if (n % m == 0) false\n",
    "      else inner(m+1)  \n",
    "    }\n",
    "    if (n < 2) false else inner(2)  \n",
    "  }  \n",
    "  */\n",
    "  \n",
    "  // Taken from the suggested solution in the problem site  \n",
    "  def isPrime: Boolean = {\n",
    "    if (n < 2) false\n",
    "    else primeStream.takeWhile(a => a * a <= n).forall(n % _ != 0)  \n",
    "  }  \n",
    "}\n",
    "\n",
    "val primeStream: Stream[Int] = 2 #:: Stream.from(3, 2).filter(_.isPrime)\n",
    "\n",
    "2.isPrime\n",
    "7.isPrime\n",
    "9.isPrime\n",
    "(1 to 10).map(n => (n -> n.isPrime))\n",
    "List(5651, 5653, 5657, 5659).map(_.isPrime)"
   ]
  },
  {
   "cell_type": "markdown",
   "metadata": {},
   "source": [
    "### P32 (**) Determine the greatest common divisor of two positive integer numbers.\n",
    "\n",
    "Use Euclid's algorithm.\n",
    "\n",
    "```scala\n",
    "scala> gcd(36, 63)\n",
    "res0: Int = 9\n",
    "```"
   ]
  },
  {
   "cell_type": "code",
   "execution_count": 183,
   "metadata": {},
   "outputs": [
    {
     "data": {
      "text/plain": [
       "defined \u001b[32mfunction\u001b[39m \u001b[36mgcd\u001b[39m\n",
       "\u001b[36mres182_1\u001b[39m: \u001b[32mInt\u001b[39m = \u001b[32m9\u001b[39m\n",
       "\u001b[36mres182_2\u001b[39m: \u001b[32mInt\u001b[39m = \u001b[32m6\u001b[39m\n",
       "\u001b[36mres182_3\u001b[39m: \u001b[32mInt\u001b[39m = \u001b[32m5\u001b[39m\n",
       "\u001b[36mres182_4\u001b[39m: \u001b[32mInt\u001b[39m = \u001b[32m1\u001b[39m"
      ]
     },
     "execution_count": 183,
     "metadata": {},
     "output_type": "execute_result"
    }
   ],
   "source": [
    "def gcd(n: Int, m: Int): Int ={\n",
    "  if (n < m) gcd(m, n)\n",
    "  else if (n % m == 0) m\n",
    "  else gcd(m, n % m)  \n",
    "}\n",
    "gcd(36, 63)\n",
    "gcd(30, 6)\n",
    "gcd(5, 5)\n",
    "gcd(93, 7)"
   ]
  },
  {
   "cell_type": "markdown",
   "metadata": {},
   "source": [
    "### P33 (*) Determine whether two positive integer numbers are coprime.\n",
    "Two numbers are coprime if their greatest common divisor equals 1.\n",
    "\n",
    "```scala\n",
    "scala> 35.isCoprimeTo(64)\n",
    "res0: Boolean = true\n",
    "```"
   ]
  },
  {
   "cell_type": "code",
   "execution_count": 184,
   "metadata": {},
   "outputs": [
    {
     "data": {
      "text/plain": [
       "defined \u001b[32mclass\u001b[39m \u001b[36mP33\u001b[39m\n",
       "\u001b[36mres183_1\u001b[39m: \u001b[32mBoolean\u001b[39m = \u001b[32mtrue\u001b[39m"
      ]
     },
     "execution_count": 184,
     "metadata": {},
     "output_type": "execute_result"
    }
   ],
   "source": [
    "implicit class P33(n: Int) {\n",
    "  def isCoprimeTo(m: Int): Boolean = gcd(n, m) == 1  \n",
    "}\n",
    "35.isCoprimeTo(64)"
   ]
  },
  {
   "cell_type": "markdown",
   "metadata": {},
   "source": [
    "### P34 (**) Calculate Euler's totient function phi(m).\n",
    "\n",
    "Euler's so-called totient function phi(m) is defined as the number of positive integers r (1 <= r <= m) that are coprime to m.\n",
    "\n",
    "```scala\n",
    "scala> 10.totient\n",
    "res0: Int = 4\n",
    "```"
   ]
  },
  {
   "cell_type": "code",
   "execution_count": 185,
   "metadata": {},
   "outputs": [
    {
     "data": {
      "text/plain": [
       "defined \u001b[32mclass\u001b[39m \u001b[36mP34\u001b[39m\n",
       "\u001b[36mres184_1\u001b[39m: \u001b[32mInt\u001b[39m = \u001b[32m4\u001b[39m"
      ]
     },
     "execution_count": 185,
     "metadata": {},
     "output_type": "execute_result"
    }
   ],
   "source": [
    "implicit class P34(n: Int) {\n",
    "  def totient: Int = (1 to n).filter(n.isCoprimeTo(_)).length  \n",
    "}\n",
    "10.totient"
   ]
  },
  {
   "cell_type": "markdown",
   "metadata": {},
   "source": [
    "### P35 (**) Determine the prime factors of a given positive integer.\n",
    "\n",
    "Construct a flat list containing the prime factors in ascending order.\n",
    "\n",
    "```scala\n",
    "scala> 315.primeFactors\n",
    "res0: List[Int] = List(3, 3, 5, 7)\n",
    "```"
   ]
  },
  {
   "cell_type": "code",
   "execution_count": 186,
   "metadata": {},
   "outputs": [
    {
     "data": {
      "text/plain": [
       "defined \u001b[32mclass\u001b[39m \u001b[36mP35\u001b[39m\n",
       "\u001b[36mres185_1\u001b[39m: \u001b[32mList\u001b[39m[\u001b[32mInt\u001b[39m] = \u001b[33mList\u001b[39m(\u001b[32m3\u001b[39m, \u001b[32m3\u001b[39m, \u001b[32m5\u001b[39m, \u001b[32m7\u001b[39m)\n",
       "\u001b[36mres185_2\u001b[39m: \u001b[32mList\u001b[39m[\u001b[32mInt\u001b[39m] = \u001b[33mList\u001b[39m(\u001b[32m97\u001b[39m, \u001b[32m101\u001b[39m)\n",
       "\u001b[36mres185_3\u001b[39m: \u001b[32mList\u001b[39m[\u001b[32mInt\u001b[39m] = \u001b[33mList\u001b[39m(\u001b[32m2\u001b[39m, \u001b[32m2\u001b[39m, \u001b[32m2\u001b[39m, \u001b[32m2\u001b[39m, \u001b[32m2\u001b[39m, \u001b[32m2\u001b[39m, \u001b[32m2\u001b[39m, \u001b[32m2\u001b[39m, \u001b[32m2\u001b[39m, \u001b[32m2\u001b[39m)\n",
       "\u001b[36mres185_4\u001b[39m: \u001b[32mList\u001b[39m[\u001b[32mInt\u001b[39m] = \u001b[33mList\u001b[39m(\u001b[32m2\u001b[39m, \u001b[32m2\u001b[39m)"
      ]
     },
     "execution_count": 186,
     "metadata": {},
     "output_type": "execute_result"
    }
   ],
   "source": [
    "implicit class P35(n: Int) {\n",
    "  //val primes: List[Int] = (1 to n)\n",
    "  //  .filter(m => 2 * m <= n)\n",
    "  //  .filter(_.isPrime)\n",
    "  //  .toList\n",
    "  def primeFactors: List[Int] = {\n",
    "    def inner(acc: List[Int], primesRemain: Stream[Int], m: Int): List[Int] = {\n",
    "      primesRemain match {\n",
    "        case Stream.Empty => acc\n",
    "        case x #:: xs => {\n",
    "          if (m % x == 0) inner(x :: acc, primesRemain, m / x) \n",
    "          else  inner(acc, xs, m)\n",
    "        }\n",
    "      }\n",
    "    }  \n",
    "    inner(Nil, primeStream.takeWhile(m => 2 * m <= n), n).reverse  \n",
    "  }  \n",
    "}\n",
    "\n",
    "315.primeFactors\n",
    "(97 * 101).primeFactors\n",
    "1024.primeFactors\n",
    "4.primeFactors\n"
   ]
  },
  {
   "cell_type": "markdown",
   "metadata": {},
   "source": [
    "### P36 (**) Determine the prime factors of a given positive integer (2).\n",
    "\n",
    "Construct a list containing the prime factors and their multiplicity.\n",
    "\n",
    "```scala\n",
    "scala> 315.primeFactorMultiplicity\n",
    "res0: List[(Int, Int)] = List((3,2), (5,1), (7,1))\n",
    "```\n",
    "\n",
    "Alternately, use a Map for the result.\n",
    "\n",
    "```scala\n",
    "scala> 315.primeFactorMultiplicity\n",
    "res0: Map[Int,Int] = Map(3 -> 2, 5 -> 1, 7 -> 1)\n",
    "```"
   ]
  },
  {
   "cell_type": "code",
   "execution_count": 187,
   "metadata": {},
   "outputs": [
    {
     "data": {
      "text/plain": [
       "defined \u001b[32mclass\u001b[39m \u001b[36mP36\u001b[39m\n",
       "\u001b[36mres186_1\u001b[39m: \u001b[32mMap\u001b[39m[\u001b[32mInt\u001b[39m, \u001b[32mInt\u001b[39m] = \u001b[33mMap\u001b[39m(\u001b[32m5\u001b[39m -> \u001b[32m1\u001b[39m, \u001b[32m7\u001b[39m -> \u001b[32m1\u001b[39m, \u001b[32m3\u001b[39m -> \u001b[32m2\u001b[39m)\n",
       "\u001b[36mres186_2\u001b[39m: \u001b[32mMap\u001b[39m[\u001b[32mInt\u001b[39m, \u001b[32mInt\u001b[39m] = \u001b[33mMap\u001b[39m(\u001b[32m2\u001b[39m -> \u001b[32m10\u001b[39m)"
      ]
     },
     "execution_count": 187,
     "metadata": {},
     "output_type": "execute_result"
    }
   ],
   "source": [
    "implicit class P36(n: Int) {\n",
    "  def primeFactorMultiplicity: Map[Int, Int] = {\n",
    "    n.primeFactors.groupBy(a => a).mapValues(_.length)  \n",
    "  }\n",
    "}\n",
    "\n",
    "315.primeFactorMultiplicity\n",
    "1024.primeFactorMultiplicity"
   ]
  },
  {
   "cell_type": "markdown",
   "metadata": {},
   "source": [
    "### P37 (**) Calculate Euler's totient function phi(m) (improved).\n",
    "\n",
    "See problem P34 for the definition of Euler's totient function. If the list of the prime factors of a number m is known in the form of problem P36 then the function phi(m>) can be efficiently calculated as follows: Let $[[p_1, m_1], [p_2, m_2], [p_3, m_3], \\dots]$ be the list of prime factors (and their multiplicities) of a given number m. Then $\\phi(m)$ can be calculated with the following formula:\n",
    "\n",
    "$$\n",
    "\\phi(m) = (p_1 - 1 ) \\times p_{1}^{m_1 - 1} \\times (p_2 - 1 ) \\times p_{2}^{m_2 - 1} \n",
    "  \\times (p_3 - 1 ) \\times p_{3}^{m_3 - 1} \\times \\dots\n",
    "$$\n",
    "\n",
    "Note that $a^b$ stands for the bth power of a."
   ]
  },
  {
   "cell_type": "code",
   "execution_count": 188,
   "metadata": {},
   "outputs": [
    {
     "data": {
      "text/plain": [
       "defined \u001b[32mclass\u001b[39m \u001b[36mP37\u001b[39m\n",
       "\u001b[36mres187_1\u001b[39m: (\u001b[32mInt\u001b[39m, \u001b[32mInt\u001b[39m) = (\u001b[32m4\u001b[39m, \u001b[32m4\u001b[39m)\n",
       "\u001b[36mres187_2\u001b[39m: (\u001b[32mInt\u001b[39m, \u001b[32mInt\u001b[39m) = (\u001b[32m24\u001b[39m, \u001b[32m24\u001b[39m)\n",
       "\u001b[36mres187_3\u001b[39m: (\u001b[32mInt\u001b[39m, \u001b[32mInt\u001b[39m) = (\u001b[32m40\u001b[39m, \u001b[32m40\u001b[39m)"
      ]
     },
     "execution_count": 188,
     "metadata": {},
     "output_type": "execute_result"
    }
   ],
   "source": [
    "implicit class P37(n: Int) {\n",
    "  val pmPairs = n.primeFactorMultiplicity\n",
    "  def pow(n: Int, p: Int): Int = {\n",
    "    // power function for integers  \n",
    "    def inner(acc: Int, m: Int): Int = { if (m == 0) acc else inner(acc * n, m - 1) }\n",
    "    inner(1, p)  \n",
    "  }  \n",
    "  def totient2: Int = pmPairs.aggregate(1)(\n",
    "    (a, b) => a * (b._1 - 1) * pow(b._1, b._2 - 1), _ * _)  \n",
    "}\n",
    "\n",
    "(10.totient, 10.totient2)\n",
    "(70.totient, 70.totient2)\n",
    "(100.totient, 100.totient2)"
   ]
  },
  {
   "cell_type": "markdown",
   "metadata": {},
   "source": [
    "### P38 (*) Compare the two methods of calculating Euler's totient function.\n",
    "\n",
    "Use the solutions of problems P34 and P37 to compare the algorithms. Try to calculate phi(10090) as an example."
   ]
  },
  {
   "cell_type": "code",
   "execution_count": 189,
   "metadata": {},
   "outputs": [
    {
     "name": "stdout",
     "output_type": "stream",
     "text": [
      "Elapsed time: 3.345331ms\n",
      "Elapsed time: 0.405098ms\n"
     ]
    },
    {
     "data": {
      "text/plain": [
       "defined \u001b[32mfunction\u001b[39m \u001b[36mtime\u001b[39m\n",
       "\u001b[36mres188_1\u001b[39m: \u001b[32mInt\u001b[39m = \u001b[32m4032\u001b[39m\n",
       "\u001b[36mres188_2\u001b[39m: \u001b[32mInt\u001b[39m = \u001b[32m4032\u001b[39m"
      ]
     },
     "execution_count": 189,
     "metadata": {},
     "output_type": "execute_result"
    }
   ],
   "source": [
    "/*\n",
    "TODO: Consider refactorization\n",
    "*/\n",
    "\n",
    "def time[R](block: => R): R = {  \n",
    "    val t0 = System.nanoTime() \n",
    "    val result = block    // call-by-name\n",
    "    val t1 = System.nanoTime()\n",
    "    println(\"Elapsed time: \" + (t1 - t0).toDouble / 1000000.0D + \"ms\")\n",
    "    result\n",
    "}\n",
    "\n",
    "time { 10090.totient }\n",
    "time { 10090.totient2 }"
   ]
  },
  {
   "cell_type": "markdown",
   "metadata": {},
   "source": [
    "### P39 (*) A list of prime numbers.\n",
    "\n",
    "Given a range of integers by its lower and upper limit, construct a list of all prime numbers in that range.\n",
    "\n",
    "```scala\n",
    "scala> listPrimesinRange(7 to 31)\n",
    "res0: List[Int] = List(7, 11, 13, 17, 19, 23, 29, 31)\n",
    "```"
   ]
  },
  {
   "cell_type": "code",
   "execution_count": 190,
   "metadata": {},
   "outputs": [
    {
     "data": {
      "text/plain": [
       "defined \u001b[32mfunction\u001b[39m \u001b[36mlistPrimesinRange\u001b[39m\n",
       "\u001b[36mres189_1\u001b[39m: \u001b[32mList\u001b[39m[\u001b[32mInt\u001b[39m] = \u001b[33mList\u001b[39m(\u001b[32m7\u001b[39m, \u001b[32m11\u001b[39m, \u001b[32m13\u001b[39m, \u001b[32m17\u001b[39m, \u001b[32m19\u001b[39m, \u001b[32m23\u001b[39m, \u001b[32m29\u001b[39m, \u001b[32m31\u001b[39m)"
      ]
     },
     "execution_count": 190,
     "metadata": {},
     "output_type": "execute_result"
    }
   ],
   "source": [
    "def listPrimesinRange(rng: Seq[Int]): List[Int] = rng.filter(_.isPrime).toList\n",
    "listPrimesinRange(7 to 31)"
   ]
  },
  {
   "cell_type": "markdown",
   "metadata": {},
   "source": [
    "### P40 (**) Goldbach's conjecture.\n",
    "\n",
    "Goldbach's conjecture says that every positive even number greater than 2 is the sum of two prime numbers. E.g. 28 = 5 + 23. It is one of the most famous facts in number theory that has not been proved to be correct in the general case. It has been numerically confirmed up to very large numbers (much larger than Scala's Int can represent). Write a function to find the two prime numbers that sum up to a given even integer.\n",
    "\n",
    "```scala\n",
    "scala> 28.goldbach\n",
    "res0: (Int, Int) = (5,23)\n",
    "```"
   ]
  },
  {
   "cell_type": "code",
   "execution_count": 191,
   "metadata": {},
   "outputs": [
    {
     "data": {
      "text/plain": [
       "defined \u001b[32mclass\u001b[39m \u001b[36mP28\u001b[39m\n",
       "\u001b[36mres190_1\u001b[39m: (\u001b[32mInt\u001b[39m, \u001b[32mInt\u001b[39m) = (\u001b[32m5\u001b[39m, \u001b[32m23\u001b[39m)"
      ]
     },
     "execution_count": 191,
     "metadata": {},
     "output_type": "execute_result"
    }
   ],
   "source": [
    "implicit class P28(n: Int) {\n",
    "  def goldbach: (Int, Int) = {\n",
    "    val primePairs: Stream[(Int, Int)] = for {\n",
    "      x <- primeStream.takeWhile(_ < n); \n",
    "      y <- primeStream.takeWhile(_ < n); \n",
    "      if x <= y && x + y == n\n",
    "    } yield (x, y)\n",
    "    primePairs.head  \n",
    "  } \n",
    "}\n",
    "\n",
    "28.goldbach"
   ]
  },
  {
   "cell_type": "markdown",
   "metadata": {},
   "source": [
    "### P41 (**) A list of Goldbach compositions.\n",
    "\n",
    "Given a range of integers by its lower and upper limit, print a list of all even numbers and their Goldbach composition.\n",
    "\n",
    "```scala\n",
    "scala> printGoldbachList(9 to 20)\n",
    "10 = 3 + 7\n",
    "12 = 5 + 7\n",
    "14 = 3 + 11\n",
    "16 = 3 + 13\n",
    "18 = 5 + 13\n",
    "20 = 3 + 17\n",
    "```\n",
    "\n",
    "In most cases, if an even number is written as the sum of two prime numbers, one of them is very small. Very rarely, the primes are both bigger than, say, 50. Try to find out how many such cases there are in the range 2..3000.\n",
    "\n",
    "Example (minimum value of 50 for the primes):\n",
    "\n",
    "```scala\n",
    "scala> printGoldbachListLimited(1 to 2000, 50)\n",
    "992 = 73 + 919\n",
    "1382 = 61 + 1321\n",
    "1856 = 67 + 1789\n",
    "1928 = 61 + 1867\n",
    "```"
   ]
  },
  {
   "cell_type": "code",
   "execution_count": 192,
   "metadata": {},
   "outputs": [
    {
     "name": "stdout",
     "output_type": "stream",
     "text": [
      "10 = 3 + 7\n",
      "12 = 5 + 7\n",
      "14 = 3 + 11\n",
      "16 = 3 + 13\n",
      "18 = 5 + 13\n",
      "20 = 3 + 17\n",
      "992 = 73 + 919\n",
      "1382 = 61 + 1321\n",
      "1856 = 67 + 1789\n",
      "1928 = 61 + 1867\n"
     ]
    },
    {
     "data": {
      "text/plain": [
       "defined \u001b[32mfunction\u001b[39m \u001b[36mprintGoldbachList\u001b[39m\n",
       "defined \u001b[32mfunction\u001b[39m \u001b[36mprintGoldbachListLimited\u001b[39m"
      ]
     },
     "execution_count": 192,
     "metadata": {},
     "output_type": "execute_result"
    }
   ],
   "source": [
    "def printGoldbachList(rng: Seq[Int]): Unit = rng\n",
    "  .filter(a => a % 2 == 0 && a > 2)\n",
    "  .foreach(n => {\n",
    "    val ans = n.goldbach\n",
    "    println(f\"${n} = ${ans._1} + ${ans._2}\")  \n",
    "  })\n",
    "printGoldbachList(9 to 20)\n",
    "\n",
    "def printGoldbachListLimited(rng: Seq[Int], m: Int): Unit = rng\n",
    "  .filter(a => a % 2 == 0 && a > 2)\n",
    "  .foreach(n => {\n",
    "    val ans = n.goldbach\n",
    "    if (ans._1 > m && ans._2 > m) println(f\"${n} = ${ans._1} + ${ans._2}\")  \n",
    "  })\n",
    "printGoldbachListLimited(1 to 2000, 50)"
   ]
  },
  {
   "cell_type": "markdown",
   "metadata": {},
   "source": [
    "### P46 (**) Truth tables for logical expressions.\n",
    "\n",
    "Define functions and, or, nand, nor, xor, impl, and equ (for logical equivalence) which return true or false according to the result of their respective operations; e.g. and(A, B) is true if and only if both A and B are true.\n",
    "\n",
    "```scala\n",
    "scala> and(true, true)\n",
    "res0: Boolean = true\n",
    "```\n",
    "\n",
    "```scala\n",
    "scala> xor(true, true)\n",
    "res1: Boolean = false\n",
    "```\n",
    "\n",
    "A logical expression in two variables can then be written as an function of two variables, e.g: `(a: Boolean, b: Boolean) => and(or(a, b), nand(a, b))`\n",
    "\n",
    "Now, write a function called table2 which prints the truth table of a given logical expression in two variables.\n",
    "\n",
    "```scala\n",
    "scala> table2((a: Boolean, b: Boolean) => and(a, or(a, b)))\n",
    "A     B     result\n",
    "true  true  true\n",
    "true  false true\n",
    "false true  false\n",
    "false false false\n",
    "```"
   ]
  },
  {
   "cell_type": "code",
   "execution_count": 193,
   "metadata": {},
   "outputs": [
    {
     "name": "stdout",
     "output_type": "stream",
     "text": [
      "\n",
      "truth table for `a && (a || b)`\n",
      "A     B     result\n",
      "true  true  true  \n",
      "true  false true  \n",
      "false true  false \n",
      "false false false \n",
      "\n",
      "truth table for `a xor b`\n",
      "A     B     result\n",
      "true  true  false \n",
      "true  false true  \n",
      "false true  true  \n",
      "false false false \n",
      "\n",
      "truth table for `a -> b`\n",
      "A     B     result\n",
      "true  true  true  \n",
      "true  false false \n",
      "false true  true  \n",
      "false false true  \n",
      "\n",
      "truth table for `a <-> b`\n",
      "A     B     result\n",
      "true  true  true  \n",
      "true  false false \n",
      "false true  false \n",
      "false false true  \n"
     ]
    },
    {
     "data": {
      "text/plain": [
       "defined \u001b[32mfunction\u001b[39m \u001b[36mnot\u001b[39m\n",
       "defined \u001b[32mfunction\u001b[39m \u001b[36mand\u001b[39m\n",
       "defined \u001b[32mfunction\u001b[39m \u001b[36mor\u001b[39m\n",
       "defined \u001b[32mfunction\u001b[39m \u001b[36mnand\u001b[39m\n",
       "defined \u001b[32mfunction\u001b[39m \u001b[36mxor\u001b[39m\n",
       "defined \u001b[32mfunction\u001b[39m \u001b[36mimpl\u001b[39m\n",
       "defined \u001b[32mfunction\u001b[39m \u001b[36mequ\u001b[39m\n",
       "\u001b[36mres192_7\u001b[39m: \u001b[32mBoolean\u001b[39m = \u001b[32mtrue\u001b[39m\n",
       "\u001b[36mres192_8\u001b[39m: \u001b[32mBoolean\u001b[39m = \u001b[32mfalse\u001b[39m\n",
       "defined \u001b[32mfunction\u001b[39m \u001b[36mtable2\u001b[39m"
      ]
     },
     "execution_count": 193,
     "metadata": {},
     "output_type": "execute_result"
    }
   ],
   "source": [
    "def not(a: Boolean): Boolean = !a\n",
    "def and(a: Boolean, b: Boolean): Boolean = a && b\n",
    "def or(a: Boolean, b: Boolean): Boolean = a || b\n",
    "def nand(a: Boolean, b: Boolean): Boolean = !and(a, b)\n",
    "def xor(a: Boolean, b: Boolean): Boolean = or(a, b) && nand(a, b)\n",
    "def impl(a: Boolean, b: Boolean): Boolean = and(a, b) || !a\n",
    "def equ(a:Boolean, b: Boolean): Boolean = impl(a, b) && impl(b, a)\n",
    "\n",
    "and(true, true)\n",
    "xor(true, true)\n",
    "\n",
    "def table2(predicate: (Boolean, Boolean) => Boolean): Unit = {\n",
    "  println(\"A     B     result\")\n",
    "  List(true, true, false, false).zip(List(true, false, true, false))\n",
    "    .foreach {case (a, b) => println(f\"$a%-5s $b%-5s ${predicate(a, b)}%-5s \")}\n",
    "}\n",
    "\n",
    "println(\"\\ntruth table for `a && (a || b)`\")\n",
    "table2((a: Boolean, b: Boolean) => and(a, or(a, b)))\n",
    "\n",
    "println(\"\\ntruth table for `a xor b`\")\n",
    "table2(xor)\n",
    "\n",
    "println(\"\\ntruth table for `a -> b`\")\n",
    "table2(impl)\n",
    "\n",
    "println(\"\\ntruth table for `a <-> b`\")\n",
    "table2(equ)\n"
   ]
  },
  {
   "cell_type": "markdown",
   "metadata": {},
   "source": [
    "### P47 (*) Truth tables for logical expressions (2).\n",
    "    \n",
    "Continue problem P46 by redefining and, or, etc as operators. (i.e. make them methods of a new class with an implicit conversion from Boolean.) not will have to be left as a object method.\n",
    "\n",
    "```scala\n",
    "scala> table2((a: Boolean, b: Boolean) => a and (a or not(b)))\n",
    "A     B     result\n",
    "true  true  true\n",
    "true  false true\n",
    "false true  false\n",
    "false false false\n",
    "```"
   ]
  },
  {
   "cell_type": "code",
   "execution_count": 194,
   "metadata": {},
   "outputs": [
    {
     "name": "stdout",
     "output_type": "stream",
     "text": [
      "A     B     result\n",
      "true  true  true  \n",
      "true  false true  \n",
      "false true  false \n",
      "false false false \n"
     ]
    },
    {
     "data": {
      "text/plain": [
       "defined \u001b[32mclass\u001b[39m \u001b[36mP47\u001b[39m"
      ]
     },
     "execution_count": 194,
     "metadata": {},
     "output_type": "execute_result"
    }
   ],
   "source": [
    "implicit class P47(a: Boolean) {\n",
    "  def not(b: Boolean) = !b  // redefine here to be self-content\n",
    "  def and(b: Boolean): Boolean = a && b\n",
    "  def or(b: Boolean): Boolean = a || b\n",
    "  def nand(b: Boolean): Boolean = (a and b)\n",
    "  def xor(b: Boolean): Boolean = (a or b) and (a nand b)\n",
    "  def impl(b: Boolean): Boolean = (a and b) or not(a)\n",
    "  def equ(b: Boolean): Boolean = (a impl b) && (b impl a) \n",
    "}\n",
    "\n",
    "table2((a: Boolean, b: Boolean) => a and (a or not(b)))"
   ]
  },
  {
   "cell_type": "markdown",
   "metadata": {},
   "source": [
    "### P48 (**) Truth tables for logical expressions (3).\n",
    "\n",
    "Omitted for now."
   ]
  },
  {
   "cell_type": "markdown",
   "metadata": {},
   "source": [
    "### P49 (**) Gray code.\n",
    "    \n",
    "An n-bit Gray code is a sequence of n-bit strings constructed according to certain rules. For example,\n",
    "\n",
    "```\n",
    "n = 1: C(1) = (\"0\", \"1\").\n",
    "n = 2: C(2) = (\"00\", \"01\", \"11\", \"10\").\n",
    "n = 3: C(3) = (\"000\", \"001\", \"011\", \"010\", \"110\", \"111\", \"101\", \"100\").\n",
    "```\n",
    "\n",
    "Find out the construction rules and write a function to generate Gray codes.\n",
    "\n",
    "```scala\n",
    "scala> gray(3)\n",
    "res0 List[String] = List(000, 001, 011, 010, 110, 111, 101, 100)\n",
    "```\n",
    "\n",
    "See if you can use memoization to make the function more efficient."
   ]
  },
  {
   "cell_type": "code",
   "execution_count": 195,
   "metadata": {},
   "outputs": [
    {
     "data": {
      "text/plain": [
       "\u001b[36mgray\u001b[39m: \u001b[32mStream\u001b[39m[\u001b[32mList\u001b[39m[\u001b[32mString\u001b[39m]] = \u001b[32m<lazy>\u001b[39m\n",
       "\u001b[36mres194_1\u001b[39m: \u001b[32mList\u001b[39m[\u001b[32mString\u001b[39m] = \u001b[33mList\u001b[39m(\u001b[32m\"000\"\u001b[39m, \u001b[32m\"001\"\u001b[39m, \u001b[32m\"010\"\u001b[39m, \u001b[32m\"011\"\u001b[39m, \u001b[32m\"100\"\u001b[39m, \u001b[32m\"101\"\u001b[39m, \u001b[32m\"110\"\u001b[39m, \u001b[32m\"111\"\u001b[39m)"
      ]
     },
     "execution_count": 195,
     "metadata": {},
     "output_type": "execute_result"
    }
   ],
   "source": [
    "lazy val gray: Stream[List[String]] = {\n",
    "  List(\"\") #:: \n",
    "    gray.map {_.flatMap(g => List(g + \"0\", g + \"1\"))}  \n",
    "}\n",
    "\n",
    "gray(3)"
   ]
  },
  {
   "cell_type": "markdown",
   "metadata": {},
   "source": [
    "### P50 (\\*\\**) Huffman code.\n",
    "    \n",
    "First of all, consult a good book on discrete mathematics or algorithms for a detailed description of Huffman codes!\n",
    "\n",
    "We suppose a set of symbols with their frequencies, given as a list of (S, F) Tuples. E.g. `((\"a\", 45), (\"b\", 13), (\"c\", 12), (\"d\", 16), (\"e\", 9), (\"f\", 5))`. Our objective is to construct a list of (S, C) Tuples, where C is the Huffman code word for the symbol S.\n",
    "\n",
    "```scala\n",
    "scala> huffman(List((\"a\", 45), (\"b\", 13), (\"c\", 12), (\"d\", 16), (\"e\", 9), (\"f\", 5)))\n",
    "res0: List[String, String] = List((a,0), (b,101), (c,100), (d,111), (e,1101), (f,1100))\n",
    "```"
   ]
  },
  {
   "cell_type": "code",
   "execution_count": 196,
   "metadata": {},
   "outputs": [
    {
     "data": {
      "text/plain": [
       "defined \u001b[32mobject\u001b[39m \u001b[36mP50\u001b[39m\n",
       "\u001b[36mres195_1\u001b[39m: \u001b[32mList\u001b[39m[(\u001b[32mString\u001b[39m, \u001b[32mString\u001b[39m)] = \u001b[33mList\u001b[39m(\n",
       "  (\u001b[32m\"a\"\u001b[39m, \u001b[32m\"0\"\u001b[39m),\n",
       "  (\u001b[32m\"b\"\u001b[39m, \u001b[32m\"101\"\u001b[39m),\n",
       "  (\u001b[32m\"c\"\u001b[39m, \u001b[32m\"100\"\u001b[39m),\n",
       "  (\u001b[32m\"d\"\u001b[39m, \u001b[32m\"111\"\u001b[39m),\n",
       "  (\u001b[32m\"e\"\u001b[39m, \u001b[32m\"1101\"\u001b[39m),\n",
       "  (\u001b[32m\"f\"\u001b[39m, \u001b[32m\"1100\"\u001b[39m)\n",
       ")"
      ]
     },
     "execution_count": 196,
     "metadata": {},
     "output_type": "execute_result"
    }
   ],
   "source": [
    "object P50 {\n",
    "  /*\n",
    "  Uses mutable priority queue since the standard library does not have immutable priority queue\n",
    "  */\n",
    "  import scala.collection.mutable.PriorityQueue\n",
    "  abstract class Tree(val freq: Int) \n",
    "  case class Leaf(s: String, override val freq: Int) extends Tree(freq)\n",
    "  case class Fork(left: Tree, Right: Tree, override val freq: Int) extends Tree(freq)  \n",
    "  object TreeOrdering extends Ordering[Tree] {\n",
    "    // define the ordering for trees so that smaller one comes first   \n",
    "    def compare(a: Tree, b: Tree) = -a.freq compare -b.freq\n",
    "  }\n",
    "    \n",
    "  def makeHuffmanTree(lst: List[(String, Int)]): Tree = {    \n",
    "    // cf. Cormen et al 2009, Ch16.3\n",
    "    val n: Int = lst.length\n",
    "    val q: PriorityQueue[Tree] = PriorityQueue()(TreeOrdering)\n",
    "    lst foreach { case(s, f) => q.enqueue(Leaf(s, f)) }\n",
    "    \n",
    "    while (q.size > 1) {\n",
    "      val x = q.dequeue()        \n",
    "      val y = q.dequeue()\n",
    "      val z = Fork(x, y, x.freq + y.freq)\n",
    "      q.enqueue(z)  \n",
    "    }  \n",
    "    q.dequeue() \n",
    "  }  \n",
    "  \n",
    "  def huffman(lst: List[(String, Int)]): List[(String, String)] = {\n",
    "    val h = makeHuffmanTree(lst)\n",
    "    // traverse huffman tree to get the codewords\n",
    "    def loop(code: String, tree: Tree): List[(String, String)] = {\n",
    "      tree match {\n",
    "        case Leaf(s, _) => List((s, code))\n",
    "        case Fork(left, right, _) => loop(code + \"0\", left) ::: loop(code + \"1\", right)\n",
    "      }  \n",
    "    }\n",
    "    loop(\"\", h).sortWith(_._1 < _._1)  // the short is to order the outcome by letters \n",
    "  }  \n",
    "}\n",
    "\n",
    "P50.huffman(List((\"a\", 45), (\"b\", 13), (\"c\", 12), (\"d\", 16), (\"e\", 9), (\"f\", 5)))"
   ]
  },
  {
   "cell_type": "markdown",
   "metadata": {},
   "source": [
    "## Binary Trees\n",
    "\n",
    "A binary tree is either empty or it is composed of a root element and two successors, which are binary trees themselves.\n",
    "\n",
    "We shall use the following classes to represent binary trees. (Also available in tree1.scala.) An End is equivalent to an empty tree. A Branch has a value, and two descendant trees. The toString functions are relatively arbitrary, but they yield a more compact output than Scala's default. Putting a plus in front of the T makes the class covariant; it will be able to hold subtypes of whatever type it's created for. (This is important so that End can be a singleton object; as a singleton, it must have a specific type, so we give it type Nothing, which is a subtype of every other type.)\n"
   ]
  },
  {
   "cell_type": "code",
   "execution_count": 197,
   "metadata": {},
   "outputs": [
    {
     "data": {
      "text/plain": [
       "defined \u001b[32mclass\u001b[39m \u001b[36mTree\u001b[39m\n",
       "defined \u001b[32mclass\u001b[39m \u001b[36mNode\u001b[39m\n",
       "defined \u001b[32mobject\u001b[39m \u001b[36mEnd\u001b[39m\n",
       "defined \u001b[32mobject\u001b[39m \u001b[36mNode\u001b[39m\n",
       "\u001b[36mres196_4\u001b[39m: \u001b[32mwrapper\u001b[39m.\u001b[32mwrapper\u001b[39m.\u001b[32mNode\u001b[39m[\u001b[32mChar\u001b[39m] = T(a T(b T(d . .) T(e . .)) T(c . T(f T(g . .) .)))"
      ]
     },
     "execution_count": 197,
     "metadata": {},
     "output_type": "execute_result"
    }
   ],
   "source": [
    "abstract class Tree[+T]\n",
    "case class Node[+T](value: T, left: Tree[T], right: Tree[T]) extends Tree[T] {\n",
    "  override def toString = \"T(\" + value.toString + \" \" + left.toString + \" \" + right.toString + \")\"\n",
    "}\n",
    "case object End extends Tree[Nothing] {\n",
    "  override def toString = \".\"\n",
    "}\n",
    "object Node {\n",
    "  def apply[T](value: T): Node[T] = Node(value, End, End)\n",
    "}\n",
    "\n",
    "Node('a',\n",
    "     Node('b', Node('d'), Node('e')),\n",
    "     Node('c', End, Node('f', Node('g'), End)))"
   ]
  },
  {
   "cell_type": "markdown",
   "metadata": {},
   "source": [
    "The example tree on the right is given by\n",
    "\n",
    "```scala\n",
    "Node('a',\n",
    "     Node('b', Node('d'), Node('e')),\n",
    "     Node('c', End, Node('f', Node('g'), End)))\n",
    "```\n",
    "\n",
    "A tree with only a root node would be `Node('a')` and an empty tree would be `End`.\n",
    "\n",
    "Throughout this section, we will be adding methods to the classes above, mostly to Tree."
   ]
  },
  {
   "cell_type": "markdown",
   "metadata": {},
   "source": [
    "### P54 Omitted; our tree representation will only allow well-formed trees.\n",
    "\n",
    "Score one for static typing."
   ]
  },
  {
   "cell_type": "markdown",
   "metadata": {},
   "source": [
    "### P55 (**) Construct completely balanced binary trees.\n",
    "\n",
    "In a completely balanced binary tree, the following property holds for every node: The number of nodes in its left subtree and the number of nodes in its right subtree are almost equal, which means their difference is not greater than one.\n",
    "\n",
    "Define an object named `Tree`. Write a function `Tree.cBalanced` to construct completely balanced binary trees for a given number of nodes. The function should generate all solutions. The function should take as parameters the number of nodes and a single value to put in all of them.\n",
    "\n",
    "```scala\n",
    "scala> Tree.cBalanced(4, \"x\")\n",
    "res0: List(Node[String]) = List(T(x T(x . .) T(x . T(x . .))), T(x T(x . .) T(x T(x . .) .)), ...\n",
    "```\n",
    "                                "
   ]
  },
  {
   "cell_type": "code",
   "execution_count": 198,
   "metadata": {},
   "outputs": [
    {
     "data": {
      "text/plain": [
       "defined \u001b[32mobject\u001b[39m \u001b[36mP55\u001b[39m\n",
       "\u001b[36mres197_1\u001b[39m: \u001b[32mList\u001b[39m[\u001b[32mNode\u001b[39m[\u001b[32mString\u001b[39m]] = \u001b[33mList\u001b[39m(\n",
       "  T(x T(x . .) T(x . T(x . .))),\n",
       "  T(x T(x . .) T(x T(x . .) .)),\n",
       "  T(x T(x . T(x . .)) T(x . .)),\n",
       "  T(x T(x T(x . .) .) T(x . .))\n",
       ")\n",
       "\u001b[36mres197_2\u001b[39m: \u001b[32mInt\u001b[39m = \u001b[32m4\u001b[39m"
      ]
     },
     "execution_count": 198,
     "metadata": {},
     "output_type": "execute_result"
    }
   ],
   "source": [
    "// Use object name `P55` so that the object is not overwritten \n",
    "// in the other questions\n",
    "\n",
    "object P55 {\n",
    "\n",
    "  def cBalanced[T](n: Int, value: T): List[Node[T]] = {\n",
    "    if (n == 1) List(Node(value))\n",
    "    else if ((n - 1) % 2 == 0) {\n",
    "       // case with even number of nodes left,\n",
    "       // we need to have the same size of subtrees\n",
    "       val m = (n - 1) / 2\n",
    "       val subtrees = cBalanced(m, value)\n",
    "       // we want all combinations of the subtrees as (left, right) \n",
    "       for { left <- subtrees; right <- subtrees } yield Node(value, left, right) \n",
    "    } else {\n",
    "      // case with odd number of nodes left,\n",
    "      // we have a different size of subtrees\n",
    "      // caution: m1 can be zero, where subtree should be End  \n",
    "      val m1 = (n - 1) / 2\n",
    "      val m2 = n - 1 - m1\n",
    "      val subtrees1 = if (m1 > 0) cBalanced(m1, value) else List(End)\n",
    "      val subtrees2 = cBalanced(m2, value)\n",
    "      (for { left <- subtrees1; right <- subtrees2 } yield Node(value, left, right)) :::\n",
    "        (for { left <- subtrees2; right <- subtrees1 } yield Node(value, left, right)) \n",
    "    }\n",
    "  }\n",
    "}\n",
    "\n",
    "P55.cBalanced(4, \"x\")\n",
    "P55.cBalanced(4, \"x\").size"
   ]
  },
  {
   "cell_type": "markdown",
   "metadata": {},
   "source": [
    "### P56 (**) Symmetric binary trees.\n",
    "\n",
    "Let us call a binary tree symmetric if you can draw a vertical line through the root node and then the right subtree is the mirror image of the left subtree. Add an `isSymmetric` method to the Tree class to check whether a given binary tree is symmetric. Hint: Write an `isMirrorOf` method first to check whether one tree is the mirror image of another. We are only interested in the structure, not in the contents of the nodes.\n",
    "\n",
    "```scala\n",
    "scala> Node('a', Node('b'), Node('c')).isSymmetric\n",
    "res0: Boolean = true\n",
    "```"
   ]
  },
  {
   "cell_type": "code",
   "execution_count": 199,
   "metadata": {},
   "outputs": [
    {
     "data": {
      "text/plain": [
       "defined \u001b[32mclass\u001b[39m \u001b[36mp56\u001b[39m\n",
       "\u001b[36mres198_1\u001b[39m: \u001b[32mBoolean\u001b[39m = \u001b[32mtrue\u001b[39m\n",
       "\u001b[36mres198_2\u001b[39m: \u001b[32mBoolean\u001b[39m = \u001b[32mfalse\u001b[39m\n",
       "\u001b[36mres198_3\u001b[39m: \u001b[32mBoolean\u001b[39m = \u001b[32mfalse\u001b[39m\n",
       "\u001b[36mres198_4\u001b[39m: \u001b[32mBoolean\u001b[39m = \u001b[32mtrue\u001b[39m\n",
       "\u001b[36mres198_5\u001b[39m: \u001b[32mBoolean\u001b[39m = \u001b[32mtrue\u001b[39m\n",
       "\u001b[36mres198_6\u001b[39m: \u001b[32mBoolean\u001b[39m = \u001b[32mtrue\u001b[39m"
      ]
     },
     "execution_count": 199,
     "metadata": {},
     "output_type": "execute_result"
    }
   ],
   "source": [
    "implicit class p56[T](tree: Tree[T]) {\n",
    "  def isSymmetric: Boolean = {\n",
    "    tree match {\n",
    "      case End => true  \n",
    "      case Node(_, left, right) => left.isMirrorOf(right)\n",
    "    }\n",
    "  }\n",
    "  \n",
    "  def isMirrorOf[T](that: Tree[T]): Boolean = {\n",
    "    (tree, that) match {\n",
    "      case (End, End) => true\n",
    "      case (Node(_, left1, right1), Node(_, left2, right2)) => {\n",
    "        left1.isMirrorOf(right2) && right1.isMirrorOf(left2)  \n",
    "      }\n",
    "      case _ => false   \n",
    "    }\n",
    "  } \n",
    "}\n",
    "\n",
    "Node('a', Node('b'), Node('c')).isSymmetric\n",
    "Node('a', Node('b', Node('d'), End), Node('c')).isSymmetric\n",
    "Node('a', Node('b', Node('d'), End), Node('c', Node('e'), End)).isSymmetric\n",
    "Node('a', Node('b', Node('d'), End), Node('c', End, Node('e'))).isSymmetric\n",
    "End.isSymmetric\n",
    "Node('x').isSymmetric"
   ]
  },
  {
   "cell_type": "markdown",
   "metadata": {},
   "source": [
    "### P57 (**) Binary search trees (dictionaries).\n",
    "\n",
    "Write a function to add an element to a binary search tree.\n",
    "\n",
    "```scala\n",
    "scala> End.addValue(2)\n",
    "res0: Node[Int] = T(2 . .)\n",
    "```\n",
    "\n",
    "```scala\n",
    "scala> res0.addValue(3)\n",
    "res1: Node[Int] = T(2 . T(3 . .))\n",
    "```\n",
    "\n",
    "```scala\n",
    "scala> res1.addValue(0)\n",
    "res2: Node[Int] = T(2 T(0 . .) T(3 . .))\n",
    "```\n",
    "\n",
    "Hint: The abstract definition of `addValue` in `Tree` should be `def addValue[U >: T <% Ordered[U]](x: U): Tree[U]`. The `>: T` is because `addValue`'s parameters need to be contravariant in `T`. (Conceptually, we're adding nodes above existing nodes. In order for the subnodes to be of type `T` or any subtype, the upper nodes must be of type `T` or any supertype.) The `<% Ordered[U]` allows us to use the `<` operator on the values in the tree.\n",
    "\n",
    "Use that function to construct a binary tree from a list of integers.\n",
    "\n",
    "```scala\n",
    "scala> Tree.fromList(List(3, 2, 5, 7, 1))\n",
    "res3: Node[Int] = T(3 T(2 T(1 . .) .) T(5 . T(7 . .)))\n",
    "```\n",
    "\n",
    "Finally, use that function to test your solution to P56.\n",
    "\n",
    "```scala\n",
    "scala> Tree.fromList(List(5, 3, 18, 1, 4, 12, 21)).isSymmetric\n",
    "res4: Boolean = true\n",
    "```\n",
    "\n",
    "```scala\n",
    "scala> Tree.fromList(List(3, 2, 5, 7, 4)).isSymmetric\n",
    "res5: Boolean = false\n",
    "```"
   ]
  },
  {
   "cell_type": "code",
   "execution_count": 208,
   "metadata": {},
   "outputs": [
    {
     "data": {
      "text/plain": [
       "defined \u001b[32mclass\u001b[39m \u001b[36mP57\u001b[39m\n",
       "defined \u001b[32mobject\u001b[39m \u001b[36mP57\u001b[39m\n",
       "\u001b[36mres207_2\u001b[39m: \u001b[32mTree\u001b[39m[\u001b[32mInt\u001b[39m] = T(2 . .)\n",
       "\u001b[36mres207_3\u001b[39m: \u001b[32mTree\u001b[39m[\u001b[32mInt\u001b[39m] = T(2 . T(3 . .))\n",
       "\u001b[36mres207_4\u001b[39m: \u001b[32mTree\u001b[39m[\u001b[32mInt\u001b[39m] = T(2 T(0 . .) T(3 . .))\n",
       "\u001b[36mres207_5\u001b[39m: \u001b[32mBoolean\u001b[39m = \u001b[32mtrue\u001b[39m\n",
       "\u001b[36mres207_6\u001b[39m: \u001b[32mBoolean\u001b[39m = \u001b[32mfalse\u001b[39m"
      ]
     },
     "execution_count": 208,
     "metadata": {},
     "output_type": "execute_result"
    }
   ],
   "source": [
    "implicit class P57[T](tree: Tree[T]) {\n",
    "  def addValue[U >: T <% Ordered[U]](x: U): Tree[U] = {\n",
    "    tree match {\n",
    "      case End => Node(x)\n",
    "      case Node(v, left, right) => {\n",
    "        if (x < v) Node(v, left.addValue(x), right)\n",
    "        else Node(v, left, right.addValue(x))  \n",
    "      }  \n",
    "    }   \n",
    "  }\n",
    "}\n",
    "\n",
    "object P57 {\n",
    "  def fromList[U <% Ordered[U]](lst: List[U]): Tree[U] = {\n",
    "    /*\n",
    "    def loop(acc: Tree[U], l: List[U]): Tree[U] = {\n",
    "      l match {\n",
    "        case Nil => acc\n",
    "        case x::xs => loop(acc.addValue(x), xs)  \n",
    "      }  \n",
    "    }\n",
    "    loop(End, lst)  \n",
    "    */\n",
    "    lst.foldLeft(End: Tree[U]) {(tree, elem) => tree.addValue(elem)}  \n",
    "  }  \n",
    "}\n",
    "\n",
    "End.addValue(2)\n",
    "End.addValue(2).addValue(3)\n",
    "End.addValue(2).addValue(3).addValue(0)\n",
    "\n",
    "P57.fromList(List(5, 3, 18, 1, 4, 12, 21)).isSymmetric\n",
    "P57.fromList(List(3, 2, 5, 7, 4)).isSymmetric"
   ]
  },
  {
   "cell_type": "markdown",
   "metadata": {
    "collapsed": true
   },
   "source": [
    "### P58 (**) Generate-and-test paradigm.\n",
    "\n",
    "Apply the generate-and-test paradigm to construct all symmetric, completely balanced binary trees with a given number of nodes.\n",
    "\n",
    "```scala\n",
    "scala> Tree.symmetricBalancedTrees(5, \"x\")\n",
    "res0: List[Node[String]] = List(T(x T(x . T(x . .)) T(x T(x . .) .)), T(x T(x T(x . .) .) T(x . T(x . .))))\n",
    "```"
   ]
  },
  {
   "cell_type": "code",
   "execution_count": 201,
   "metadata": {},
   "outputs": [
    {
     "data": {
      "text/plain": [
       "defined \u001b[32mobject\u001b[39m \u001b[36mP58\u001b[39m\n",
       "\u001b[36mres200_1\u001b[39m: \u001b[32mList\u001b[39m[\u001b[32mNode\u001b[39m[\u001b[32mString\u001b[39m]] = \u001b[33mList\u001b[39m(T(x T(x . T(x . .)) T(x T(x . .) .)), T(x T(x T(x . .) .) T(x . T(x . .))))"
      ]
     },
     "execution_count": 201,
     "metadata": {},
     "output_type": "execute_result"
    }
   ],
   "source": [
    "object P58 {\n",
    "  def symmetricBalancedTrees[T](n: Int, value: T): List[Node[T]] = {\n",
    "    P55.cBalanced(n, value).filter(_.isSymmetric)  \n",
    "  }  \n",
    "}\n",
    "\n",
    "P58.symmetricBalancedTrees(5, \"x\")"
   ]
  },
  {
   "cell_type": "markdown",
   "metadata": {},
   "source": [
    "### P59 (**) Construct height-balanced binary trees.\n",
    "In a height-balanced binary tree, the following property holds for every node: The height of its left subtree and the height of its right subtree are almost equal, which means their difference is not greater than one.\n",
    "\n",
    "Write a method Tree.hbalTrees to construct height-balanced binary trees for a given height with a supplied value for the nodes. The function should generate all solutions.\n",
    "\n",
    "```scala\n",
    "scala> Tree.hbalTrees(3, \"x\")\n",
    "res0: List[Node[String]] = List(T(x T(x T(x . .) T(x . .)) T(x T(x . .) T(x . .))), T(x T(x T(x . .) T(x . .)) T(x T(x . .) .)), ...\n",
    "```"
   ]
  },
  {
   "cell_type": "code",
   "execution_count": 202,
   "metadata": {},
   "outputs": [
    {
     "data": {
      "text/plain": [
       "defined \u001b[32mobject\u001b[39m \u001b[36mP59\u001b[39m\n",
       "\u001b[36mres201_1\u001b[39m: \u001b[32mList\u001b[39m[\u001b[32mNode\u001b[39m[\u001b[32mString\u001b[39m]] = \u001b[33mList\u001b[39m(\n",
       "  T(x T(x T(x . .) T(x . .)) T(x T(x . .) T(x . .))),\n",
       "  T(x T(x T(x . .) T(x . .)) T(x T(x . .) .)),\n",
       "  T(x T(x T(x . .) T(x . .)) T(x . T(x . .))),\n",
       "  T(x T(x T(x . .) .) T(x T(x . .) T(x . .))),\n",
       "  T(x T(x T(x . .) .) T(x T(x . .) .)),\n",
       "  T(x T(x T(x . .) .) T(x . T(x . .))),\n",
       "  T(x T(x . T(x . .)) T(x T(x . .) T(x . .))),\n",
       "  T(x T(x . T(x . .)) T(x T(x . .) .)),\n",
       "  T(x T(x . T(x . .)) T(x . T(x . .))),\n",
       "  T(x T(x T(x . .) T(x . .)) T(x . .)),\n",
       "  T(x T(x T(x . .) .) T(x . .)),\n",
       "\u001b[33m...\u001b[39m\n",
       "\u001b[36mres201_2\u001b[39m: \u001b[32mInt\u001b[39m = \u001b[32m15\u001b[39m"
      ]
     },
     "execution_count": 202,
     "metadata": {},
     "output_type": "execute_result"
    }
   ],
   "source": [
    "object P59 {\n",
    "  def hbalTrees[T](h: Int, value: T): List[Node[T]] = { \n",
    "    lazy val hbals: Stream[List[Node[T]]] = {\n",
    "      List(Node(value)) #:: \n",
    "        List(Node(value, Node(value), Node(value)),\n",
    "             Node(value, Node(value), End), \n",
    "             Node(value, End, Node(value))) #::\n",
    "        hbals.zip(hbals.tail).map { case (a, b) => \n",
    "          { for {left <- b; right <- b} yield Node(value, left, right) } :::\n",
    "            { for {left <- b; right <- a} yield Node(value, left, right) } :::\n",
    "            { for {left <- a; right <- b} yield Node(value, left, right) } \n",
    "        }\n",
    "    }    \n",
    "    hbals(h - 1)  \n",
    "  }\n",
    "}\n",
    "\n",
    "P59.hbalTrees(3, \"x\")\n",
    "P59.hbalTrees(3, \"x\").size"
   ]
  },
  {
   "cell_type": "markdown",
   "metadata": {},
   "source": [
    "### P60 (**) Construct height-balanced binary trees with a given number of nodes.\n",
    "\n",
    "Consider a height-balanced binary tree of height H. What is the maximum number of nodes it can contain? Clearly, `MaxN = 2H - 1`. However, what is the minimum number `MinN`? This question is more difficult. Try to find a recursive statement and turn it into a function `minHbalNodes` that takes a height and returns `MinN`.\n",
    "\n",
    "```scala\n",
    "scala> minHbalNodes(3)\n",
    "res0: Int = 4\n",
    "```\n",
    "\n",
    "On the other hand, we might ask: what is the maximum height `H` a height-balanced binary tree with `N` nodes can have? Write a `maxHbalHeight` function.\n",
    "\n",
    "```scala\n",
    "scala> maxHbalHeight(4)\n",
    "res1: Int = 3\n",
    "```\n",
    "\n",
    "Now, we can attack the main problem: construct all the height-balanced binary trees with a given nuber of nodes.\n",
    "\n",
    "```scala\n",
    "scala> Tree.hbalTreesWithNodes(4, \"x\")\n",
    "res2: List[Node[String]] = List(T(x T(x T(x . .) .) T(x . .)), T(x T(x . T(x . .)) T(x . .)), ...\n",
    "```\n",
    "\n",
    "Find out how many height-balanced trees exist for `N = 15`."
   ]
  },
  {
   "cell_type": "code",
   "execution_count": 203,
   "metadata": {},
   "outputs": [
    {
     "data": {
      "text/plain": [
       "\u001b[36mminHbalNodesStream\u001b[39m: \u001b[32mStream\u001b[39m[\u001b[32mInt\u001b[39m] = \u001b[32m<lazy>\u001b[39m\n",
       "defined \u001b[32mfunction\u001b[39m \u001b[36mminHbalNodes\u001b[39m\n",
       "\u001b[36mres202_2\u001b[39m: \u001b[32mInt\u001b[39m = \u001b[32m4\u001b[39m\n",
       "defined \u001b[32mfunction\u001b[39m \u001b[36mmaxHbalHeight\u001b[39m\n",
       "\u001b[36mres202_4\u001b[39m: \u001b[32mInt\u001b[39m = \u001b[32m3\u001b[39m\n",
       "defined \u001b[32mfunction\u001b[39m \u001b[36mminHbalHeight\u001b[39m\n",
       "\u001b[36mres202_6\u001b[39m: \u001b[32mInt\u001b[39m = \u001b[32m3\u001b[39m\n",
       "defined \u001b[32mfunction\u001b[39m \u001b[36mcountNodes\u001b[39m\n",
       "defined \u001b[32mobject\u001b[39m \u001b[36mP60\u001b[39m\n",
       "\u001b[36mres202_9\u001b[39m: \u001b[32mList\u001b[39m[\u001b[32mNode\u001b[39m[\u001b[32mString\u001b[39m]] = \u001b[33mList\u001b[39m(\n",
       "  T(x T(x T(x . .) .) T(x . .)),\n",
       "  T(x T(x . T(x . .)) T(x . .)),\n",
       "  T(x T(x . .) T(x T(x . .) .)),\n",
       "  T(x T(x . .) T(x . T(x . .)))\n",
       ")\n",
       "\u001b[36mres202_10\u001b[39m: \u001b[32mInt\u001b[39m = \u001b[32m1553\u001b[39m\n",
       "defined \u001b[32mfunction\u001b[39m \u001b[36mgetHeight\u001b[39m\n",
       "defined \u001b[32mfunction\u001b[39m \u001b[36misHeightBalanced\u001b[39m\n",
       "\u001b[36mres202_13\u001b[39m: \u001b[32mBoolean\u001b[39m = \u001b[32mtrue\u001b[39m\n",
       "\u001b[36mres202_14\u001b[39m: \u001b[32mBoolean\u001b[39m = \u001b[32mtrue\u001b[39m\n",
       "\u001b[36mn\u001b[39m: \u001b[32mInt\u001b[39m = \u001b[32m11\u001b[39m\n",
       "\u001b[36mh1\u001b[39m: \u001b[32mInt\u001b[39m = \u001b[32m4\u001b[39m\n",
       "\u001b[36mres202_17\u001b[39m: \u001b[32mInt\u001b[39m = \u001b[32m0\u001b[39m\n",
       "\u001b[36mres202_18\u001b[39m: \u001b[32mInt\u001b[39m = \u001b[32m70\u001b[39m\n",
       "\u001b[36mh2\u001b[39m: \u001b[32mInt\u001b[39m = \u001b[32m4\u001b[39m\n",
       "\u001b[36mres202_20\u001b[39m: \u001b[32mInt\u001b[39m = \u001b[32m70\u001b[39m\n",
       "\u001b[36mres202_21\u001b[39m: \u001b[32mInt\u001b[39m = \u001b[32m0\u001b[39m"
      ]
     },
     "execution_count": 203,
     "metadata": {},
     "output_type": "execute_result"
    }
   ],
   "source": [
    "lazy val minHbalNodesStream: Stream[Int] = \n",
    "  1 #:: 2 #:: minHbalNodesStream.zip(minHbalNodesStream.tail)\n",
    "    .map { pair => 1 + pair._1 + pair._2 }  \n",
    "\n",
    "// minimum number of nodes that can make height-balanced tree of height h\n",
    "def minHbalNodes(h: Int): Int = minHbalNodesStream(h-1)  \n",
    "minHbalNodes(3)\n",
    "\n",
    "// maximum height that a height-balanced tree with n nodes can have\n",
    "def maxHbalHeight(n: Int): Int = minHbalNodesStream.takeWhile(_ <= n).size  \n",
    "\n",
    "maxHbalHeight(4)\n",
    "\n",
    "// minimum height that a height-balanced tree with n nodes can have\n",
    "def minHbalHeight(n: Int): Int = math.ceil(math.log((n+1).toDouble) / math.log(2.toDouble)).toInt\n",
    "minHbalHeight(4)\n",
    "\n",
    "def countNodes[T](tree: Tree[T]): Int = tree match {\n",
    "  case End => 0\n",
    "  case Node(_, left, right) => 1 + countNodes(left) + countNodes(right)  \n",
    "}\n",
    "\n",
    "object P60 {\n",
    "  // all height-balanced trees with n nodes  \n",
    "  def hbalTreesWithNodes[T](n: Int, value: T): List[Node[T]] =   \n",
    "    { minHbalHeight(n) to maxHbalHeight(n) } \n",
    "      .flatMap(P59.hbalTrees(_, value)).toList\n",
    "      .filter(countNodes(_) == n)\n",
    "}\n",
    "P60.hbalTreesWithNodes(4, \"x\")\n",
    "P60.hbalTreesWithNodes(15, \"x\").size\n",
    "\n",
    "// checking\n",
    "def getHeight[T](tree: Tree[T]): Int = tree match {\n",
    "  case End => 0\n",
    "  case Node(_, left, right) => 1 + getHeight(left).max(getHeight(right))\n",
    "}\n",
    "\n",
    "def isHeightBalanced[T](tree: Tree[T]): Boolean = tree match {\n",
    "  case End => true\n",
    "  case Node(_, left, right) => (getHeight(left) - getHeight(right)).abs <= 1\n",
    "}\n",
    "\n",
    "P60.hbalTreesWithNodes(15, \"x\") forall isHeightBalanced\n",
    "P60.hbalTreesWithNodes(15, \"x\") forall { countNodes(_) == 15 }\n",
    "\n",
    "val n = 11\n",
    "val h1 = minHbalHeight(n)\n",
    "P59.hbalTrees(h1-1, \"x\").filter(countNodes(_) == n).size  // should be empty\n",
    "P59.hbalTrees(h1, \"x\").filter(countNodes(_) == n).size    // should be nonempty\n",
    "val h2 = maxHbalHeight(n)\n",
    "P59.hbalTrees(h2, \"x\").filter(countNodes(_) == n).size    // should be nonempty\n",
    "P59.hbalTrees(h2+1, \"x\").filter(countNodes(_) == n).size  // should be empty\n"
   ]
  },
  {
   "cell_type": "markdown",
   "metadata": {},
   "source": [
    "### P61 (*) Count the leaves of a binary tree.\n",
    "\n",
    "A leaf is a node with no successors. Write a method leafCount to count them.\n",
    "\n",
    "```scala\n",
    "scala> Node('x', Node('x'), End).leafCount\n",
    "res0: Int = 1\n",
    "```"
   ]
  },
  {
   "cell_type": "code",
   "execution_count": 221,
   "metadata": {},
   "outputs": [
    {
     "data": {
      "text/plain": [
       "defined \u001b[32mclass\u001b[39m \u001b[36mP61\u001b[39m\n",
       "\u001b[36mres220_1\u001b[39m: \u001b[32mInt\u001b[39m = \u001b[32m1\u001b[39m"
      ]
     },
     "execution_count": 221,
     "metadata": {},
     "output_type": "execute_result"
    }
   ],
   "source": [
    "implicit class P61[T](tree: Tree[T]) {\n",
    "  /*                              \n",
    "  def leafCount: Int = tree match {\n",
    "    case End => 0\n",
    "    case Node(_, End, End) => 1\n",
    "    case Node(_, left, right) => left.leafCount + right.leafCount\n",
    "  }  \n",
    "  */\n",
    "  import scala.annotation.tailrec \n",
    "  \n",
    "  def leafCount: Int = {\n",
    "    @tailrec def inner(acc: Int, checkList: List[Tree[T]]): Int = checkList match {      \n",
    "      case Nil => acc\n",
    "      case h :: t => h match {\n",
    "        case Node(x, End, End) => inner(acc + 1, t)\n",
    "        case Node(_, left, right) => {\n",
    "          val checkListNew = \n",
    "            List(left, right)\n",
    "              .flatMap(node => if (node == End) Nil else List(node)) ::: t\n",
    "          inner(acc, checkListNew)  \n",
    "        }\n",
    "      } \n",
    "    } \n",
    "    inner(0, List(tree))  \n",
    "  }  \n",
    "}\n",
    "Node('x', Node('x'), End).leafCount"
   ]
  },
  {
   "cell_type": "markdown",
   "metadata": {},
   "source": [
    "### 61A (*) Collect the leaves of a binary tree in a list.\n",
    "\n",
    "A leaf is a node with no successors. Write a method leafList to collect them in a list.\n",
    "\n",
    "```scala\n",
    "scala> Node('a', Node('b'), Node('c', Node('d'), Node('e'))).leafList\n",
    "res0: List[Char] = List(b, d, e)\n",
    "```"
   ]
  },
  {
   "cell_type": "code",
   "execution_count": 223,
   "metadata": {},
   "outputs": [
    {
     "data": {
      "text/plain": [
       "defined \u001b[32mclass\u001b[39m \u001b[36mP61A\u001b[39m\n",
       "\u001b[36mres222_1\u001b[39m: \u001b[32mList\u001b[39m[\u001b[32mChar\u001b[39m] = \u001b[33mList\u001b[39m(\u001b[32m'b'\u001b[39m, \u001b[32m'd'\u001b[39m, \u001b[32m'e'\u001b[39m)"
      ]
     },
     "execution_count": 223,
     "metadata": {},
     "output_type": "execute_result"
    }
   ],
   "source": [
    "implicit class P61A[T](tree: Tree[T]) {\n",
    "  /*  \n",
    "  def leafList: List[T] = tree match {\n",
    "    case End => Nil\n",
    "    case Node(x, End, End) => List(x)\n",
    "    case Node(_, left, right) => left.leafList ::: right.leafList\n",
    "  }\n",
    "  */\n",
    "  import scala.annotation.tailrec\n",
    "    \n",
    "  def leafList: List[T] = {\n",
    "    @tailrec def inner(acc: List[T], checkList: List[Tree[T]]): List[T] = checkList match {      \n",
    "      case Nil => acc\n",
    "      case h :: t => h match {\n",
    "        case Node(x, End, End) => inner(x :: acc, t)\n",
    "        case Node(_, left, right) => {\n",
    "          val checkListNew = \n",
    "            List(right, left)\n",
    "              .flatMap(node => if (node == End) Nil else List(node)) ::: t\n",
    "          inner(acc, checkListNew)  \n",
    "        }\n",
    "      } \n",
    "    } \n",
    "    inner(Nil, List(tree))\n",
    "  }  \n",
    "}\n",
    "Node('a', Node('b'), Node('c', Node('d'), Node('e'))).leafList"
   ]
  },
  {
   "cell_type": "markdown",
   "metadata": {},
   "source": [
    "### P62 (*) Collect the internal nodes of a binary tree in a list.\n",
    "\n",
    "An internal node of a binary tree has either one or two non-empty successors. Write a method `internalList` to collect them in a list.\n",
    "\n",
    "```scala\n",
    "scala> Node('a', Node('b'), Node('c', Node('d'), Node('e'))).internalList\n",
    "res0: List[Char] = List(a, c)\n",
    "```"
   ]
  },
  {
   "cell_type": "code",
   "execution_count": 229,
   "metadata": {},
   "outputs": [
    {
     "data": {
      "text/plain": [
       "defined \u001b[32mclass\u001b[39m \u001b[36mP62\u001b[39m\n",
       "\u001b[36mres228_1\u001b[39m: \u001b[32mList\u001b[39m[\u001b[32mChar\u001b[39m] = \u001b[33mList\u001b[39m(\u001b[32m'c'\u001b[39m, \u001b[32m'a'\u001b[39m)"
      ]
     },
     "execution_count": 229,
     "metadata": {},
     "output_type": "execute_result"
    }
   ],
   "source": [
    "implicit class P62[T](tree: Tree[T]) {\n",
    "  import scala.annotation.tailrec\n",
    "    \n",
    "  def internalList: List[T] = {\n",
    "    @tailrec def inner(acc: List[T], checkList: List[Tree[T]]): List[T] = checkList match {      \n",
    "      case Nil => acc\n",
    "      case h :: t => h match {\n",
    "        case Node(x, left, right) => {\n",
    "          val checkListNew = \n",
    "            List(left, right)\n",
    "              .flatMap(node => if (node == End) Nil else List(node)) ::: t\n",
    "          val accNew = if (left == End && right == End) acc else x :: acc \n",
    "          inner(accNew, checkListNew)  \n",
    "        }\n",
    "      } \n",
    "    } \n",
    "    inner(Nil, List(tree))\n",
    "  }  \n",
    "}\n",
    "Node('a', Node('b'), Node('c', Node('d'), Node('e'))).internalList"
   ]
  },
  {
   "cell_type": "markdown",
   "metadata": {},
   "source": [
    "### P62B (*) Collect the nodes at a given level in a list.\n",
    "\n",
    "A node of a binary tree is at level `N` if the path from the root to the node has length `N-1`. The root node is at level 1. Write a method `atLevel` to collect all nodes at a given level in a list.\n",
    "\n",
    "```scala\n",
    "scala> Node('a', Node('b'), Node('c', Node('d'), Node('e'))).atLevel(2)\n",
    "res0: List[Char] = List(b, c)\n",
    "```\n",
    "\n",
    "Using `atLevel` it is easy to construct a method levelOrder which creates the level-order sequence of the nodes. However, there are more efficient ways to do that."
   ]
  },
  {
   "cell_type": "code",
   "execution_count": 232,
   "metadata": {},
   "outputs": [
    {
     "data": {
      "text/plain": [
       "defined \u001b[32mclass\u001b[39m \u001b[36mP62B\u001b[39m\n",
       "\u001b[36mres231_1\u001b[39m: \u001b[32mList\u001b[39m[\u001b[32mChar\u001b[39m] = \u001b[33mList\u001b[39m(\u001b[32m'c'\u001b[39m, \u001b[32m'b'\u001b[39m)"
      ]
     },
     "execution_count": 232,
     "metadata": {},
     "output_type": "execute_result"
    }
   ],
   "source": [
    "implicit class P62B[T](tree: Tree[T]) {\n",
    "  import scala.annotation.tailrec\n",
    "    \n",
    "  def atLevel(level: Int): List[T] = {\n",
    "    @tailrec def inner(acc: List[T], checkList: List[(Tree[T], Int)]): List[T] = checkList match {      \n",
    "      case Nil => acc\n",
    "      case h :: t => h match {\n",
    "        case (Node(x, left, right), lev) => {\n",
    "          val checkListNew = \n",
    "            List(left, right)\n",
    "              .flatMap(node => if (node == End) Nil else List((node, lev + 1))) ::: t\n",
    "          val accNew = if (lev == level) x :: acc else acc \n",
    "          inner(accNew, checkListNew)  \n",
    "        }\n",
    "      } \n",
    "    } \n",
    "    inner(Nil, List((tree, 1)))\n",
    "  }    \n",
    "} \n",
    "Node('a', Node('b'), Node('c', Node('d'), Node('e'))).atLevel(2)"
   ]
  },
  {
   "cell_type": "markdown",
   "metadata": {},
   "source": [
    "### P63 (**) Construct a complete binary tree.\n",
    "\n",
    "A complete binary tree with height `H` is defined as follows: The levels `1,2,3,...,H-1` contain the maximum number of nodes (i.e $2^{(i-1)}$ at the level `i`, note that we start counting the levels from 1 at the root). In level `H`, which may contain less than the maximum possible number of nodes, all the nodes are \"left-adjusted\". This means that in a levelorder tree traversal all internal nodes come first, the leaves come second, and empty successors (the Ends which are not really nodes!) come last.\n",
    "Particularly, complete binary trees are used as data structures (or addressing schemes) for heaps.\n",
    "\n",
    "We can assign an address number to each node in a complete binary tree by enumerating the nodes in levelorder, starting at the root with number 1. In doing so, we realize that for every node $X$ with address `A` the following property holds: The address of `X`'s left and right successors are `2*A` and `2*A+1`, respectively, supposed the successors do exist. This fact can be used to elegantly construct a complete binary tree structure. Write a method `completeBinaryTree` that takes as parameters the number of nodes and the value to put in each node.\n",
    "\n",
    "```scala\n",
    "scala> Tree.completeBinaryTree(6, \"x\")\n",
    "res0: Node[String] = T(x T(x T(x . .) T(x . .)) T(x T(x . .) .))\n",
    "```"
   ]
  },
  {
   "cell_type": "code",
   "execution_count": 234,
   "metadata": {},
   "outputs": [
    {
     "data": {
      "text/plain": [
       "defined \u001b[32mobject\u001b[39m \u001b[36mP63\u001b[39m\n",
       "\u001b[36mres233_1\u001b[39m: \u001b[32mNode\u001b[39m[\u001b[32mString\u001b[39m] = T(x T(x T(x . .) T(x . .)) T(x T(x . .) .))"
      ]
     },
     "execution_count": 234,
     "metadata": {},
     "output_type": "execute_result"
    }
   ],
   "source": [
    "object P63 {\n",
    "  def completeBinaryTree[T](n: Int, x: T): Node[T] = {\n",
    "    def subtree(address: Int): Node[T] = {\n",
    "      if (2*address + 1 <= n) Node(x, subtree(2*address), subtree(2*address+1))\n",
    "      else if (2*address == n) Node(x, subtree(2*address), End)\n",
    "      else Node(x, End, End)      \n",
    "    } \n",
    "    subtree(1)  \n",
    "  }  \n",
    "}\n",
    "\n",
    "P63.completeBinaryTree(6, \"x\")"
   ]
  },
  {
   "cell_type": "markdown",
   "metadata": {},
   "source": [
    "### P64 (**) Layout a binary tree (1).\n",
    "\n",
    "As a preparation for drawing a tree, a layout algorithm is required to determine the position of each node in a rectangular grid. Several layout methods are conceivable, one of them is shown in the illustration on the right.\n",
    "\n",
    "<img src=\"images/p64.gif\">\n",
    "\n",
    "In this layout strategy, the position of a node `v` is obtained by the following two rules:\n",
    "* `x(v)` is equal to the position of the node `v` in the inorder sequence,\n",
    "* `y(v)` is equal to the depth of the node `v` in the tree.\n",
    "\n",
    "In order to store the position of the nodes, we add a new class with the additional information."
   ]
  },
  {
   "cell_type": "code",
   "execution_count": 272,
   "metadata": {},
   "outputs": [
    {
     "data": {
      "text/plain": [
       "defined \u001b[32mclass\u001b[39m \u001b[36mPositionedNode\u001b[39m"
      ]
     },
     "execution_count": 272,
     "metadata": {},
     "output_type": "execute_result"
    }
   ],
   "source": [
    "/*\n",
    "case class PositionedNode[+T](\n",
    "  override val value: T, override val left: Tree[T], override val right: Tree[T], x: Int, y: Int\n",
    ") extends Node[T](value, left, right) {\n",
    "  override def toString = \n",
    "    \"T[\" + x.toString + \",\" + y.toString + \"](\" + value.toString + \" \" + left.toString + \" \" + right.toString + \")\"\n",
    "}\n",
    "// compile error: case-to-case inheritance is prohibited.\n",
    "// So `PositionedNode` is defined as a subtype of `Tree` as belo\n",
    "*/\n",
    "\n",
    "case class PositionedNode[+T](\n",
    "  value: T, left: Tree[T], right: Tree[T], x: Int, y: Int\n",
    ") extends Tree[T] {\n",
    "  override def toString = \n",
    "    \"T[\" + x.toString + \",\" + y.toString + \"](\" + value.toString + \" \" + left.toString + \" \" + right.toString + \")\"\n",
    "}\n"
   ]
  },
  {
   "cell_type": "markdown",
   "metadata": {},
   "source": [
    "Write a method `layoutBinaryTree` that turns a tree of normal Nodes into a tree of `PositionedNodes`.\n",
    "\n",
    "```scala\n",
    "scala> Node('a', Node('b', End, Node('c')), Node('d')).layoutBinaryTree\n",
    "res0: PositionedNode[Char] = T[3,1](a T[1,2](b . T[2,3](c . .)) T[4,2](d . .))\n",
    "```\n",
    "\n",
    "The tree at right may be constructed with\n",
    "\n",
    "`Tree.fromList(List('n','k','m','c','a','h','g','e','u','p','s','q'))`. \n",
    "\n",
    "Use it to check your code."
   ]
  },
  {
   "cell_type": "code",
   "execution_count": 255,
   "metadata": {},
   "outputs": [
    {
     "data": {
      "text/plain": [
       "defined \u001b[32mclass\u001b[39m \u001b[36mP64\u001b[39m\n",
       "\u001b[36mres254_1\u001b[39m: \u001b[32mPositionedNode\u001b[39m[\u001b[32mChar\u001b[39m] = T[3,1](a T[1,2](b . T[2,3](c . .)) T[4,2](d . .))\n",
       "\u001b[36mres254_2\u001b[39m: \u001b[32mPositionedNode\u001b[39m[\u001b[32mChar\u001b[39m] = T[8,1](n T[6,2](k T[2,3](c T[1,4](a . .) T[5,4](h T[4,5](g T[3,6](e . .) .) .)) T[7,3](m . .)) T[12,2](u T[9,3](p . T[11,4](s T[10,5](q . .) .)) .))"
      ]
     },
     "execution_count": 255,
     "metadata": {},
     "output_type": "execute_result"
    }
   ],
   "source": [
    "implicit class P64[T](tree: Tree[T]) {\n",
    "  def layoutBinaryTree: PositionedNode[T] = {\n",
    "    // returns the subtree and updated x\n",
    "    // x : next horizontal index\n",
    "    // y : current vertical level   \n",
    "    def helper(subtree: Tree[T], x: Int, y: Int): (PositionedNode[T], Int) = subtree match {\n",
    "      case Node(value, End, End) => (PositionedNode(value, End, End, x, y), x + 1)\n",
    "      case Node(value, left, right) => {\n",
    "        val (pleft, xMid) = if (left == End) (End, x) else helper(left, x, y + 1)   \n",
    "        val (pright, xNew) = if (right == End) (End, xMid + 1) else helper(right, xMid + 1, y + 1)\n",
    "        (PositionedNode(value, pleft, pright, xMid, y), xNew)  \n",
    "      }\n",
    "    }\n",
    "    helper(tree, 1, 1)._1  \n",
    "  }  \n",
    "}\n",
    "Node('a', Node('b', End, Node('c')), Node('d')).layoutBinaryTree\n",
    "P57.fromList(List('n','k','m','c','a','h','g','e','u','p','s','q')).layoutBinaryTree\n",
    "//End.layoutBinaryTree  // End is not supported"
   ]
  },
  {
   "cell_type": "markdown",
   "metadata": {},
   "source": [
    "### P65 (**) Layout a binary tree (2).\n",
    "\n",
    "An alternative layout method is depicted in the illustration opposite. Find out the rules and write the corresponding method. \n",
    "\n",
    "<img src=\"images/p65.gif\">\n",
    "\n",
    "Hint: On a given level, the horizontal distance between neighboring nodes is constant.\n",
    "Use the same conventions as in problem P64.\n",
    "\n",
    "```scala\n",
    "scala> Node('a', Node('b', End, Node('c')), Node('d')).layoutBinaryTree2\n",
    "res0: PositionedNode[Char] = T[3,1]('a T[1,2]('b . T[2,3]('c . .)) T[5,2]('d . .))\n",
    "```\n",
    "\n",
    "The tree at right may be constructed with \n",
    "\n",
    "`Tree.fromList(List('n','k','m','c','a','e','d','g','u','p','q'))`. \n",
    "\n",
    "Use it to check your code."
   ]
  },
  {
   "cell_type": "code",
   "execution_count": 271,
   "metadata": {},
   "outputs": [
    {
     "data": {
      "text/plain": [
       "defined \u001b[32mclass\u001b[39m \u001b[36mP65\u001b[39m\n",
       "\u001b[36mres270_1\u001b[39m: \u001b[32mPositionedNode\u001b[39m[\u001b[32mChar\u001b[39m] = T[3,1](a T[1,2](b . T[2,3](c . .)) T[5,2](d . .))\n",
       "\u001b[36mres270_2\u001b[39m: \u001b[32mPositionedNode\u001b[39m[\u001b[32mChar\u001b[39m] = T[15,1](n T[7,2](k T[3,3](c T[1,4](a . .) T[5,4](e T[4,5](d . .) T[6,5](g . .))) T[11,3](m . .)) T[23,2](u T[19,3](p . T[21,4](q . .)) .))"
      ]
     },
     "execution_count": 271,
     "metadata": {},
     "output_type": "execute_result"
    }
   ],
   "source": [
    "implicit class P65[T](tree: Tree[T]) {\n",
    "  lazy val height: Int = {\n",
    "    def inner(node: Tree[T]): Int = node match {\n",
    "      case End => 0\n",
    "      case Node(_, left, right) => 1 + inner(left).max(inner(right))  \n",
    "    }\n",
    "    inner(tree)  \n",
    "  }\n",
    "    \n",
    "  def edgeLength(y: Int): Int = {\n",
    "    // edge length is 2^{height - level}\n",
    "    // that is, starting from the deepest level edge:\n",
    "    // 1, 2, 4, 8, ...   \n",
    "    def pow2(p: Int): Int = {\n",
    "      def loop(acc: Int, q: Int): Int =\n",
    "        if (q <= 0) acc else loop(2 * acc, q - 1)\n",
    "      loop(1, p)  \n",
    "    }\n",
    "    if (y >= height) 0 else pow2(height - y - 1)\n",
    "  } \n",
    "      \n",
    "  lazy val leftMost: Int = {\n",
    "    // left most position compared with the root\n",
    "    def inner(acc: Int, node: Tree[T], y: Int): Int = node match {\n",
    "      case Node(_, left, _) if (left == End) => acc  \n",
    "      case Node(_, left, _) => inner(acc + edgeLength(y), left, y + 1)  \n",
    "    } \n",
    "    inner(0, tree, 1)  \n",
    "  }\n",
    "\n",
    "  def layoutBinaryTree2: PositionedNode[T] = {\n",
    "    def helper(node: Tree[T], x: Int, y: Int): PositionedNode[T] = node match {\n",
    "      case Node(value, End, End) => PositionedNode(value, End, End, x, y)  \n",
    "      case Node(value, left, right) => {\n",
    "        val pleft = if (left == End) End else helper(left, x - edgeLength(y), y + 1)\n",
    "        val pright = if (right == End) End else helper(right, x + edgeLength(y), y + 1)\n",
    "        PositionedNode(value, pleft, pright, x, y)\n",
    "      }  \n",
    "    }\n",
    "    helper(tree, leftMost + 1, 1)\n",
    "  }  \n",
    "}\n",
    "\n",
    "Node('a', Node('b', End, Node('c')), Node('d')).layoutBinaryTree2\n",
    "P57.fromList(List('n','k','m','c','a','e','d','g','u','p','q')).layoutBinaryTree2"
   ]
  },
  {
   "cell_type": "markdown",
   "metadata": {},
   "source": [
    "### P66 (\\*\\*\\*) Layout a binary tree (3).\n",
    "\n",
    "Yet another layout strategy is shown in the illustration opposite. The method yields a very compact layout while maintaining a certain symmetry in every node. Find out the rules and write the corresponding method. \n",
    "\n",
    "\n",
    "<img src=\"images/p66.gif\">\n",
    "\n",
    "Hint: Consider the horizontal distance between a node and its successor nodes. How tight can you pack together two subtrees to construct the combined binary tree?\n",
    "Use the same conventions as in problem P64 and P65. \n",
    "\n",
    "Note: This is a difficult problem. Don't give up too early!\n",
    "\n",
    "```scala\n",
    "scala> Node('a', Node('b', End, Node('c')), Node('d')).layoutBinaryTree3\n",
    "res0: PositionedNode[Char] = T[2,1]('a T[1,2]('b . T[2,3]('c . .)) T[3,2]('d . .))\n",
    "```\n",
    "\n",
    "Which layout do you like most?"
   ]
  },
  {
   "cell_type": "code",
   "execution_count": null,
   "metadata": {
    "collapsed": true
   },
   "outputs": [],
   "source": []
  },
  {
   "cell_type": "code",
   "execution_count": 204,
   "metadata": {},
   "outputs": [
    {
     "name": "stderr",
     "output_type": "stream",
     "text": [
      "[NbConvertApp] Converting notebook S-99 Ninety-Nine Scala Problems.ipynb to html\n",
      "[NbConvertApp] Writing 617694 bytes to S-99 Ninety-Nine Scala Problems.html\n"
     ]
    },
    {
     "data": {
      "text/plain": [
       "\u001b[32mimport \u001b[39m\u001b[36msys.process._\n",
       "\n",
       "\u001b[39m\n",
       "\u001b[36mcmd\u001b[39m: \u001b[32mSeq\u001b[39m[\u001b[32mString\u001b[39m] = \u001b[33mList\u001b[39m(\n",
       "  \u001b[32m\"jupyter\"\u001b[39m,\n",
       "  \u001b[32m\"nbconvert\"\u001b[39m,\n",
       "  \u001b[32m\"--to=html\"\u001b[39m,\n",
       "  \u001b[32m\"S-99 Ninety-Nine Scala Problems.ipynb\"\u001b[39m\n",
       ")\n",
       "\u001b[36mres203_2\u001b[39m: \u001b[32mString\u001b[39m = \u001b[32m\"\"\u001b[39m"
      ]
     },
     "execution_count": 204,
     "metadata": {},
     "output_type": "execute_result"
    }
   ],
   "source": [
    "import sys.process._\n",
    "\n",
    "val cmd = Seq(\"jupyter\", \"nbconvert\", \"--to=html\", \"S-99 Ninety-Nine Scala Problems.ipynb\")\n",
    "cmd.!!\n"
   ]
  },
  {
   "cell_type": "code",
   "execution_count": null,
   "metadata": {
    "collapsed": true
   },
   "outputs": [],
   "source": []
  }
 ],
 "metadata": {
  "kernelspec": {
   "display_name": "Scala",
   "language": "scala",
   "name": "scala"
  },
  "language_info": {
   "codemirror_mode": "text/x-scala",
   "file_extension": ".scala",
   "mimetype": "text/x-scala",
   "name": "scala211",
   "nbconvert_exporter": "script",
   "pygments_lexer": "scala",
   "version": "2.11.11"
  }
 },
 "nbformat": 4,
 "nbformat_minor": 2
}
