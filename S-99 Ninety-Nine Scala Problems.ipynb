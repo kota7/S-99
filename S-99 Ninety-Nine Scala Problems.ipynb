{
 "cells": [
  {
   "cell_type": "markdown",
   "metadata": {},
   "source": [
    "Problem site: [http://aperiodic.net/phil/scala/s-99/](http://aperiodic.net/phil/scala/s-99/)"
   ]
  },
  {
   "cell_type": "markdown",
   "metadata": {},
   "source": [
    "### P01 (*) Find the last element of a list.\n",
    "  \n",
    "Example:\n",
    "\n",
    "```scala\n",
    "scala> last(List(1, 1, 2, 3, 5, 8))\n",
    "res0: Int = 8\n",
    "```"
   ]
  },
  {
   "cell_type": "code",
   "execution_count": 2,
   "metadata": {},
   "outputs": [
    {
     "data": {
      "text/plain": [
       "defined \u001b[32mfunction\u001b[39m \u001b[36mlast\u001b[39m\n",
       "\u001b[36mres1_1\u001b[39m: \u001b[32mInt\u001b[39m = \u001b[32m8\u001b[39m"
      ]
     },
     "execution_count": 2,
     "metadata": {},
     "output_type": "execute_result"
    }
   ],
   "source": [
    "def last[T](x: List[T]): T = x match {\n",
    "  case Nil      => throw new NoSuchElementException(\"last(Nil)\")\n",
    "  case a :: Nil => a\n",
    "  case a :: as  => last(as)\n",
    "}\n",
    "\n",
    "last(List(1, 1, 2, 3, 5, 8))"
   ]
  },
  {
   "cell_type": "markdown",
   "metadata": {},
   "source": [
    "### P02 (*) Find the last but one element of a list.\n",
    "\n",
    "Example:\n",
    "\n",
    "```scala\n",
    "scala> penultimate(List(1, 1, 2, 3, 5, 8))\n",
    "res0: Int = 5\n",
    "```"
   ]
  },
  {
   "cell_type": "code",
   "execution_count": 3,
   "metadata": {},
   "outputs": [
    {
     "data": {
      "text/plain": [
       "defined \u001b[32mfunction\u001b[39m \u001b[36mpenultimate\u001b[39m\n",
       "\u001b[36mres2_1\u001b[39m: \u001b[32mInt\u001b[39m = \u001b[32m5\u001b[39m"
      ]
     },
     "execution_count": 3,
     "metadata": {},
     "output_type": "execute_result"
    }
   ],
   "source": [
    "def penultimate[T](x: List[T]): T = x match {\n",
    "  case Nil | _ :: Nil  => throw new NoSuchElementException(\"penultimate with list shorter than 2\")\n",
    "  case a1 :: a2 :: Nil => a1\n",
    "  case a :: as         => penultimate(as)\n",
    "}\n",
    "\n",
    "penultimate(List(1, 1, 2, 3, 5, 8))"
   ]
  },
  {
   "cell_type": "markdown",
   "metadata": {},
   "source": [
    "### P03 (*) Find the Kth element of a list.\n",
    "\n",
    "By convention, the first element in the list is element 0.\n",
    "\n",
    "Example:\n",
    "\n",
    "```scala\n",
    "scala> nth(2, List(1, 1, 2, 3, 5, 8))\n",
    "res0: Int = 2\n",
    "```"
   ]
  },
  {
   "cell_type": "code",
   "execution_count": 4,
   "metadata": {},
   "outputs": [
    {
     "data": {
      "text/plain": [
       "defined \u001b[32mfunction\u001b[39m \u001b[36mnth\u001b[39m\n",
       "\u001b[36mres3_1\u001b[39m: \u001b[32mInt\u001b[39m = \u001b[32m2\u001b[39m"
      ]
     },
     "execution_count": 4,
     "metadata": {},
     "output_type": "execute_result"
    }
   ],
   "source": [
    "def nth[T](i: Int, x: List[T]): T = {\n",
    "  if (x.length < i) throw new NoSuchElementException(\"x is shorter than i\")\n",
    "  if (i < 0) throw new NoSuchElementException(\"i is negative\")\n",
    "  else if (i == 0) x.head\n",
    "  else nth(i-1, x.tail)\n",
    "}\n",
    "\n",
    "nth(2, List(1, 1, 2, 3, 5, 8))"
   ]
  },
  {
   "cell_type": "markdown",
   "metadata": {},
   "source": [
    "### P04 (*) Find the number of elements of a list.\n",
    "\n",
    "Example:\n",
    "\n",
    "```scala\n",
    "scala> length(List(1, 1, 2, 3, 5, 8))\n",
    "res0: Int = 6\n",
    "```"
   ]
  },
  {
   "cell_type": "code",
   "execution_count": 5,
   "metadata": {},
   "outputs": [
    {
     "data": {
      "text/plain": [
       "defined \u001b[32mfunction\u001b[39m \u001b[36mlength\u001b[39m\n",
       "\u001b[36mres4_1\u001b[39m: \u001b[32mInt\u001b[39m = \u001b[32m6\u001b[39m\n",
       "\u001b[36mres4_2\u001b[39m: \u001b[32mInt\u001b[39m = \u001b[32m0\u001b[39m\n",
       "\u001b[36mres4_3\u001b[39m: \u001b[32mInt\u001b[39m = \u001b[32m1\u001b[39m"
      ]
     },
     "execution_count": 5,
     "metadata": {},
     "output_type": "execute_result"
    }
   ],
   "source": [
    "def length[T](x: List[T]): Int = {\n",
    "  def loop(acc: Int, y: List[T]): Int = y match {\n",
    "    case Nil      => acc\n",
    "    case a :: as  => loop(acc+1, as)    \n",
    "  }\n",
    "  loop(0, x)\n",
    "}\n",
    "\n",
    "length(List(1, 1, 2, 3, 5, 8))\n",
    "length(Nil)\n",
    "length(List(8))"
   ]
  },
  {
   "cell_type": "markdown",
   "metadata": {},
   "source": [
    "### P05 (*) Reverse a list.\n",
    "\n",
    "Example:\n",
    "\n",
    "```scala\n",
    "scala> reverse(List(1, 1, 2, 3, 5, 8))\n",
    "res0: List[Int] = List(8, 5, 3, 2, 1, 1)\n",
    "```"
   ]
  },
  {
   "cell_type": "code",
   "execution_count": 6,
   "metadata": {},
   "outputs": [
    {
     "data": {
      "text/plain": [
       "defined \u001b[32mfunction\u001b[39m \u001b[36mreverse\u001b[39m\n",
       "\u001b[36mres5_1\u001b[39m: \u001b[32mList\u001b[39m[\u001b[32mInt\u001b[39m] = \u001b[33mList\u001b[39m(\u001b[32m8\u001b[39m, \u001b[32m5\u001b[39m, \u001b[32m3\u001b[39m, \u001b[32m2\u001b[39m, \u001b[32m1\u001b[39m, \u001b[32m1\u001b[39m)"
      ]
     },
     "execution_count": 6,
     "metadata": {},
     "output_type": "execute_result"
    }
   ],
   "source": [
    "def reverse[T](x: List[T]): List[T] = {\n",
    "  def loop(acc: List[T], y: List[T]): List[T] = y match {\n",
    "    case Nil  => acc\n",
    "    case a :: as => loop(a :: acc, as)\n",
    "  }\n",
    "  loop(Nil, x)\n",
    "}\n",
    "\n",
    "reverse(List(1, 1, 2, 3, 5, 8))"
   ]
  },
  {
   "cell_type": "markdown",
   "metadata": {},
   "source": [
    "### P06 (*) Find out whether a list is a palindrome.\n",
    "\n",
    "Example:\n",
    "\n",
    "```scala\n",
    "scala> isPalindrome(List(1, 2, 3, 2, 1))\n",
    "res0: Boolean = true\n",
    "```"
   ]
  },
  {
   "cell_type": "code",
   "execution_count": 7,
   "metadata": {},
   "outputs": [
    {
     "data": {
      "text/plain": [
       "defined \u001b[32mfunction\u001b[39m \u001b[36misPalindrome\u001b[39m\n",
       "\u001b[36mres6_1\u001b[39m: \u001b[32mBoolean\u001b[39m = \u001b[32mtrue\u001b[39m\n",
       "\u001b[36mres6_2\u001b[39m: \u001b[32mBoolean\u001b[39m = \u001b[32mtrue\u001b[39m\n",
       "\u001b[36mres6_3\u001b[39m: \u001b[32mBoolean\u001b[39m = \u001b[32mfalse\u001b[39m\n",
       "\u001b[36mres6_4\u001b[39m: \u001b[32mBoolean\u001b[39m = \u001b[32mtrue\u001b[39m\n",
       "\u001b[36mres6_5\u001b[39m: \u001b[32mBoolean\u001b[39m = \u001b[32mtrue\u001b[39m\n",
       "\u001b[36mres6_6\u001b[39m: \u001b[32mBoolean\u001b[39m = \u001b[32mfalse\u001b[39m"
      ]
     },
     "execution_count": 7,
     "metadata": {},
     "output_type": "execute_result"
    }
   ],
   "source": [
    "def isPalindrome[T](x: List[T]): Boolean = {\n",
    "  def helper(l1: List[T], l2: List[T]): Boolean = {\n",
    "    if (l1.length==0) true\n",
    "    else if (l1.length == l2.length) {\n",
    "      if (l1.head == l2.head) helper(l1.tail, l2.tail) else false\n",
    "    }\n",
    "    else if (l1.length == l2.length+1) helper(l1.tail, l2)\n",
    "    else helper(l1.tail, l1.head :: l2)\n",
    "  }\n",
    "  helper(x, Nil)\n",
    "}\n",
    "\n",
    "isPalindrome(List(1, 2, 3, 2, 1))\n",
    "isPalindrome(List(1, 2, 2, 1))\n",
    "isPalindrome(List(1, 3, 2, 1))\n",
    "isPalindrome(List(10, 10))\n",
    "isPalindrome(List(99))\n",
    "isPalindrome(List(5, 4))"
   ]
  },
  {
   "cell_type": "markdown",
   "metadata": {
    "collapsed": true
   },
   "source": [
    "### P07 (**) Flatten a nested list structure.\n",
    "    \n",
    "Example:\n",
    "\n",
    "```scala\n",
    "scala> flatten(List(List(1, 1), 2, List(3, List(5, 8))))\n",
    "res0: List[Any] = List(1, 1, 2, 3, 5, 8)\n",
    "```"
   ]
  },
  {
   "cell_type": "code",
   "execution_count": 8,
   "metadata": {},
   "outputs": [
    {
     "data": {
      "text/plain": [
       "defined \u001b[32mfunction\u001b[39m \u001b[36mflatten\u001b[39m\n",
       "\u001b[36mres7_1\u001b[39m: \u001b[32mList\u001b[39m[\u001b[32mAny\u001b[39m] = \u001b[33mList\u001b[39m(1, 1, 2, 3, 5, 8)"
      ]
     },
     "execution_count": 8,
     "metadata": {},
     "output_type": "execute_result"
    }
   ],
   "source": [
    "def flatten(x: List[Any]): List[Any] = { \n",
    "  x match {\n",
    "    case Nil                => Nil       \n",
    "    case (a: List[_]) :: as => flatten(a) ::: flatten(as)  \n",
    "    case a :: as            => a :: flatten(as)  \n",
    "  } \n",
    "}\n",
    "flatten(List(List(1, 1), 2, List(3, List(5, 8))))"
   ]
  },
  {
   "cell_type": "markdown",
   "metadata": {
    "collapsed": true
   },
   "source": [
    "### P08 (**) Eliminate consecutive duplicates of list elements.\n",
    "\n",
    "If a list contains repeated elements they should be replaced with a single copy of the element. \n",
    "The order of the elements should not be changed.\n",
    "\n",
    "Example:\n",
    "\n",
    "```scala\n",
    "scala> compress(List('a, 'a, 'a, 'a, 'b, 'c, 'c, 'a, 'a, 'd, 'e, 'e, 'e, 'e))\n",
    "res0: List[Symbol] = List('a, 'b, 'c, 'a, 'd, 'e)\n",
    "```"
   ]
  },
  {
   "cell_type": "code",
   "execution_count": 9,
   "metadata": {},
   "outputs": [
    {
     "data": {
      "text/plain": [
       "defined \u001b[32mfunction\u001b[39m \u001b[36mcompress\u001b[39m\n",
       "\u001b[36mres8_1\u001b[39m: \u001b[32mList\u001b[39m[\u001b[32mSymbol\u001b[39m] = \u001b[33mList\u001b[39m(\u001b[32m'a\u001b[39m, \u001b[32m'b\u001b[39m, \u001b[32m'c\u001b[39m, \u001b[32m'a\u001b[39m, \u001b[32m'd\u001b[39m, \u001b[32m'e\u001b[39m)"
      ]
     },
     "execution_count": 9,
     "metadata": {},
     "output_type": "execute_result"
    }
   ],
   "source": [
    "def compress[T](x: List[T]): List[T] = {\n",
    "  def inner(acc: List[T], y: List[T]): List[T] = {\n",
    "    y match {\n",
    "      case Nil      => acc\n",
    "      case a :: Nil => a :: acc \n",
    "      case a :: as  => if (a==as.head) inner(acc, as) else inner(a::acc, as)\n",
    "    }  \n",
    "  }\n",
    "  inner(Nil, x).reverse\n",
    "/*  x match {\n",
    "    case Nil => Nil\n",
    "    case a :: Nil => a :: Nil\n",
    "    case a :: as => if (a==as.head) compress(as) else a :: compress(as)\n",
    "  }\n",
    "  */\n",
    "}\n",
    "compress(List('a, 'a, 'a, 'a, 'b, 'c, 'c, 'a, 'a, 'd, 'e, 'e, 'e, 'e))"
   ]
  },
  {
   "cell_type": "markdown",
   "metadata": {},
   "source": [
    "### P09 (**) Pack consecutive duplicates of list elements into sublists.\n",
    "\n",
    "If a list contains repeated elements they should be placed in separate sublists.\n",
    "\n",
    "Example:\n",
    "\n",
    "```scala\n",
    "scala> pack(List('a, 'a, 'a, 'a, 'b, 'c, 'c, 'a, 'a, 'd, 'e, 'e, 'e, 'e))\n",
    "res0: List[List[Symbol]] = List(List('a, 'a, 'a, 'a), List('b), List('c, 'c), List('a, 'a), List('d), List('e, 'e, 'e, 'e))\n",
    "```"
   ]
  },
  {
   "cell_type": "code",
   "execution_count": 10,
   "metadata": {},
   "outputs": [
    {
     "data": {
      "text/plain": [
       "defined \u001b[32mfunction\u001b[39m \u001b[36mpack\u001b[39m\n",
       "\u001b[36mres9_1\u001b[39m: \u001b[32mList\u001b[39m[\u001b[32mList\u001b[39m[\u001b[32mSymbol\u001b[39m]] = \u001b[33mList\u001b[39m(\n",
       "  \u001b[33mList\u001b[39m(\u001b[32m'a\u001b[39m, \u001b[32m'a\u001b[39m, \u001b[32m'a\u001b[39m, \u001b[32m'a\u001b[39m),\n",
       "  \u001b[33mList\u001b[39m(\u001b[32m'b\u001b[39m),\n",
       "  \u001b[33mList\u001b[39m(\u001b[32m'c\u001b[39m, \u001b[32m'c\u001b[39m),\n",
       "  \u001b[33mList\u001b[39m(\u001b[32m'a\u001b[39m, \u001b[32m'a\u001b[39m),\n",
       "  \u001b[33mList\u001b[39m(\u001b[32m'd\u001b[39m),\n",
       "  \u001b[33mList\u001b[39m(\u001b[32m'e\u001b[39m, \u001b[32m'e\u001b[39m, \u001b[32m'e\u001b[39m, \u001b[32m'e\u001b[39m)\n",
       ")"
      ]
     },
     "execution_count": 10,
     "metadata": {},
     "output_type": "execute_result"
    }
   ],
   "source": [
    "def pack[T](x: List[T]): List[List[T]] = {\n",
    "  def inner(acc: List[List[T]], cur: T, curAcc: List[T], y: List[T]): List[List[T]] = {\n",
    "    y match {\n",
    "      case Nil => curAcc::acc\n",
    "      case a :: as => {\n",
    "        if (a == cur) inner(acc, cur, a::curAcc, as) \n",
    "        else          inner(curAcc::acc, a, List(a), as)\n",
    "      }\n",
    "    }  \n",
    "  }\n",
    "  x match {\n",
    "    case Nil => Nil\n",
    "    case a::as => inner(Nil, a, List(a), as).reverse\n",
    "  }\n",
    "}\n",
    "pack(List('a, 'a, 'a, 'a, 'b, 'c, 'c, 'a, 'a, 'd, 'e, 'e, 'e, 'e))"
   ]
  },
  {
   "cell_type": "markdown",
   "metadata": {},
   "source": [
    "### P10 (*) Run-length encoding of a list.\n",
    "\n",
    "Use the result of problem P09 to implement the so-called run-length encoding data compression method. Consecutive duplicates of elements are encoded as tuples (N, E) where N is the number of duplicates of the element E.\n",
    "\n",
    "Example:\n",
    "\n",
    "```scala\n",
    "scala> encode(List('a, 'a, 'a, 'a, 'b, 'c, 'c, 'a, 'a, 'd, 'e, 'e, 'e, 'e))\n",
    "res0: List[(Int, Symbol)] = List((4,'a), (1,'b), (2,'c), (2,'a), (1,'d), (4,'e))\n",
    "```"
   ]
  },
  {
   "cell_type": "code",
   "execution_count": 11,
   "metadata": {},
   "outputs": [
    {
     "data": {
      "text/plain": [
       "defined \u001b[32mfunction\u001b[39m \u001b[36mencode\u001b[39m\n",
       "\u001b[36mres10_1\u001b[39m: \u001b[32mList\u001b[39m[(\u001b[32mInt\u001b[39m, \u001b[32mSymbol\u001b[39m)] = \u001b[33mList\u001b[39m((\u001b[32m4\u001b[39m, \u001b[32m'a\u001b[39m), (\u001b[32m1\u001b[39m, \u001b[32m'b\u001b[39m), (\u001b[32m2\u001b[39m, \u001b[32m'c\u001b[39m), (\u001b[32m2\u001b[39m, \u001b[32m'a\u001b[39m), (\u001b[32m1\u001b[39m, \u001b[32m'd\u001b[39m), (\u001b[32m4\u001b[39m, \u001b[32m'e\u001b[39m))"
      ]
     },
     "execution_count": 11,
     "metadata": {},
     "output_type": "execute_result"
    }
   ],
   "source": [
    "def encode[T](x: List[T]): List[(Int, T)] = {\n",
    "  pack(x) map { y: List[T] => (y.length, y.head) }\n",
    "}\n",
    "encode(List('a, 'a, 'a, 'a, 'b, 'c, 'c, 'a, 'a, 'd, 'e, 'e, 'e, 'e))"
   ]
  },
  {
   "cell_type": "markdown",
   "metadata": {},
   "source": [
    "### P11 (*) Modified run-length encoding.\n",
    "    \n",
    "Modify the result of problem P10 in such a way that if an element has no duplicates it is simply copied into the result list. Only elements with duplicates are transferred as (N, E) terms. \n",
    "\n",
    "Example:\n",
    "\n",
    "```scala\n",
    "scala> encodeModified(List('a, 'a, 'a, 'a, 'b, 'c, 'c, 'a, 'a, 'd, 'e, 'e, 'e, 'e))\n",
    "res0: List[Any] = List((4,'a), 'b, (2,'c), (2,'a), 'd, (4,'e))\n",
    "```"
   ]
  },
  {
   "cell_type": "code",
   "execution_count": 12,
   "metadata": {},
   "outputs": [
    {
     "data": {
      "text/plain": [
       "defined \u001b[32mfunction\u001b[39m \u001b[36mencodeModified\u001b[39m\n",
       "\u001b[36mres11_1\u001b[39m: \u001b[32mList\u001b[39m[\u001b[32mAny\u001b[39m] = \u001b[33mList\u001b[39m((4,'a), 'b, (2,'c), (2,'a), 'd, (4,'e))"
      ]
     },
     "execution_count": 12,
     "metadata": {},
     "output_type": "execute_result"
    }
   ],
   "source": [
    "def encodeModified[T](x: List[T]): List[Any] = {\n",
    "  pack(x) map { y: List[T] => if (y.length==1) y.head else (y.length, y.head) }\n",
    "}\n",
    "encodeModified(List('a, 'a, 'a, 'a, 'b, 'c, 'c, 'a, 'a, 'd, 'e, 'e, 'e, 'e))"
   ]
  },
  {
   "cell_type": "markdown",
   "metadata": {},
   "source": [
    "### P12 (**) Decode a run-length encoded list.\n",
    "\n",
    "Given a run-length code list generated as specified in problem P10, construct its uncompressed version.\n",
    "\n",
    "Example:\n",
    "\n",
    "```scala\n",
    "scala> decode(List((4, 'a), (1, 'b), (2, 'c), (2, 'a), (1, 'd), (4, 'e)))\n",
    "res0: List[Symbol] = List('a, 'a, 'a, 'a, 'b, 'c, 'c, 'a, 'a, 'd, 'e, 'e, 'e, 'e)\n",
    "```"
   ]
  },
  {
   "cell_type": "code",
   "execution_count": 13,
   "metadata": {},
   "outputs": [
    {
     "data": {
      "text/plain": [
       "defined \u001b[32mfunction\u001b[39m \u001b[36mdecode\u001b[39m\n",
       "\u001b[36mres12_1\u001b[39m: \u001b[32mList\u001b[39m[\u001b[32mSymbol\u001b[39m] = \u001b[33mList\u001b[39m(\u001b[32m'a\u001b[39m, \u001b[32m'a\u001b[39m, \u001b[32m'a\u001b[39m, \u001b[32m'a\u001b[39m, \u001b[32m'b\u001b[39m, \u001b[32m'c\u001b[39m, \u001b[32m'c\u001b[39m, \u001b[32m'a\u001b[39m, \u001b[32m'a\u001b[39m, \u001b[32m'd\u001b[39m, \u001b[32m'e\u001b[39m, \u001b[32m'e\u001b[39m, \u001b[32m'e\u001b[39m, \u001b[32m'e\u001b[39m)"
      ]
     },
     "execution_count": 13,
     "metadata": {},
     "output_type": "execute_result"
    }
   ],
   "source": [
    "def decode[T](x: List[(Int, T)]) = {\n",
    "// x flatMap { y: (Int, T) => (1 to y._1) map { Int => y._2 } }  \n",
    "  x flatMap { y: (Int, T) => List.fill(y._1)(y._2) }  \n",
    "}\n",
    "decode(List((4, 'a), (1, 'b), (2, 'c), (2, 'a), (1, 'd), (4, 'e)))"
   ]
  },
  {
   "cell_type": "markdown",
   "metadata": {
    "collapsed": true
   },
   "source": [
    "### P13 (**) Run-length encoding of a list (direct solution).\n",
    "\n",
    "Implement the so-called run-length encoding data compression method directly. I.e. don't use other methods you've written (like P09's pack); do all the work directly.\n",
    "\n",
    "Example:\n",
    "\n",
    "```scala\n",
    "scala> encodeDirect(List('a, 'a, 'a, 'a, 'b, 'c, 'c, 'a, 'a, 'd, 'e, 'e, 'e, 'e))\n",
    "res0: List[(Int, Symbol)] = List((4,'a), (1,'b), (2,'c), (2,'a), (1,'d), (4,'e))\n",
    "```"
   ]
  },
  {
   "cell_type": "code",
   "execution_count": 14,
   "metadata": {},
   "outputs": [
    {
     "data": {
      "text/plain": [
       "defined \u001b[32mfunction\u001b[39m \u001b[36mencodeDirect\u001b[39m\n",
       "\u001b[36mres13_1\u001b[39m: \u001b[32mList\u001b[39m[(\u001b[32mInt\u001b[39m, \u001b[32mSymbol\u001b[39m)] = \u001b[33mList\u001b[39m((\u001b[32m4\u001b[39m, \u001b[32m'a\u001b[39m), (\u001b[32m1\u001b[39m, \u001b[32m'b\u001b[39m), (\u001b[32m2\u001b[39m, \u001b[32m'c\u001b[39m), (\u001b[32m2\u001b[39m, \u001b[32m'a\u001b[39m), (\u001b[32m1\u001b[39m, \u001b[32m'd\u001b[39m), (\u001b[32m4\u001b[39m, \u001b[32m'e\u001b[39m))"
      ]
     },
     "execution_count": 14,
     "metadata": {},
     "output_type": "execute_result"
    }
   ],
   "source": [
    "def encodeDirect[T](x: List[T]): List[(Int, T)] = {\n",
    "  def inner(acc: List[(Int, T)], cur: T, curCount: Int, y: List[T]): List[(Int, T)] = {\n",
    "    y match {\n",
    "      case Nil     => (curCount, cur) :: acc\n",
    "      case a :: as => {\n",
    "        if (a == cur) inner(acc, cur, curCount+1, as) \n",
    "        else          inner((curCount, cur) :: acc, a, 1, as)\n",
    "      }\n",
    "    }  \n",
    "  }\n",
    "  x match {\n",
    "    case Nil     => Nil\n",
    "    case a :: as => inner(Nil, a, 1, as).reverse\n",
    "  }\n",
    "}\n",
    "encodeDirect(List('a, 'a, 'a, 'a, 'b, 'c, 'c, 'a, 'a, 'd, 'e, 'e, 'e, 'e))"
   ]
  },
  {
   "cell_type": "markdown",
   "metadata": {},
   "source": [
    "### P14 (*) Duplicate the elements of a list.\n",
    "\n",
    "Example:\n",
    "\n",
    "```scala\n",
    "scala> duplicate(List('a, 'b, 'c, 'c, 'd))\n",
    "res0: List[Symbol] = List('a, 'a, 'b, 'b, 'c, 'c, 'c, 'c, 'd, 'd)\n",
    "```"
   ]
  },
  {
   "cell_type": "code",
   "execution_count": 15,
   "metadata": {},
   "outputs": [
    {
     "data": {
      "text/plain": [
       "defined \u001b[32mfunction\u001b[39m \u001b[36mduplicate\u001b[39m\n",
       "\u001b[36mres14_1\u001b[39m: \u001b[32mList\u001b[39m[\u001b[32mSymbol\u001b[39m] = \u001b[33mList\u001b[39m(\u001b[32m'a\u001b[39m, \u001b[32m'a\u001b[39m, \u001b[32m'b\u001b[39m, \u001b[32m'b\u001b[39m, \u001b[32m'c\u001b[39m, \u001b[32m'c\u001b[39m, \u001b[32m'c\u001b[39m, \u001b[32m'c\u001b[39m, \u001b[32m'd\u001b[39m, \u001b[32m'd\u001b[39m)"
      ]
     },
     "execution_count": 15,
     "metadata": {},
     "output_type": "execute_result"
    }
   ],
   "source": [
    "def duplicate[T](x: List[T]): List[T] = {\n",
    "  x flatMap { y: T => List.fill(2)(y) }  \n",
    "}\n",
    "duplicate(List('a, 'b, 'c, 'c, 'd))"
   ]
  },
  {
   "cell_type": "markdown",
   "metadata": {},
   "source": [
    "### P15 (**) Duplicate the elements of a list a given number of times.\n",
    "\n",
    "Example:\n",
    "\n",
    "```scala\n",
    "scala> duplicateN(3, List('a, 'b, 'c, 'c, 'd))\n",
    "res0: List[Symbol] = List('a, 'a, 'a, 'b, 'b, 'b, 'c, 'c, 'c, 'c, 'c, 'c, 'd, 'd, 'd)\n",
    "```"
   ]
  },
  {
   "cell_type": "code",
   "execution_count": 16,
   "metadata": {},
   "outputs": [
    {
     "data": {
      "text/plain": [
       "defined \u001b[32mfunction\u001b[39m \u001b[36mduplicateN\u001b[39m\n",
       "\u001b[36mres15_1\u001b[39m: \u001b[32mList\u001b[39m[\u001b[32mSymbol\u001b[39m] = \u001b[33mList\u001b[39m(\u001b[32m'a\u001b[39m, \u001b[32m'a\u001b[39m, \u001b[32m'a\u001b[39m, \u001b[32m'b\u001b[39m, \u001b[32m'b\u001b[39m, \u001b[32m'b\u001b[39m, \u001b[32m'c\u001b[39m, \u001b[32m'c\u001b[39m, \u001b[32m'c\u001b[39m, \u001b[32m'c\u001b[39m, \u001b[32m'c\u001b[39m, \u001b[32m'c\u001b[39m, \u001b[32m'd\u001b[39m, \u001b[32m'd\u001b[39m, \u001b[32m'd\u001b[39m)"
      ]
     },
     "execution_count": 16,
     "metadata": {},
     "output_type": "execute_result"
    }
   ],
   "source": [
    "def duplicateN[T](n: Int, x: List[T]): List[T] = {\n",
    "  x flatMap { y: T => List.fill(n)(y) }  \n",
    "}\n",
    "duplicateN(3, List('a, 'b, 'c, 'c, 'd))"
   ]
  },
  {
   "cell_type": "markdown",
   "metadata": {},
   "source": [
    "### P16 (**) Drop every Nth element from a list.\n",
    "\n",
    "Example:\n",
    "\n",
    "```scala\n",
    "scala> drop(3, List('a, 'b, 'c, 'd, 'e, 'f, 'g, 'h, 'i, 'j, 'k))\n",
    "res0: List[Symbol] = List('a, 'b, 'd, 'e, 'g, 'h, 'j, 'k)\n",
    "```"
   ]
  },
  {
   "cell_type": "code",
   "execution_count": 17,
   "metadata": {},
   "outputs": [
    {
     "data": {
      "text/plain": [
       "defined \u001b[32mfunction\u001b[39m \u001b[36mdrop\u001b[39m\n",
       "\u001b[36mres16_1\u001b[39m: \u001b[32mList\u001b[39m[\u001b[32mSymbol\u001b[39m] = \u001b[33mList\u001b[39m(\u001b[32m'a\u001b[39m, \u001b[32m'b\u001b[39m, \u001b[32m'd\u001b[39m, \u001b[32m'e\u001b[39m, \u001b[32m'g\u001b[39m, \u001b[32m'h\u001b[39m, \u001b[32m'j\u001b[39m, \u001b[32m'k\u001b[39m)"
      ]
     },
     "execution_count": 17,
     "metadata": {},
     "output_type": "execute_result"
    }
   ],
   "source": [
    "def drop[T](i: Int, x: List[T]): List[T] = {\n",
    "  def inner(acc: List[T], y: List[T], cur: Int): List[T] = {\n",
    "    y match {\n",
    "      case Nil     => acc\n",
    "      case a :: as => {\n",
    "        if (cur % i == 0) inner(acc, as, 1) \n",
    "        else              inner(a :: acc, as, cur+1)\n",
    "      }\n",
    "    }\n",
    "  }\n",
    "  inner(Nil, x, 1).reverse\n",
    "}\n",
    "drop(3, List('a, 'b, 'c, 'd, 'e, 'f, 'g, 'h, 'i, 'j, 'k))"
   ]
  },
  {
   "cell_type": "markdown",
   "metadata": {},
   "source": [
    "### P17 (*) Split a list into two parts.\n",
    "\n",
    "The length of the first part is given. Use a Tuple for your result.\n",
    "\n",
    "Example:\n",
    "\n",
    "```scala\n",
    "scala> split(3, List('a, 'b, 'c, 'd, 'e, 'f, 'g, 'h, 'i, 'j, 'k))\n",
    "res0: (List[Symbol], List[Symbol]) = (List('a, 'b, 'c),List('d, 'e, 'f, 'g, 'h, 'i, 'j, 'k))\n",
    "```"
   ]
  },
  {
   "cell_type": "code",
   "execution_count": 18,
   "metadata": {},
   "outputs": [
    {
     "data": {
      "text/plain": [
       "defined \u001b[32mfunction\u001b[39m \u001b[36msplit\u001b[39m\n",
       "\u001b[36mres17_1\u001b[39m: (\u001b[32mList\u001b[39m[\u001b[32mSymbol\u001b[39m], \u001b[32mList\u001b[39m[\u001b[32mSymbol\u001b[39m]) = (\u001b[33mList\u001b[39m(\u001b[32m'a\u001b[39m, \u001b[32m'b\u001b[39m, \u001b[32m'c\u001b[39m), \u001b[33mList\u001b[39m(\u001b[32m'd\u001b[39m, \u001b[32m'e\u001b[39m, \u001b[32m'f\u001b[39m, \u001b[32m'g\u001b[39m, \u001b[32m'h\u001b[39m, \u001b[32m'i\u001b[39m, \u001b[32m'j\u001b[39m, \u001b[32m'k\u001b[39m))\n",
       "\u001b[36mres17_2\u001b[39m: (\u001b[32mList\u001b[39m[\u001b[32mSymbol\u001b[39m], \u001b[32mList\u001b[39m[\u001b[32mSymbol\u001b[39m]) = (\u001b[33mList\u001b[39m(), \u001b[33mList\u001b[39m(\u001b[32m'a\u001b[39m, \u001b[32m'b\u001b[39m, \u001b[32m'c\u001b[39m, \u001b[32m'd\u001b[39m, \u001b[32m'e\u001b[39m, \u001b[32m'f\u001b[39m, \u001b[32m'g\u001b[39m, \u001b[32m'h\u001b[39m, \u001b[32m'i\u001b[39m, \u001b[32m'j\u001b[39m, \u001b[32m'k\u001b[39m))\n",
       "\u001b[36mres17_3\u001b[39m: (\u001b[32mList\u001b[39m[\u001b[32mSymbol\u001b[39m], \u001b[32mList\u001b[39m[\u001b[32mSymbol\u001b[39m]) = (\u001b[33mList\u001b[39m(\u001b[32m'a\u001b[39m, \u001b[32m'b\u001b[39m, \u001b[32m'c\u001b[39m, \u001b[32m'd\u001b[39m, \u001b[32m'e\u001b[39m, \u001b[32m'f\u001b[39m, \u001b[32m'g\u001b[39m, \u001b[32m'h\u001b[39m, \u001b[32m'i\u001b[39m, \u001b[32m'j\u001b[39m, \u001b[32m'k\u001b[39m), \u001b[33mList\u001b[39m())"
      ]
     },
     "execution_count": 18,
     "metadata": {},
     "output_type": "execute_result"
    }
   ],
   "source": [
    "def split[T](i: Int, x: List[T]): (List[T], List[T]) = {\n",
    "  def inner(j: Int, o1: List[T], o2: List[T]): (List[T], List[T]) = {\n",
    "    if (j <= 0) (o1.reverse, o2)\n",
    "    else {\n",
    "      o2 match {\n",
    "        case Nil => throw new IndexOutOfBoundsException()\n",
    "        case a :: as => inner(j-1, a :: o1, as)\n",
    "      }\n",
    "    }\n",
    "  }\n",
    "  inner(i, Nil, x)\n",
    "}\n",
    "split(3, List('a, 'b, 'c, 'd, 'e, 'f, 'g, 'h, 'i, 'j, 'k))\n",
    "split(0, List('a, 'b, 'c, 'd, 'e, 'f, 'g, 'h, 'i, 'j, 'k))\n",
    "split(11, List('a, 'b, 'c, 'd, 'e, 'f, 'g, 'h, 'i, 'j, 'k))\n",
    "//split(12, List('a, 'b, 'c, 'd, 'e, 'f, 'g, 'h, 'i, 'j, 'k))  // error case"
   ]
  },
  {
   "cell_type": "markdown",
   "metadata": {},
   "source": [
    "### P18 (**) Extract a slice from a list.\n",
    "\n",
    "Given two indices, I and K, the slice is the list containing the elements from and including the Ith element up to but not including the Kth element of the original list. Start counting the elements with 0.\n",
    "\n",
    "Example:\n",
    "\n",
    "```scala\n",
    "scala> slice(3, 7, List('a, 'b, 'c, 'd, 'e, 'f, 'g, 'h, 'i, 'j, 'k))\n",
    "res0: List[Symbol] = List('d, 'e, 'f, 'g)\n",
    "```"
   ]
  },
  {
   "cell_type": "code",
   "execution_count": 19,
   "metadata": {},
   "outputs": [
    {
     "data": {
      "text/plain": [
       "defined \u001b[32mfunction\u001b[39m \u001b[36mslice\u001b[39m\n",
       "\u001b[36mres18_1\u001b[39m: \u001b[32mList\u001b[39m[\u001b[32mSymbol\u001b[39m] = \u001b[33mList\u001b[39m(\u001b[32m'd\u001b[39m, \u001b[32m'e\u001b[39m, \u001b[32m'f\u001b[39m, \u001b[32m'g\u001b[39m)"
      ]
     },
     "execution_count": 19,
     "metadata": {},
     "output_type": "execute_result"
    }
   ],
   "source": [
    "def slice[T](i: Int, j: Int, x: List[T]): List[T] = {\n",
    "  def helper(k: Int, y: List[T]): List[T] = if (k <= 0) y else helper(k-1, y.tail)\n",
    "  // `helper` returns y[k:]  \n",
    "  helper(i, x).take(j-i)  \n",
    "}\n",
    "slice(3, 7, List('a, 'b, 'c, 'd, 'e, 'f, 'g, 'h, 'i, 'j, 'k))"
   ]
  },
  {
   "cell_type": "markdown",
   "metadata": {},
   "source": [
    "### P19 (**) Rotate a list N places to the left.\n",
    "\n",
    "Examples:\n",
    "\n",
    "```scala\n",
    "scala> rotate(3, List('a, 'b, 'c, 'd, 'e, 'f, 'g, 'h, 'i, 'j, 'k))\n",
    "res0: List[Symbol] = List('d, 'e, 'f, 'g, 'h, 'i, 'j, 'k, 'a, 'b, 'c)\n",
    "```\n",
    "```scala\n",
    "scala> rotate(-2, List('a, 'b, 'c, 'd, 'e, 'f, 'g, 'h, 'i, 'j, 'k))\n",
    "res1: List[Symbol] = List('j, 'k, 'a, 'b, 'c, 'd, 'e, 'f, 'g, 'h, 'i)\n",
    "```"
   ]
  },
  {
   "cell_type": "code",
   "execution_count": 20,
   "metadata": {},
   "outputs": [
    {
     "data": {
      "text/plain": [
       "defined \u001b[32mfunction\u001b[39m \u001b[36mrotate\u001b[39m\n",
       "\u001b[36mres19_1\u001b[39m: \u001b[32mList\u001b[39m[\u001b[32mSymbol\u001b[39m] = \u001b[33mList\u001b[39m(\u001b[32m'd\u001b[39m, \u001b[32m'e\u001b[39m, \u001b[32m'f\u001b[39m, \u001b[32m'g\u001b[39m, \u001b[32m'h\u001b[39m, \u001b[32m'i\u001b[39m, \u001b[32m'j\u001b[39m, \u001b[32m'k\u001b[39m, \u001b[32m'a\u001b[39m, \u001b[32m'b\u001b[39m, \u001b[32m'c\u001b[39m)\n",
       "\u001b[36mres19_2\u001b[39m: \u001b[32mList\u001b[39m[\u001b[32mSymbol\u001b[39m] = \u001b[33mList\u001b[39m(\u001b[32m'j\u001b[39m, \u001b[32m'k\u001b[39m, \u001b[32m'a\u001b[39m, \u001b[32m'b\u001b[39m, \u001b[32m'c\u001b[39m, \u001b[32m'd\u001b[39m, \u001b[32m'e\u001b[39m, \u001b[32m'f\u001b[39m, \u001b[32m'g\u001b[39m, \u001b[32m'h\u001b[39m, \u001b[32m'i\u001b[39m)\n",
       "\u001b[36mres19_3\u001b[39m: \u001b[32mList\u001b[39m[\u001b[32mSymbol\u001b[39m] = \u001b[33mList\u001b[39m(\u001b[32m'a\u001b[39m, \u001b[32m'b\u001b[39m, \u001b[32m'c\u001b[39m, \u001b[32m'd\u001b[39m, \u001b[32m'e\u001b[39m, \u001b[32m'f\u001b[39m, \u001b[32m'g\u001b[39m, \u001b[32m'h\u001b[39m, \u001b[32m'i\u001b[39m, \u001b[32m'j\u001b[39m, \u001b[32m'k\u001b[39m)\n",
       "\u001b[36mres19_4\u001b[39m: \u001b[32mList\u001b[39m[\u001b[32mSymbol\u001b[39m] = \u001b[33mList\u001b[39m(\u001b[32m'a\u001b[39m, \u001b[32m'b\u001b[39m, \u001b[32m'c\u001b[39m, \u001b[32m'd\u001b[39m, \u001b[32m'e\u001b[39m, \u001b[32m'f\u001b[39m, \u001b[32m'g\u001b[39m, \u001b[32m'h\u001b[39m, \u001b[32m'i\u001b[39m, \u001b[32m'j\u001b[39m, \u001b[32m'k\u001b[39m)\n",
       "\u001b[36mres19_5\u001b[39m: \u001b[32mList\u001b[39m[\u001b[32mSymbol\u001b[39m] = \u001b[33mList\u001b[39m(\u001b[32m'a\u001b[39m, \u001b[32m'b\u001b[39m, \u001b[32m'c\u001b[39m, \u001b[32m'd\u001b[39m, \u001b[32m'e\u001b[39m, \u001b[32m'f\u001b[39m, \u001b[32m'g\u001b[39m, \u001b[32m'h\u001b[39m, \u001b[32m'i\u001b[39m, \u001b[32m'j\u001b[39m, \u001b[32m'k\u001b[39m)"
      ]
     },
     "execution_count": 20,
     "metadata": {},
     "output_type": "execute_result"
    }
   ],
   "source": [
    "def rotate[T](i: Int, x: List[T]): List[T] = {\n",
    "  lazy val n = x.length\n",
    "  val j = if (i >= 0) i else n + i\n",
    "  assert(j >= 0 && j <= n)\n",
    "  def inner(k: Int, o1: List[T], o2: List[T]): List[T] = {\n",
    "    if (k <= 0) o1 ++ o2.reverse \n",
    "    else        inner(k-1, o1.tail, o1.head :: o2)\n",
    "  }\n",
    "  inner(j, x, Nil)\n",
    "}\n",
    "rotate(3, List('a, 'b, 'c, 'd, 'e, 'f, 'g, 'h, 'i, 'j, 'k))\n",
    "rotate(-2, List('a, 'b, 'c, 'd, 'e, 'f, 'g, 'h, 'i, 'j, 'k))\n",
    "//rotate(12, List('a, 'b, 'c, 'd, 'e, 'f, 'g, 'h, 'i, 'j, 'k))   // error\n",
    "rotate(11, List('a, 'b, 'c, 'd, 'e, 'f, 'g, 'h, 'i, 'j, 'k))\n",
    "rotate(0, List('a, 'b, 'c, 'd, 'e, 'f, 'g, 'h, 'i, 'j, 'k))\n",
    "rotate(-11, List('a, 'b, 'c, 'd, 'e, 'f, 'g, 'h, 'i, 'j, 'k))\n",
    "//rotate(-12, List('a, 'b, 'c, 'd, 'e, 'f, 'g, 'h, 'i, 'j, 'k))  // error\n"
   ]
  },
  {
   "cell_type": "markdown",
   "metadata": {},
   "source": [
    "### P20 (*) Remove the Kth element from a list.\n",
    "\n",
    "Return the list and the removed element in a Tuple. Elements are numbered from 0.\n",
    "\n",
    "Example:\n",
    "\n",
    "```scala\n",
    "scala> removeAt(1, List('a, 'b, 'c, 'd))\n",
    "res0: (List[Symbol], Symbol) = (List('a, 'c, 'd),'b)\n",
    "```"
   ]
  },
  {
   "cell_type": "code",
   "execution_count": 21,
   "metadata": {},
   "outputs": [
    {
     "data": {
      "text/plain": [
       "defined \u001b[32mfunction\u001b[39m \u001b[36mremoveAt\u001b[39m\n",
       "\u001b[36mres20_1\u001b[39m: (\u001b[32mList\u001b[39m[\u001b[32mSymbol\u001b[39m], \u001b[32mSymbol\u001b[39m) = (\u001b[33mList\u001b[39m(\u001b[32m'a\u001b[39m, \u001b[32m'c\u001b[39m, \u001b[32m'd\u001b[39m), \u001b[32m'b\u001b[39m)\n",
       "\u001b[36mres20_2\u001b[39m: (\u001b[32mList\u001b[39m[\u001b[32mSymbol\u001b[39m], \u001b[32mSymbol\u001b[39m) = (\u001b[33mList\u001b[39m(\u001b[32m'b\u001b[39m, \u001b[32m'c\u001b[39m, \u001b[32m'd\u001b[39m), \u001b[32m'a\u001b[39m)\n",
       "\u001b[36mres20_3\u001b[39m: (\u001b[32mList\u001b[39m[\u001b[32mSymbol\u001b[39m], \u001b[32mSymbol\u001b[39m) = (\u001b[33mList\u001b[39m(\u001b[32m'a\u001b[39m, \u001b[32m'b\u001b[39m, \u001b[32m'c\u001b[39m), \u001b[32m'd\u001b[39m)"
      ]
     },
     "execution_count": 21,
     "metadata": {},
     "output_type": "execute_result"
    }
   ],
   "source": [
    "def removeAt[T](i: Int, x: List[T]): (List[T], T) = {\n",
    "  def inner(j: Int, o1: List[T], o2: List[T]): (List[T], T) = {\n",
    "    if (j==0) (o1.reverse ++ o2.tail, o2.head) \n",
    "    else      inner(j-1, o2.head :: o1, o2.tail)\n",
    "  }\n",
    "  inner(i, Nil, x)  \n",
    "}\n",
    "removeAt(1, List('a, 'b, 'c, 'd))\n",
    "removeAt(0, List('a, 'b, 'c, 'd))\n",
    "removeAt(3, List('a, 'b, 'c, 'd))\n",
    "//removeAt(4, List('a, 'b, 'c, 'd))   // error"
   ]
  },
  {
   "cell_type": "markdown",
   "metadata": {},
   "source": [
    "### P21 (*) Insert an element at a given position into a list.\n",
    "\n",
    "Example:\n",
    "\n",
    "```scala\n",
    "scala> insertAt('new, 1, List('a, 'b, 'c, 'd))\n",
    "res0: List[Symbol] = List('a, 'new, 'b, 'c, 'd)\n",
    "```"
   ]
  },
  {
   "cell_type": "code",
   "execution_count": 22,
   "metadata": {},
   "outputs": [
    {
     "data": {
      "text/plain": [
       "defined \u001b[32mfunction\u001b[39m \u001b[36minsertAt\u001b[39m\n",
       "\u001b[36mres21_1\u001b[39m: \u001b[32mList\u001b[39m[\u001b[32mSymbol\u001b[39m] = \u001b[33mList\u001b[39m(\u001b[32m'a\u001b[39m, \u001b[32m'new\u001b[39m, \u001b[32m'b\u001b[39m, \u001b[32m'c\u001b[39m, \u001b[32m'd\u001b[39m)"
      ]
     },
     "execution_count": 22,
     "metadata": {},
     "output_type": "execute_result"
    }
   ],
   "source": [
    "def insertAt[T](elem: T, i: Int, x: List[T]): List[T] = {\n",
    "  def inner(j: Int, o1: List[T], o2: List[T]): List[T] = {\n",
    "    if (j==0) o1.reverse ++ (elem :: o2)\n",
    "    else      inner(j-1, o2.head :: o1, o2.tail)\n",
    "  }\n",
    "  inner(i, Nil, x)\n",
    "}\n",
    "insertAt('new, 1, List('a, 'b, 'c, 'd))"
   ]
  },
  {
   "cell_type": "markdown",
   "metadata": {},
   "source": [
    "### P22 (*) Create a list containing all integers within a given range.\n",
    "\n",
    "Example:\n",
    "\n",
    "```scala\n",
    "scala> range(4, 9)\n",
    "res0: List[Int] = List(4, 5, 6, 7, 8, 9)\n",
    "```"
   ]
  },
  {
   "cell_type": "code",
   "execution_count": 23,
   "metadata": {},
   "outputs": [
    {
     "data": {
      "text/plain": [
       "defined \u001b[32mfunction\u001b[39m \u001b[36mrange\u001b[39m\n",
       "\u001b[36mres22_1\u001b[39m: \u001b[32mList\u001b[39m[\u001b[32mInt\u001b[39m] = \u001b[33mList\u001b[39m(\u001b[32m4\u001b[39m, \u001b[32m5\u001b[39m, \u001b[32m6\u001b[39m, \u001b[32m7\u001b[39m, \u001b[32m8\u001b[39m, \u001b[32m9\u001b[39m)"
      ]
     },
     "execution_count": 23,
     "metadata": {},
     "output_type": "execute_result"
    }
   ],
   "source": [
    "def range(i: Int, j: Int): List[Int] = (i to j).toList\n",
    "range(4, 9)"
   ]
  },
  {
   "cell_type": "markdown",
   "metadata": {},
   "source": [
    "### P23 (**) Extract a given number of randomly selected elements from a list.\n",
    "\n",
    "Example:\n",
    "\n",
    "```scala\n",
    "scala> randomSelect(3, List('a, 'b, 'c, 'd, 'f, 'g, 'h))\n",
    "res0: List[Symbol] = List('e, 'd, 'a)\n",
    "```\n",
    "\n",
    "Hint: Use the solution to problem P20"
   ]
  },
  {
   "cell_type": "code",
   "execution_count": 24,
   "metadata": {},
   "outputs": [
    {
     "data": {
      "text/plain": [
       "defined \u001b[32mfunction\u001b[39m \u001b[36mrandomSelect\u001b[39m\n",
       "\u001b[36mres23_1\u001b[39m: \u001b[32mList\u001b[39m[\u001b[32mSymbol\u001b[39m] = \u001b[33mList\u001b[39m(\u001b[32m'h\u001b[39m, \u001b[32m'c\u001b[39m, \u001b[32m'g\u001b[39m)"
      ]
     },
     "execution_count": 24,
     "metadata": {},
     "output_type": "execute_result"
    }
   ],
   "source": [
    "def randomSelect[T](n: Int, x: List[T]): List[T] = {\n",
    "  val rnd = scala.util.Random\n",
    "  def inner(acc: List[T], y: List[T], ysize:Int, m: Int): List[T] = {    \n",
    "    if (m==0) acc\n",
    "    else {\n",
    "      val tmp = removeAt(rnd.nextInt(ysize), y)\n",
    "      inner(tmp._2 :: acc, tmp._1, ysize-1, m-1)\n",
    "    }\n",
    "  }\n",
    "  inner(Nil, x, x.length, n)\n",
    "}\n",
    "randomSelect(3, List('a, 'b, 'c, 'd, 'f, 'g, 'h))"
   ]
  },
  {
   "cell_type": "markdown",
   "metadata": {},
   "source": [
    "### P24 (*) Lotto: Draw N different random numbers from the set 1..M.\n",
    "\n",
    "Example:\n",
    "\n",
    "```scala\n",
    "scala> lotto(6, 49)\n",
    "res0: List[Int] = List(23, 1, 17, 33, 21, 37)\n",
    "```"
   ]
  },
  {
   "cell_type": "code",
   "execution_count": 25,
   "metadata": {},
   "outputs": [
    {
     "data": {
      "text/plain": [
       "defined \u001b[32mfunction\u001b[39m \u001b[36mlotto\u001b[39m\n",
       "\u001b[36mres24_1\u001b[39m: \u001b[32mList\u001b[39m[\u001b[32mInt\u001b[39m] = \u001b[33mList\u001b[39m(\u001b[32m26\u001b[39m, \u001b[32m14\u001b[39m, \u001b[32m28\u001b[39m, \u001b[32m13\u001b[39m, \u001b[32m15\u001b[39m, \u001b[32m42\u001b[39m)"
      ]
     },
     "execution_count": 25,
     "metadata": {},
     "output_type": "execute_result"
    }
   ],
   "source": [
    "def lotto(n: Int, m: Int): List[Int] = randomSelect(n, (1 to m).toList)\n",
    "lotto(6, 49)"
   ]
  },
  {
   "cell_type": "markdown",
   "metadata": {},
   "source": [
    "### P25 (*) Generate a random permutation of the elements of a list.\n",
    "\n",
    "Hint: Use the solution of problem P23.\n",
    "\n",
    "Example:\n",
    "\n",
    "```scala\n",
    "scala> randomPermute(List('a, 'b, 'c, 'd, 'e, 'f))\n",
    "res0: List[Symbol] = List('b, 'a, 'd, 'c, 'e, 'f)\n",
    "```"
   ]
  },
  {
   "cell_type": "code",
   "execution_count": 26,
   "metadata": {},
   "outputs": [
    {
     "data": {
      "text/plain": [
       "defined \u001b[32mfunction\u001b[39m \u001b[36mrandomPermute\u001b[39m\n",
       "\u001b[36mres25_1\u001b[39m: \u001b[32mList\u001b[39m[\u001b[32mSymbol\u001b[39m] = \u001b[33mList\u001b[39m(\u001b[32m'c\u001b[39m, \u001b[32m'f\u001b[39m, \u001b[32m'd\u001b[39m, \u001b[32m'e\u001b[39m, \u001b[32m'b\u001b[39m, \u001b[32m'a\u001b[39m)"
      ]
     },
     "execution_count": 26,
     "metadata": {},
     "output_type": "execute_result"
    }
   ],
   "source": [
    "def randomPermute[T](x: List[T]): List[T] = randomSelect(x.length, x)\n",
    "randomPermute(List('a, 'b, 'c, 'd, 'e, 'f))"
   ]
  },
  {
   "cell_type": "markdown",
   "metadata": {},
   "source": [
    "### P26 (**) Generate the combinations of K distinct objects chosen from the N elements of a list.\n",
    "\n",
    "In how many ways can a committee of 3 be chosen from a group of 12 people? We all know that there are C(12,3) = 220 possibilities (C(N,K) denotes the well-known binomial coefficient). For pure mathematicians, this result may be great. But we want to really generate all the possibilities.\n",
    "\n",
    "Example:\n",
    "\n",
    "```scala\n",
    "scala> combinations(3, List('a, 'b, 'c, 'd, 'e, 'f))\n",
    "res0: List[List[Symbol]] = List(List('a, 'b, 'c), List('a, 'b, 'd), List('a, 'b, 'e), ...\n",
    "```"
   ]
  },
  {
   "cell_type": "code",
   "execution_count": 35,
   "metadata": {},
   "outputs": [
    {
     "data": {
      "text/plain": [
       "defined \u001b[32mfunction\u001b[39m \u001b[36mcombinations\u001b[39m\n",
       "\u001b[36ma1\u001b[39m: \u001b[32mList\u001b[39m[\u001b[32mList\u001b[39m[\u001b[32mSymbol\u001b[39m]] = \u001b[33mList\u001b[39m(\u001b[33mList\u001b[39m(\u001b[32m'a\u001b[39m), \u001b[33mList\u001b[39m(\u001b[32m'b\u001b[39m), \u001b[33mList\u001b[39m(\u001b[32m'c\u001b[39m), \u001b[33mList\u001b[39m(\u001b[32m'd\u001b[39m), \u001b[33mList\u001b[39m(\u001b[32m'e\u001b[39m), \u001b[33mList\u001b[39m(\u001b[32m'f\u001b[39m))\n",
       "\u001b[36mres34_2\u001b[39m: \u001b[32mInt\u001b[39m = \u001b[32m6\u001b[39m\n",
       "\u001b[36ma2\u001b[39m: \u001b[32mList\u001b[39m[\u001b[32mList\u001b[39m[\u001b[32mSymbol\u001b[39m]] = \u001b[33mList\u001b[39m(\n",
       "  \u001b[33mList\u001b[39m(\u001b[32m'a\u001b[39m, \u001b[32m'b\u001b[39m),\n",
       "  \u001b[33mList\u001b[39m(\u001b[32m'a\u001b[39m, \u001b[32m'c\u001b[39m),\n",
       "  \u001b[33mList\u001b[39m(\u001b[32m'b\u001b[39m, \u001b[32m'c\u001b[39m),\n",
       "  \u001b[33mList\u001b[39m(\u001b[32m'a\u001b[39m, \u001b[32m'd\u001b[39m),\n",
       "  \u001b[33mList\u001b[39m(\u001b[32m'b\u001b[39m, \u001b[32m'd\u001b[39m),\n",
       "  \u001b[33mList\u001b[39m(\u001b[32m'c\u001b[39m, \u001b[32m'd\u001b[39m),\n",
       "  \u001b[33mList\u001b[39m(\u001b[32m'a\u001b[39m, \u001b[32m'e\u001b[39m),\n",
       "  \u001b[33mList\u001b[39m(\u001b[32m'b\u001b[39m, \u001b[32m'e\u001b[39m),\n",
       "  \u001b[33mList\u001b[39m(\u001b[32m'c\u001b[39m, \u001b[32m'e\u001b[39m),\n",
       "  \u001b[33mList\u001b[39m(\u001b[32m'd\u001b[39m, \u001b[32m'e\u001b[39m),\n",
       "  \u001b[33mList\u001b[39m(\u001b[32m'a\u001b[39m, \u001b[32m'f\u001b[39m),\n",
       "\u001b[33m...\u001b[39m\n",
       "\u001b[36mres34_4\u001b[39m: \u001b[32mInt\u001b[39m = \u001b[32m15\u001b[39m\n",
       "\u001b[36ma3\u001b[39m: \u001b[32mList\u001b[39m[\u001b[32mList\u001b[39m[\u001b[32mSymbol\u001b[39m]] = \u001b[33mList\u001b[39m(\n",
       "  \u001b[33mList\u001b[39m(\u001b[32m'a\u001b[39m, \u001b[32m'b\u001b[39m, \u001b[32m'c\u001b[39m),\n",
       "  \u001b[33mList\u001b[39m(\u001b[32m'a\u001b[39m, \u001b[32m'b\u001b[39m, \u001b[32m'd\u001b[39m),\n",
       "  \u001b[33mList\u001b[39m(\u001b[32m'a\u001b[39m, \u001b[32m'c\u001b[39m, \u001b[32m'd\u001b[39m),\n",
       "  \u001b[33mList\u001b[39m(\u001b[32m'b\u001b[39m, \u001b[32m'c\u001b[39m, \u001b[32m'd\u001b[39m),\n",
       "  \u001b[33mList\u001b[39m(\u001b[32m'a\u001b[39m, \u001b[32m'b\u001b[39m, \u001b[32m'e\u001b[39m),\n",
       "  \u001b[33mList\u001b[39m(\u001b[32m'a\u001b[39m, \u001b[32m'c\u001b[39m, \u001b[32m'e\u001b[39m),\n",
       "  \u001b[33mList\u001b[39m(\u001b[32m'b\u001b[39m, \u001b[32m'c\u001b[39m, \u001b[32m'e\u001b[39m),\n",
       "  \u001b[33mList\u001b[39m(\u001b[32m'a\u001b[39m, \u001b[32m'd\u001b[39m, \u001b[32m'e\u001b[39m),\n",
       "  \u001b[33mList\u001b[39m(\u001b[32m'b\u001b[39m, \u001b[32m'd\u001b[39m, \u001b[32m'e\u001b[39m),\n",
       "  \u001b[33mList\u001b[39m(\u001b[32m'c\u001b[39m, \u001b[32m'd\u001b[39m, \u001b[32m'e\u001b[39m),\n",
       "  \u001b[33mList\u001b[39m(\u001b[32m'a\u001b[39m, \u001b[32m'b\u001b[39m, \u001b[32m'f\u001b[39m),\n",
       "\u001b[33m...\u001b[39m\n",
       "\u001b[36mres34_6\u001b[39m: \u001b[32mInt\u001b[39m = \u001b[32m20\u001b[39m\n",
       "\u001b[36ma5\u001b[39m: \u001b[32mList\u001b[39m[\u001b[32mList\u001b[39m[\u001b[32mSymbol\u001b[39m]] = \u001b[33mList\u001b[39m(\n",
       "  \u001b[33mList\u001b[39m(\u001b[32m'a\u001b[39m, \u001b[32m'b\u001b[39m, \u001b[32m'c\u001b[39m, \u001b[32m'd\u001b[39m, \u001b[32m'e\u001b[39m),\n",
       "  \u001b[33mList\u001b[39m(\u001b[32m'a\u001b[39m, \u001b[32m'b\u001b[39m, \u001b[32m'c\u001b[39m, \u001b[32m'd\u001b[39m, \u001b[32m'f\u001b[39m),\n",
       "  \u001b[33mList\u001b[39m(\u001b[32m'a\u001b[39m, \u001b[32m'b\u001b[39m, \u001b[32m'c\u001b[39m, \u001b[32m'e\u001b[39m, \u001b[32m'f\u001b[39m),\n",
       "  \u001b[33mList\u001b[39m(\u001b[32m'a\u001b[39m, \u001b[32m'b\u001b[39m, \u001b[32m'd\u001b[39m, \u001b[32m'e\u001b[39m, \u001b[32m'f\u001b[39m),\n",
       "  \u001b[33mList\u001b[39m(\u001b[32m'a\u001b[39m, \u001b[32m'c\u001b[39m, \u001b[32m'd\u001b[39m, \u001b[32m'e\u001b[39m, \u001b[32m'f\u001b[39m),\n",
       "  \u001b[33mList\u001b[39m(\u001b[32m'b\u001b[39m, \u001b[32m'c\u001b[39m, \u001b[32m'd\u001b[39m, \u001b[32m'e\u001b[39m, \u001b[32m'f\u001b[39m)\n",
       ")\n",
       "\u001b[36mres34_8\u001b[39m: \u001b[32mInt\u001b[39m = \u001b[32m6\u001b[39m\n",
       "\u001b[36ma6\u001b[39m: \u001b[32mList\u001b[39m[\u001b[32mList\u001b[39m[\u001b[32mSymbol\u001b[39m]] = \u001b[33mList\u001b[39m(\u001b[33mList\u001b[39m(\u001b[32m'a\u001b[39m, \u001b[32m'b\u001b[39m, \u001b[32m'c\u001b[39m, \u001b[32m'd\u001b[39m, \u001b[32m'e\u001b[39m, \u001b[32m'f\u001b[39m))\n",
       "\u001b[36mres34_10\u001b[39m: \u001b[32mInt\u001b[39m = \u001b[32m1\u001b[39m"
      ]
     },
     "execution_count": 35,
     "metadata": {},
     "output_type": "execute_result"
    }
   ],
   "source": [
    "def combinations[T](n: Int, x: List[T]): List[List[T]] = {\n",
    "  \n",
    "  // obtain the list of all indices\n",
    "  val index = (0 until x.length).toList    \n",
    "  def helper(acc: List[List[Int]], m: Int): List[List[Int]] = {\n",
    "    // accumulates the size of index list\n",
    "    if (m == 0) acc \n",
    "    else helper(for { \n",
    "                  lst <- acc; elm <- index; if elm < lst.head \n",
    "                } yield elm :: lst, m-1)    \n",
    "  }\n",
    "  val init = index map { elm => List(elm) }\n",
    "  val indexList = helper(init, n-1)\n",
    "    \n",
    "  indexList map { ind: List[Int] => ind map { i => x(i) } }\n",
    "}\n",
    "val a1 = combinations(1, List('a, 'b, 'c, 'd, 'e, 'f))\n",
    "a1.length\n",
    "val a2 = combinations(2, List('a, 'b, 'c, 'd, 'e, 'f))\n",
    "a2.length\n",
    "val a3 = combinations(3, List('a, 'b, 'c, 'd, 'e, 'f))\n",
    "a3.length\n",
    "val a5 = combinations(5, List('a, 'b, 'c, 'd, 'e, 'f))\n",
    "a5.length\n",
    "val a6 = combinations(6, List('a, 'b, 'c, 'd, 'e, 'f))\n",
    "a6.length"
   ]
  },
  {
   "cell_type": "markdown",
   "metadata": {
    "collapsed": true
   },
   "source": [
    "### P27 (**) Group the elements of a set into disjoint subsets.\n",
    "\n",
    "a) In how many ways can a group of 9 people work in 3 disjoint subgroups of 2, 3 and 4 persons? Write a function that generates all the possibilities.\n",
    "\n",
    "Example:\n",
    "\n",
    "```\n",
    "scala> group3(List(\"Aldo\", \"Beat\", \"Carla\", \"David\", \"Evi\", \"Flip\", \"Gary\", \"Hugo\", \"Ida\"))\n",
    "res0: List[List[List[String]]] = List(List(List(Aldo, Beat), List(Carla, David, Evi), List(Flip, Gary, Hugo, Ida)), ...\n",
    "```\n",
    "\n",
    "b) Generalize the above predicate in a way that we can specify a list of group sizes and the predicate will return a list of groups.\n",
    "\n",
    "Example:\n",
    "\n",
    "```\n",
    "scala> group(List(2, 2, 5), List(\"Aldo\", \"Beat\", \"Carla\", \"David\", \"Evi\", \"Flip\", \"Gary\", \"Hugo\", \"Ida\"))\n",
    "res0: List[List[List[String]]] = List(List(List(Aldo, Beat), List(Carla, David), List(Evi, Flip, Gary, Hugo, Ida)), ...\n",
    "```\n",
    "\n",
    "Note that we do not want permutations of the group members; i.e. ((Aldo, Beat), ...) is the same solution as ((Beat, Aldo), ...). However, we make a difference between ((Aldo, Beat), (Carla, David), ...) and ((Carla, David), (Aldo, Beat), ...).\n",
    "\n",
    "You may find more about this combinatorial problem in a good book on discrete mathematics under the term \"multinomial coefficients\"."
   ]
  },
  {
   "cell_type": "code",
   "execution_count": 83,
   "metadata": {},
   "outputs": [
    {
     "data": {
      "text/plain": [
       "defined \u001b[32mfunction\u001b[39m \u001b[36mgroup\u001b[39m\n",
       "defined \u001b[32mfunction\u001b[39m \u001b[36mgroup3\u001b[39m\n",
       "\u001b[36mans1\u001b[39m: \u001b[32mList\u001b[39m[\u001b[32mList\u001b[39m[\u001b[32mList\u001b[39m[\u001b[32mString\u001b[39m]]] = \u001b[33mList\u001b[39m(\n",
       "  \u001b[33mList\u001b[39m(\n",
       "    \u001b[33mList\u001b[39m(\u001b[32m\"Aldo\"\u001b[39m, \u001b[32m\"Beat\"\u001b[39m),\n",
       "    \u001b[33mList\u001b[39m(\u001b[32m\"Evi\"\u001b[39m, \u001b[32m\"Carla\"\u001b[39m, \u001b[32m\"David\"\u001b[39m),\n",
       "    \u001b[33mList\u001b[39m(\u001b[32m\"Ida\"\u001b[39m, \u001b[32m\"Hugo\"\u001b[39m, \u001b[32m\"Gary\"\u001b[39m, \u001b[32m\"Flip\"\u001b[39m)\n",
       "  ),\n",
       "  \u001b[33mList\u001b[39m(\n",
       "    \u001b[33mList\u001b[39m(\u001b[32m\"David\"\u001b[39m, \u001b[32m\"Beat\"\u001b[39m),\n",
       "    \u001b[33mList\u001b[39m(\u001b[32m\"Evi\"\u001b[39m, \u001b[32m\"Carla\"\u001b[39m, \u001b[32m\"Aldo\"\u001b[39m),\n",
       "    \u001b[33mList\u001b[39m(\u001b[32m\"Ida\"\u001b[39m, \u001b[32m\"Hugo\"\u001b[39m, \u001b[32m\"Gary\"\u001b[39m, \u001b[32m\"Flip\"\u001b[39m)\n",
       "  ),\n",
       "  \u001b[33mList\u001b[39m(\n",
       "\u001b[33m...\u001b[39m\n",
       "\u001b[36mres82_3\u001b[39m: \u001b[32mInt\u001b[39m = \u001b[32m1260\u001b[39m\n",
       "\u001b[36mans2\u001b[39m: \u001b[32mList\u001b[39m[\u001b[32mList\u001b[39m[\u001b[32mList\u001b[39m[\u001b[32mString\u001b[39m]]] = \u001b[33mList\u001b[39m(\n",
       "  \u001b[33mList\u001b[39m(\n",
       "    \u001b[33mList\u001b[39m(\u001b[32m\"Aldo\"\u001b[39m, \u001b[32m\"Beat\"\u001b[39m),\n",
       "    \u001b[33mList\u001b[39m(\u001b[32m\"Carla\"\u001b[39m, \u001b[32m\"David\"\u001b[39m),\n",
       "    \u001b[33mList\u001b[39m(\u001b[32m\"Ida\"\u001b[39m, \u001b[32m\"Hugo\"\u001b[39m, \u001b[32m\"Gary\"\u001b[39m, \u001b[32m\"Flip\"\u001b[39m, \u001b[32m\"Evi\"\u001b[39m)\n",
       "  ),\n",
       "  \u001b[33mList\u001b[39m(\n",
       "    \u001b[33mList\u001b[39m(\u001b[32m\"David\"\u001b[39m, \u001b[32m\"Beat\"\u001b[39m),\n",
       "    \u001b[33mList\u001b[39m(\u001b[32m\"Carla\"\u001b[39m, \u001b[32m\"Aldo\"\u001b[39m),\n",
       "    \u001b[33mList\u001b[39m(\u001b[32m\"Ida\"\u001b[39m, \u001b[32m\"Hugo\"\u001b[39m, \u001b[32m\"Gary\"\u001b[39m, \u001b[32m\"Flip\"\u001b[39m, \u001b[32m\"Evi\"\u001b[39m)\n",
       "  ),\n",
       "  \u001b[33mList\u001b[39m(\n",
       "\u001b[33m...\u001b[39m\n",
       "\u001b[36mres82_5\u001b[39m: \u001b[32mInt\u001b[39m = \u001b[32m756\u001b[39m\n",
       "defined \u001b[32mfunction\u001b[39m \u001b[36mfactorial\u001b[39m\n",
       "\u001b[36mres82_7\u001b[39m: \u001b[32mInt\u001b[39m = \u001b[32m1260\u001b[39m\n",
       "\u001b[36mres82_8\u001b[39m: \u001b[32mInt\u001b[39m = \u001b[32m756\u001b[39m"
      ]
     },
     "execution_count": 83,
     "metadata": {},
     "output_type": "execute_result"
    }
   ],
   "source": [
    "def group[T](numbers: List[Int], x: List[T]): List[List[List[T]]] = {\n",
    "  // return all possible assignments of elements of `x` into groups,\n",
    "  // where the number of group members are given by `numbers`     \n",
    "  def allPossibleSplit(x: List[T], m: Int): List[(List[T], List[T])] = {\n",
    "    // returns all possible ways of spliting `x` \n",
    "    // into two groups of sizes m and x.length - m\n",
    "    val x1: List[List[T]] = combinations(m, x)\n",
    "    val x2: List[List[T]] = x1 map { lst => (x.toSet diff lst.toSet).toList }\n",
    "    x1.zip(x2) \n",
    "  }\n",
    "    \n",
    "  def helper(acc: List[(List[List[T]], List[T])], nums: List[Int]): List[List[List[T]]] = {\n",
    "    nums match {\n",
    "      case Nil => acc.map(_._1)  \n",
    "      case n :: xs => {\n",
    "        val accNew: List[(List[List[T]], List[T])] = acc\n",
    "          .map { pair => allPossibleSplit(pair._2, n).map(y => (y._1 :: pair._1, y._2)) }\n",
    "          .foldLeft(Nil: List[(List[List[T]], List[T])]) { (a, b) => a ::: b }\n",
    "        helper(accNew, xs)  \n",
    "      } \n",
    "    } \n",
    "  }\n",
    "  \n",
    "  helper(List((Nil, x.reverse)), numbers.reverse)  \n",
    "}\n",
    "\n",
    "\n",
    "def group3[T](x: List[T]): List[List[List[T]]] = {\n",
    "  group(List(2, 3, 4), x)  \n",
    "}\n",
    "\n",
    "\n",
    "val ans1 = group3(List(\"Aldo\", \"Beat\", \"Carla\", \"David\", \"Evi\", \"Flip\", \"Gary\", \"Hugo\", \"Ida\"))\n",
    "ans1.length\n",
    "\n",
    "val ans2 = group(List(2, 2, 5), List(\"Aldo\", \"Beat\", \"Carla\", \"David\", \"Evi\", \"Flip\", \"Gary\", \"Hugo\", \"Ida\"))\n",
    "ans2.length\n",
    "\n",
    "// number of ways splitting n objects into (n_1, n_2, ..., n_k) = n! / (n_1! n_2! ... n_k!)\n",
    "// for n = 9, and (2, 3, 4):\n",
    "def factorial(n: Int): Int = { if (n <= 1) 1 else n*factorial(n-1) }\n",
    "factorial(9) / (factorial(2) * factorial(3) * factorial(4))\n",
    "// for n = 9 and (2, 2, 5):\n",
    "factorial(9) / (factorial(2) * factorial(2) * factorial(5))"
   ]
  },
  {
   "cell_type": "markdown",
   "metadata": {},
   "source": [
    "### P28 (**) Sorting a list of lists according to length of sublists.\n",
    "    \n",
    "a) We suppose that a list contains elements that are lists themselves. The objective is to sort the elements of the list according to their length. E.g. short lists first, longer lists later, or vice versa.\n",
    "\n",
    "Example:\n",
    "\n",
    "```scala    \n",
    "scala> lsort(List(List('a, 'b, 'c), List('d, 'e), List('f, 'g, 'h), List('d, 'e), List('i, 'j, 'k, 'l), List('m, 'n), List('o)))\n",
    "res0: List[List[Symbol]] = List(List('o), List('d, 'e), List('d, 'e), List('m, 'n), List('a, 'b, 'c), List('f, 'g, 'h), List('i, 'j, 'k, 'l))\n",
    "```\n",
    "\n",
    "b) Again, we suppose that a list contains elements that are lists themselves. But this time the objective is to sort the elements according to their length frequency; i.e. in the default, sorting is done ascendingly, lists with rare lengths are placed, others with a more frequent length come later.\n",
    "\n",
    "Example:\n",
    "\n",
    "```scala\n",
    "scala> lsortFreq(List(List('a, 'b, 'c), List('d, 'e), List('f, 'g, 'h), List('d, 'e), List('i, 'j, 'k, 'l), List('m, 'n), List('o)))\n",
    "res1: List[List[Symbol]] = List(List('i, 'j, 'k, 'l), List('o), List('a, 'b, 'c), List('f, 'g, 'h), List('d, 'e), List('d, 'e), List('m, 'n))\n",
    "```\n",
    "\n",
    "Note that in the above example, the first two lists in the result have length 4 and 1 and both lengths appear just once. The third and fourth lists have length 3 and there are two list of this length. Finally, the last three lists have length 2. This is the most frequent length."
   ]
  },
  {
   "cell_type": "code",
   "execution_count": 97,
   "metadata": {},
   "outputs": [
    {
     "data": {
      "text/plain": [
       "defined \u001b[32mfunction\u001b[39m \u001b[36mlsort\u001b[39m\n",
       "\u001b[36mres96_1\u001b[39m: \u001b[32mList\u001b[39m[\u001b[32mList\u001b[39m[\u001b[32mSymbol\u001b[39m]] = \u001b[33mList\u001b[39m(\n",
       "  \u001b[33mList\u001b[39m(\u001b[32m'o\u001b[39m),\n",
       "  \u001b[33mList\u001b[39m(\u001b[32m'd\u001b[39m, \u001b[32m'e\u001b[39m),\n",
       "  \u001b[33mList\u001b[39m(\u001b[32m'd\u001b[39m, \u001b[32m'e\u001b[39m),\n",
       "  \u001b[33mList\u001b[39m(\u001b[32m'm\u001b[39m, \u001b[32m'n\u001b[39m),\n",
       "  \u001b[33mList\u001b[39m(\u001b[32m'a\u001b[39m, \u001b[32m'b\u001b[39m, \u001b[32m'c\u001b[39m),\n",
       "  \u001b[33mList\u001b[39m(\u001b[32m'f\u001b[39m, \u001b[32m'g\u001b[39m, \u001b[32m'h\u001b[39m),\n",
       "  \u001b[33mList\u001b[39m(\u001b[32m'i\u001b[39m, \u001b[32m'j\u001b[39m, \u001b[32m'k\u001b[39m, \u001b[32m'l\u001b[39m)\n",
       ")\n",
       "defined \u001b[32mfunction\u001b[39m \u001b[36mlsortFreq\u001b[39m\n",
       "\u001b[36mres96_3\u001b[39m: \u001b[32mList\u001b[39m[\u001b[32mList\u001b[39m[\u001b[32mSymbol\u001b[39m]] = \u001b[33mList\u001b[39m(\n",
       "  \u001b[33mList\u001b[39m(\u001b[32m'i\u001b[39m, \u001b[32m'j\u001b[39m, \u001b[32m'k\u001b[39m, \u001b[32m'l\u001b[39m),\n",
       "  \u001b[33mList\u001b[39m(\u001b[32m'o\u001b[39m),\n",
       "  \u001b[33mList\u001b[39m(\u001b[32m'a\u001b[39m, \u001b[32m'b\u001b[39m, \u001b[32m'c\u001b[39m),\n",
       "  \u001b[33mList\u001b[39m(\u001b[32m'f\u001b[39m, \u001b[32m'g\u001b[39m, \u001b[32m'h\u001b[39m),\n",
       "  \u001b[33mList\u001b[39m(\u001b[32m'd\u001b[39m, \u001b[32m'e\u001b[39m),\n",
       "  \u001b[33mList\u001b[39m(\u001b[32m'd\u001b[39m, \u001b[32m'e\u001b[39m),\n",
       "  \u001b[33mList\u001b[39m(\u001b[32m'm\u001b[39m, \u001b[32m'n\u001b[39m)\n",
       ")"
      ]
     },
     "execution_count": 97,
     "metadata": {},
     "output_type": "execute_result"
    }
   ],
   "source": [
    "def lsort[T](x: List[List[T]]): List[List[T]] = {\n",
    "  x.sortWith((u: List[T], v: List[T]) => u.length < v.length)  \n",
    "} \n",
    "lsort(List(List('a, 'b, 'c), List('d, 'e), List('f, 'g, 'h), \n",
    "           List('d, 'e), List('i, 'j, 'k, 'l), List('m, 'n), List('o)))\n",
    "\n",
    "def lsortFreq[T](x: List[List[T]]): List[List[T]] = {\n",
    "  val freqMap: Map[Int, Int] = x.groupBy(_.length).mapValues(_.length)\n",
    "  x.sortWith((u: List[T], v: List[T]) => freqMap(u.length) < freqMap(v.length))\n",
    "}\n",
    "lsortFreq(List(List('a, 'b, 'c), List('d, 'e), List('f, 'g, 'h), \n",
    "               List('d, 'e), List('i, 'j, 'k, 'l), List('m, 'n), List('o)))"
   ]
  },
  {
   "cell_type": "markdown",
   "metadata": {},
   "source": [
    "### P31 (**) Determine whether a given integer number is prime.\n",
    "\n",
    "```scala\n",
    "scala> 7.isPrime\n",
    "res0: Boolean = true\n",
    "```"
   ]
  },
  {
   "cell_type": "code",
   "execution_count": null,
   "metadata": {},
   "outputs": [],
   "source": []
  }
 ],
 "metadata": {
  "kernelspec": {
   "display_name": "Scala",
   "language": "scala",
   "name": "scala"
  },
  "language_info": {
   "codemirror_mode": "text/x-scala",
   "file_extension": ".scala",
   "mimetype": "text/x-scala",
   "name": "scala211",
   "nbconvert_exporter": "script",
   "pygments_lexer": "scala",
   "version": "2.11.11"
  }
 },
 "nbformat": 4,
 "nbformat_minor": 2
}
